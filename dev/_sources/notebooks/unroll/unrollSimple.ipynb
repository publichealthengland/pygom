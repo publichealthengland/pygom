{
 "cells": [
  {
   "cell_type": "markdown",
   "metadata": {},
   "source": [
    "# Deducing transitions from equations\n",
    "\n",
    "Deducing ODEs from transitions is as simple as adding up all the different flows in and out of each state.\n",
    "In this process, information is lost regarding the nature (origin and destination) of the constituent transitions and so the reverse problem, deducing transitions from ODEs, is more difficult.\n",
    "PyGOM includes some tools to attempt to distinguish the implied flows between compartments given a set of equations, but given that multiple underlying flow configurations can separately explain an ODE system, this functionality should be used with caution.\n",
    "Here we demonstrate how this works in practice for two potentially tricky problems, the first of which is a system where the total population count is not conserved and the second is a system where a flow out of some of the compartments is split between multiple destinations.\n",
    "\n",
    "## SIR with births and deaths\n",
    "\n",
    "For our first example, let's consider the SIR model with standard incidence mixing and births and deaths proportional to the total population count, but not necessarily balanced:\n",
    "\n",
    "$$\\begin{aligned}\n",
    "\\frac{\\mathrm{d} S}{\\mathrm{d} t} &= -\\frac{\\beta SI}{N} + B N - \\mu S \\\\\n",
    "\\frac{\\mathrm{d} I}{\\mathrm{d} t} &= \\frac{\\beta SI}{N} - \\gamma I - \\mu I \\\\\n",
    "\\frac{\\mathrm{d} R}{\\mathrm{d} t} &= \\gamma I - \\mu R \\\\\n",
    "\\frac{\\mathrm{d} N}{\\mathrm{d} t} &= (B-\\mu)N\n",
    "\\end{aligned}$$\n",
    "\n",
    "Given that the infection rate, $\\frac{\\beta SI}{N}$, depends on the total population, it is necessary to keep track of $N(t)$ in the final equation. \n",
    "Here we encounter an issue when thinking in terms of compartments:\n",
    "The total number of living individuals, $N$, is not a distinct category, rather, $S$, $I$ and $R$ are a subset of it.\n",
    "Thus, whilst valid to define a system of ODEs as we have done above, PyGOM will run into difficulties as it will interpret $N$ as a compartment.\n",
    "One solution could be to define $N$ as a time dependent parameter, however PyGOM does not currently have this functionality.\n",
    "\n",
    "Instead, we must be careful to ensure that we only pass state equations to PyGOM's transition calculating function, {func}`.get_unrolled_obj()`.\n",
    "The implication for the current example is that we eliminate the final equation and substitute $N=S+I+R$ everywhere else.\n",
    "\n",
    "Let's set up the {class}`.SimulateOde` object as usual:"
   ]
  },
  {
   "cell_type": "code",
   "execution_count": 8,
   "id": "52daed16",
   "metadata": {},
   "outputs": [],
   "source": [
    "from pygom import SimulateOde, Transition, TransitionType\n",
    "\n",
    "odeList = [\n",
    "    Transition(transition_type=TransitionType.ODE, origin='S', equation='-beta*S*I/(S+I+R) + B*(S+I+R) - mu*S'),\n",
    "    Transition(transition_type=TransitionType.ODE, origin='I', equation='beta*S*I/(S+I+R) - gamma*I - mu*I'),\n",
    "    Transition(transition_type=TransitionType.ODE, origin='R', equation='gamma*I - mu*R') \n",
    "]\n",
    "\n",
    "stateList = ['S', 'I', 'R']\n",
    "paramList = ['beta', 'gamma', 'B', 'mu']\n",
    "\n",
    "model = SimulateOde(state=stateList, param=paramList, ode=odeList)"
   ]
  },
  {
   "cell_type": "markdown",
   "id": "d712e654",
   "metadata": {},
   "source": [
    "If we now inspect the transition matrix:"
   ]
  },
  {
   "cell_type": "code",
   "execution_count": 9,
   "id": "16280343",
   "metadata": {},
   "outputs": [
    {
     "data": {
      "text/latex": [
       "$\\displaystyle \\left[\\begin{matrix}\\\\\\\\\\end{matrix}\\right]$"
      ],
      "text/plain": [
       "Matrix(3, 0, [])"
      ]
     },
     "execution_count": 9,
     "metadata": {},
     "output_type": "execute_result"
    }
   ],
   "source": [
    "model.get_StateChangeMatrix()"
   ]
  },
  {
   "cell_type": "markdown",
   "id": "669529c7",
   "metadata": {},
   "source": [
    "we see that it is empty.\n",
    "This is because {class}`.SimulateOde` was not initialized using transitions, but by ODEs.\n",
    "We can populate the transition matrix by calling an algorithm to extract the flow information:"
   ]
  },
  {
   "cell_type": "code",
   "execution_count": 10,
   "id": "768a4cd0",
   "metadata": {},
   "outputs": [
    {
     "name": "stdout",
     "output_type": "stream",
     "text": [
      "Update: In the latest version, you should define births as having a destination state instead of an origin.\n",
      "Update: In the latest version, you should define births as having a destination state instead of an origin.\n",
      "Update: In the latest version, you should define births as having a destination state instead of an origin.\n",
      "Update: In the latest version, between state transitions should be passed to SimulateODE via the Event objects.\n",
      "Update: In the latest version, birth/death transitions should be passed to SimulateODE via the Event objects.\n"
     ]
    }
   ],
   "source": [
    "model = model.get_unrolled_obj()"
   ]
  },
  {
   "cell_type": "markdown",
   "id": "5e3c78c4",
   "metadata": {},
   "source": [
    "and can verify that the calculated transition matrix now matches what we would expect:"
   ]
  },
  {
   "cell_type": "code",
   "execution_count": 11,
   "id": "5750fc80",
   "metadata": {},
   "outputs": [
    {
     "data": {
      "text/latex": [
       "$\\displaystyle \\left[\\begin{matrix}-1 & 0 & 1 & -1 & 1 & 1 & 0 & 0\\\\1 & -1 & 0 & 0 & 0 & 0 & -1 & 0\\\\0 & 1 & 0 & 0 & 0 & 0 & 0 & -1\\end{matrix}\\right]$"
      ],
      "text/plain": [
       "Matrix([\n",
       "[-1,  0, 1, -1, 1, 1,  0,  0],\n",
       "[ 1, -1, 0,  0, 0, 0, -1,  0],\n",
       "[ 0,  1, 0,  0, 0, 0,  0, -1]])"
      ]
     },
     "execution_count": 11,
     "metadata": {},
     "output_type": "execute_result"
    }
   ],
   "source": [
    "model.get_StateChangeMatrix()"
   ]
  },
  {
   "cell_type": "code",
   "execution_count": 12,
   "id": "af92a531",
   "metadata": {},
   "outputs": [
    {
     "data": {
      "text/latex": [
       "$\\displaystyle \\left[\\begin{matrix}\\frac{I S \\beta}{I + R + S}\\\\I \\gamma\\\\B S\\\\S \\mu\\\\B R\\\\B I\\\\I \\mu\\\\R \\mu\\end{matrix}\\right]$"
      ],
      "text/plain": [
       "Matrix([\n",
       "[I*S*beta/(I + R + S)],\n",
       "[             I*gamma],\n",
       "[                 B*S],\n",
       "[                S*mu],\n",
       "[                 B*R],\n",
       "[                 B*I],\n",
       "[                I*mu],\n",
       "[                R*mu]])"
      ]
     },
     "execution_count": 12,
     "metadata": {},
     "output_type": "execute_result"
    }
   ],
   "source": [
    "model.get_EventRateVector()"
   ]
  },
  {
   "cell_type": "markdown",
   "id": "a373d4c1",
   "metadata": {},
   "source": [
    "Birth and death processes are not between states, rather into and out of the system and so do not appear in the transition matrix.\n",
    "We could always get around this by defining another class (perhaps **U**nliving) as a limitless reservoir where births may come from and deaths may flow into.\n",
    "Alternatively, we can view the birth and death processes by inspecting a graph of the transitions."
   ]
  },
  {
   "cell_type": "code",
   "execution_count": 13,
   "id": "8251b87f",
   "metadata": {},
   "outputs": [
    {
     "data": {
      "image/svg+xml": [
       "<?xml version=\"1.0\" encoding=\"UTF-8\" standalone=\"no\"?>\n",
       "<!DOCTYPE svg PUBLIC \"-//W3C//DTD SVG 1.1//EN\"\n",
       " \"http://www.w3.org/Graphics/SVG/1.1/DTD/svg11.dtd\">\n",
       "<!-- Generated by graphviz version 12.0.0 (0)\n",
       " -->\n",
       "<!-- Pages: 1 -->\n",
       "<svg width=\"480pt\" height=\"107pt\"\n",
       " viewBox=\"0.00 0.00 479.69 106.72\" xmlns=\"http://www.w3.org/2000/svg\" xmlns:xlink=\"http://www.w3.org/1999/xlink\">\n",
       "<g id=\"graph0\" class=\"graph\" transform=\"scale(1 1) rotate(0) translate(4 102.72)\">\n",
       "<polygon fill=\"white\" stroke=\"none\" points=\"-4,4 -4,-102.72 475.69,-102.72 475.69,4 -4,4\"/>\n",
       "<!-- S -->\n",
       "<g id=\"node1\" class=\"node\">\n",
       "<title>S</title>\n",
       "<ellipse fill=\"none\" stroke=\"black\" cx=\"88.47\" cy=\"-40.72\" rx=\"27\" ry=\"18\"/>\n",
       "<text text-anchor=\"middle\" x=\"88.47\" y=\"-35.67\" font-family=\"Times New Roman,serif\" font-size=\"14.00\">S</text>\n",
       "</g>\n",
       "<!-- I -->\n",
       "<g id=\"node2\" class=\"node\">\n",
       "<title>I</title>\n",
       "<ellipse fill=\"none\" stroke=\"black\" cx=\"275.97\" cy=\"-60.72\" rx=\"27\" ry=\"18\"/>\n",
       "<text text-anchor=\"middle\" x=\"275.97\" y=\"-55.67\" font-family=\"Times New Roman,serif\" font-size=\"14.00\">I</text>\n",
       "</g>\n",
       "<!-- S&#45;&gt;I -->\n",
       "<g id=\"edge1\" class=\"edge\">\n",
       "<title>S&#45;&gt;I</title>\n",
       "<path fill=\"none\" stroke=\"black\" d=\"M115.26,-43.5C147.06,-46.93 201.35,-52.78 237.68,-56.7\"/>\n",
       "<polygon fill=\"black\" stroke=\"black\" points=\"236.98,-60.14 247.29,-57.74 237.73,-53.18 236.98,-60.14\"/>\n",
       "<text text-anchor=\"middle\" x=\"182.22\" y=\"-58.92\" font-family=\"Times New Roman,serif\" font-size=\"14.00\">I*S*β/(I + R + S)</text>\n",
       "</g>\n",
       "<!-- deathS3 -->\n",
       "<g id=\"node5\" class=\"node\">\n",
       "<title>deathS3</title>\n",
       "</g>\n",
       "<!-- S&#45;&gt;deathS3 -->\n",
       "<g id=\"edge4\" class=\"edge\">\n",
       "<title>S&#45;&gt;deathS3</title>\n",
       "<path fill=\"none\" stroke=\"black\" d=\"M111.43,-30.84C118.35,-28.18 126.1,-25.65 133.47,-24.22 181.2,-14.95 239.68,-17.92 263.78,-19.75\"/>\n",
       "<polygon fill=\"black\" stroke=\"black\" points=\"263.14,-23.2 273.4,-20.58 263.74,-16.23 263.14,-23.2\"/>\n",
       "<text text-anchor=\"middle\" x=\"182.22\" y=\"-26.92\" font-family=\"Times New Roman,serif\" font-size=\"14.00\">S*μ</text>\n",
       "</g>\n",
       "<!-- R -->\n",
       "<g id=\"node3\" class=\"node\">\n",
       "<title>R</title>\n",
       "<ellipse fill=\"none\" stroke=\"black\" cx=\"384.72\" cy=\"-80.72\" rx=\"27\" ry=\"18\"/>\n",
       "<text text-anchor=\"middle\" x=\"384.72\" y=\"-75.67\" font-family=\"Times New Roman,serif\" font-size=\"14.00\">R</text>\n",
       "</g>\n",
       "<!-- I&#45;&gt;R -->\n",
       "<g id=\"edge2\" class=\"edge\">\n",
       "<title>I&#45;&gt;R</title>\n",
       "<path fill=\"none\" stroke=\"black\" d=\"M302.27,-65.46C315.6,-67.96 332.19,-71.07 346.92,-73.83\"/>\n",
       "<polygon fill=\"black\" stroke=\"black\" points=\"346.27,-77.26 356.75,-75.67 347.56,-70.38 346.27,-77.26\"/>\n",
       "<text text-anchor=\"middle\" x=\"330.35\" y=\"-74.92\" font-family=\"Times New Roman,serif\" font-size=\"14.00\">I*γ</text>\n",
       "</g>\n",
       "<!-- deathI6 -->\n",
       "<g id=\"node8\" class=\"node\">\n",
       "<title>deathI6</title>\n",
       "</g>\n",
       "<!-- I&#45;&gt;deathI6 -->\n",
       "<g id=\"edge7\" class=\"edge\">\n",
       "<title>I&#45;&gt;deathI6</title>\n",
       "<path fill=\"none\" stroke=\"black\" d=\"M301.01,-53.15C307.44,-51.33 314.43,-49.53 320.97,-48.22 338.69,-44.67 359.58,-42.58 372.23,-41.55\"/>\n",
       "<polygon fill=\"black\" stroke=\"black\" points=\"372.39,-45.04 382.11,-40.83 371.88,-38.06 372.39,-45.04\"/>\n",
       "<text text-anchor=\"middle\" x=\"330.35\" y=\"-50.92\" font-family=\"Times New Roman,serif\" font-size=\"14.00\">I*μ</text>\n",
       "</g>\n",
       "<!-- deathR7 -->\n",
       "<g id=\"node9\" class=\"node\">\n",
       "<title>deathR7</title>\n",
       "</g>\n",
       "<!-- R&#45;&gt;deathR7 -->\n",
       "<g id=\"edge8\" class=\"edge\">\n",
       "<title>R&#45;&gt;deathR7</title>\n",
       "<path fill=\"none\" stroke=\"black\" d=\"M411.76,-80.72C427.7,-80.72 447.3,-80.72 459.47,-80.72\"/>\n",
       "<polygon fill=\"black\" stroke=\"black\" points=\"459.36,-84.22 469.36,-80.72 459.36,-77.22 459.36,-84.22\"/>\n",
       "<text text-anchor=\"middle\" x=\"441.35\" y=\"-83.92\" font-family=\"Times New Roman,serif\" font-size=\"14.00\">R*μ</text>\n",
       "</g>\n",
       "<!-- birthS2 -->\n",
       "<g id=\"node4\" class=\"node\">\n",
       "<title>birthS2</title>\n",
       "</g>\n",
       "<!-- birthS2&#45;&gt;S -->\n",
       "<g id=\"edge3\" class=\"edge\">\n",
       "<title>birthS2&#45;&gt;S</title>\n",
       "<path fill=\"none\" stroke=\"black\" d=\"M0.78,-80.69C2.31,-79.99 31.41,-66.57 55.48,-55.47\"/>\n",
       "<polygon fill=\"black\" stroke=\"black\" points=\"56.74,-58.75 64.35,-51.38 53.81,-52.39 56.74,-58.75\"/>\n",
       "<text text-anchor=\"middle\" x=\"31.1\" y=\"-74.92\" font-family=\"Times New Roman,serif\" font-size=\"14.00\">B*S</text>\n",
       "</g>\n",
       "<!-- birthS4 -->\n",
       "<g id=\"node6\" class=\"node\">\n",
       "<title>birthS4</title>\n",
       "</g>\n",
       "<!-- birthS4&#45;&gt;S -->\n",
       "<g id=\"edge5\" class=\"edge\">\n",
       "<title>birthS4&#45;&gt;S</title>\n",
       "<path fill=\"none\" stroke=\"black\" d=\"M0.78,-40.72C2.2,-40.72 27.18,-40.72 49.96,-40.72\"/>\n",
       "<polygon fill=\"black\" stroke=\"black\" points=\"49.69,-44.22 59.69,-40.72 49.69,-37.22 49.69,-44.22\"/>\n",
       "<text text-anchor=\"middle\" x=\"31.1\" y=\"-43.92\" font-family=\"Times New Roman,serif\" font-size=\"14.00\">B*R</text>\n",
       "</g>\n",
       "<!-- birthS5 -->\n",
       "<g id=\"node7\" class=\"node\">\n",
       "<title>birthS5</title>\n",
       "</g>\n",
       "<!-- birthS5&#45;&gt;S -->\n",
       "<g id=\"edge6\" class=\"edge\">\n",
       "<title>birthS5&#45;&gt;S</title>\n",
       "<path fill=\"none\" stroke=\"black\" d=\"M0.79,-0.75C2.2,-1.39 25.1,-11.75 43.47,-20.22 47.49,-22.07 51.71,-24.03 55.88,-25.96\"/>\n",
       "<polygon fill=\"black\" stroke=\"black\" points=\"54.09,-28.99 64.63,-30.04 57.04,-22.64 54.09,-28.99\"/>\n",
       "<text text-anchor=\"middle\" x=\"31.1\" y=\"-22.92\" font-family=\"Times New Roman,serif\" font-size=\"14.00\">B*I</text>\n",
       "</g>\n",
       "</g>\n",
       "</svg>\n"
      ],
      "text/plain": [
       "<graphviz.graphs.Digraph at 0x26ba53d9650>"
      ]
     },
     "execution_count": 13,
     "metadata": {},
     "output_type": "execute_result"
    }
   ],
   "source": [
    "graph=model.get_transition_graph(show=False)\n",
    "graph"
   ]
  },
  {
   "cell_type": "markdown",
   "id": "98da24d0",
   "metadata": {},
   "source": [
    "## SLIAR epidemic model\n",
    "\n",
    "Now we turn to a problem that does not have a one to one mapping between all the transitions and the terms in the ODEs.\n",
    "In this model, **S**usceptible individuals may be infected and enter a **L**atent phase.\n",
    "The rate at which individuals leave this state is $\\kappa$, after which a fraction, $p$, become **I**nfective and the remaining, $(1-p)$, become **A**symptomatic.\n",
    "Both these classes are capable of onward transmission, however, those in the **A** class have infectivity reduced by a factor $\\delta$ relative to the **I** class.\n",
    "All **A**symptomatics eventually become **R**emoved at a rate $\\eta$, whereas a fraction, $f$, of the infectives recover, the remaining $(1-f)$ going on to die (both at a rate $\\alpha$).\n",
    "\n",
    "The equations are as follows:\n",
    "\n",
    "$$\\begin{aligned}\n",
    "\\frac{\\mathrm{d}S}{\\mathrm{d}t} &= -\\beta S (I + \\delta A) \\\\    \n",
    "\\frac{\\mathrm{d}L}{\\mathrm{d}t} &= \\beta S (I + \\delta A) - \\kappa L \\\\  \n",
    "\\frac{\\mathrm{d}I}{\\mathrm{d}t} &= p \\kappa L - \\alpha I \\\\\n",
    "\\frac{\\mathrm{d}A}{\\mathrm{d}t} &= (1 - p) \\kappa L - \\eta A \\\\\n",
    "\\frac{\\mathrm{d}R}{\\mathrm{d}t} &= f \\alpha I + \\eta A \\\\\n",
    "\\end{aligned}$$\n",
    "\n",
    "In this case, the potential difficulty comes from the outflows of state **L** and **I**.\n",
    "For **L**, this is composed of two transitions, one to **I** and the other to **A** but the ODE of **L** only reflects the total flow going out of the state.\n",
    "Similarly for **I**, the outflow, $\\alpha I$, is partitioned as $f \\alpha I$ into state **R** with the rest assumed dead, though not explicitly stated in the equations.\n",
    "\n",
    "We set up the {class}`.SimulateOde` object for this case:"
   ]
  },
  {
   "cell_type": "code",
   "execution_count": 14,
   "id": "280c4be4",
   "metadata": {},
   "outputs": [],
   "source": [
    "from pygom import SimulateOde, Transition, TransitionType\n",
    "\n",
    "stateList = ['S', 'L', 'I', 'A', 'R']\n",
    "paramList = ['beta', 'p', 'kappa', 'alpha', 'f', 'delta', 'eta']\n",
    "odeList = [Transition(origin='S', equation='- beta*S*(I + delta*A)', transition_type=TransitionType.ODE), \n",
    "           Transition(origin='L', equation='beta*S*(I + delta*A) - kappa*L', transition_type=TransitionType.ODE),\n",
    "           Transition(origin='I', equation='p*kappa*L - alpha*I', transition_type=TransitionType.ODE),\n",
    "           Transition(origin='A', equation='(1 - p)*kappa*L - eta*A', transition_type=TransitionType.ODE),\n",
    "           Transition(origin='R', equation='f*alpha*I + eta*A', transition_type=TransitionType.ODE)]\n",
    "model = SimulateOde(stateList, paramList, ode=odeList)"
   ]
  },
  {
   "cell_type": "markdown",
   "id": "690b0785",
   "metadata": {},
   "source": [
    "Deducing the transitions and inspecting the resulting transition graph:"
   ]
  },
  {
   "cell_type": "code",
   "execution_count": 15,
   "id": "1b6cb187",
   "metadata": {},
   "outputs": [
    {
     "name": "stdout",
     "output_type": "stream",
     "text": [
      "Update: In the latest version, you should define births as having a destination state instead of an origin.\n",
      "Update: In the latest version, between state transitions should be passed to SimulateODE via the Event objects.\n",
      "Update: In the latest version, birth/death transitions should be passed to SimulateODE via the Event objects.\n"
     ]
    },
    {
     "data": {
      "image/svg+xml": [
       "<?xml version=\"1.0\" encoding=\"UTF-8\" standalone=\"no\"?>\n",
       "<!DOCTYPE svg PUBLIC \"-//W3C//DTD SVG 1.1//EN\"\n",
       " \"http://www.w3.org/Graphics/SVG/1.1/DTD/svg11.dtd\">\n",
       "<!-- Generated by graphviz version 12.0.0 (0)\n",
       " -->\n",
       "<!-- Pages: 1 -->\n",
       "<svg width=\"583pt\" height=\"121pt\"\n",
       " viewBox=\"0.00 0.00 583.25 120.72\" xmlns=\"http://www.w3.org/2000/svg\" xmlns:xlink=\"http://www.w3.org/1999/xlink\">\n",
       "<g id=\"graph0\" class=\"graph\" transform=\"scale(1 1) rotate(0) translate(4 116.72)\">\n",
       "<polygon fill=\"white\" stroke=\"none\" points=\"-4,4 -4,-116.72 579.25,-116.72 579.25,4 -4,4\"/>\n",
       "<!-- S -->\n",
       "<g id=\"node1\" class=\"node\">\n",
       "<title>S</title>\n",
       "<ellipse fill=\"none\" stroke=\"black\" cx=\"27\" cy=\"-67.72\" rx=\"27\" ry=\"18\"/>\n",
       "<text text-anchor=\"middle\" x=\"27\" y=\"-62.67\" font-family=\"Times New Roman,serif\" font-size=\"14.00\">S</text>\n",
       "</g>\n",
       "<!-- L -->\n",
       "<g id=\"node2\" class=\"node\">\n",
       "<title>L</title>\n",
       "<ellipse fill=\"none\" stroke=\"black\" cx=\"261\" cy=\"-67.72\" rx=\"27\" ry=\"18\"/>\n",
       "<text text-anchor=\"middle\" x=\"261\" y=\"-62.67\" font-family=\"Times New Roman,serif\" font-size=\"14.00\">L</text>\n",
       "</g>\n",
       "<!-- S&#45;&gt;L -->\n",
       "<g id=\"edge1\" class=\"edge\">\n",
       "<title>S&#45;&gt;L</title>\n",
       "<path fill=\"none\" stroke=\"black\" d=\"M54.16,-67.72C95.24,-67.72 175.04,-67.72 222.3,-67.72\"/>\n",
       "<polygon fill=\"black\" stroke=\"black\" points=\"222.06,-71.22 232.06,-67.72 222.06,-64.22 222.06,-71.22\"/>\n",
       "<text text-anchor=\"middle\" x=\"144\" y=\"-70.92\" font-family=\"Times New Roman,serif\" font-size=\"14.00\">A*S*&amp;bη;*δ + I*S*&amp;bη;</text>\n",
       "</g>\n",
       "<!-- I -->\n",
       "<g id=\"node3\" class=\"node\">\n",
       "<title>I</title>\n",
       "<ellipse fill=\"none\" stroke=\"black\" cx=\"428.25\" cy=\"-94.72\" rx=\"27\" ry=\"18\"/>\n",
       "<text text-anchor=\"middle\" x=\"428.25\" y=\"-89.67\" font-family=\"Times New Roman,serif\" font-size=\"14.00\">I</text>\n",
       "</g>\n",
       "<!-- L&#45;&gt;I -->\n",
       "<g id=\"edge2\" class=\"edge\">\n",
       "<title>L&#45;&gt;I</title>\n",
       "<path fill=\"none\" stroke=\"black\" d=\"M287.46,-71.88C314.91,-76.37 358.89,-83.55 390.18,-88.66\"/>\n",
       "<polygon fill=\"black\" stroke=\"black\" points=\"389.56,-92.11 400,-90.27 390.69,-85.2 389.56,-92.11\"/>\n",
       "<text text-anchor=\"middle\" x=\"344.62\" y=\"-89.92\" font-family=\"Times New Roman,serif\" font-size=\"14.00\">L*κ*p</text>\n",
       "</g>\n",
       "<!-- A -->\n",
       "<g id=\"node4\" class=\"node\">\n",
       "<title>A</title>\n",
       "<ellipse fill=\"none\" stroke=\"black\" cx=\"428.25\" cy=\"-40.72\" rx=\"27\" ry=\"18\"/>\n",
       "<text text-anchor=\"middle\" x=\"428.25\" y=\"-35.67\" font-family=\"Times New Roman,serif\" font-size=\"14.00\">A</text>\n",
       "</g>\n",
       "<!-- L&#45;&gt;A -->\n",
       "<g id=\"edge3\" class=\"edge\">\n",
       "<title>L&#45;&gt;A</title>\n",
       "<path fill=\"none\" stroke=\"black\" d=\"M285.54,-59.61C292.1,-57.6 299.27,-55.61 306,-54.22 333.8,-48.46 365.74,-45.03 389.85,-43.07\"/>\n",
       "<polygon fill=\"black\" stroke=\"black\" points=\"389.8,-46.58 399.5,-42.34 389.27,-39.6 389.8,-46.58\"/>\n",
       "<text text-anchor=\"middle\" x=\"344.62\" y=\"-56.92\" font-family=\"Times New Roman,serif\" font-size=\"14.00\">&#45;L*κ*p + L*κ</text>\n",
       "</g>\n",
       "<!-- deathI4 -->\n",
       "<g id=\"node6\" class=\"node\">\n",
       "<title>deathI4</title>\n",
       "</g>\n",
       "<!-- I&#45;&gt;deathI4 -->\n",
       "<g id=\"edge5\" class=\"edge\">\n",
       "<title>I&#45;&gt;deathI4</title>\n",
       "<path fill=\"none\" stroke=\"black\" d=\"M455.73,-94.72C480.88,-94.72 517.48,-94.72 535.85,-94.72\"/>\n",
       "<polygon fill=\"black\" stroke=\"black\" points=\"535.57,-98.22 545.57,-94.72 535.57,-91.22 535.57,-98.22\"/>\n",
       "<text text-anchor=\"middle\" x=\"488.25\" y=\"-97.92\" font-family=\"Times New Roman,serif\" font-size=\"14.00\">I*α</text>\n",
       "</g>\n",
       "<!-- R -->\n",
       "<g id=\"node5\" class=\"node\">\n",
       "<title>R</title>\n",
       "<ellipse fill=\"none\" stroke=\"black\" cx=\"548.25\" cy=\"-20.72\" rx=\"27\" ry=\"18\"/>\n",
       "<text text-anchor=\"middle\" x=\"548.25\" y=\"-15.67\" font-family=\"Times New Roman,serif\" font-size=\"14.00\">R</text>\n",
       "</g>\n",
       "<!-- A&#45;&gt;R -->\n",
       "<g id=\"edge4\" class=\"edge\">\n",
       "<title>A&#45;&gt;R</title>\n",
       "<path fill=\"none\" stroke=\"black\" d=\"M454.85,-36.38C471.09,-33.63 492.36,-30.02 510.39,-26.97\"/>\n",
       "<polygon fill=\"black\" stroke=\"black\" points=\"510.93,-30.43 520.2,-25.3 509.76,-23.52 510.93,-30.43\"/>\n",
       "<text text-anchor=\"middle\" x=\"488.25\" y=\"-35.92\" font-family=\"Times New Roman,serif\" font-size=\"14.00\">A*η</text>\n",
       "</g>\n",
       "<!-- birthR5 -->\n",
       "<g id=\"node7\" class=\"node\">\n",
       "<title>birthR5</title>\n",
       "</g>\n",
       "<!-- birthR5&#45;&gt;R -->\n",
       "<g id=\"edge6\" class=\"edge\">\n",
       "<title>birthR5&#45;&gt;R</title>\n",
       "<path fill=\"none\" stroke=\"black\" d=\"M429.37,-0.72C431.84,-0.74 471.86,-1.1 503.25,-7.22 506.41,-7.84 509.67,-8.59 512.91,-9.43\"/>\n",
       "<polygon fill=\"black\" stroke=\"black\" points=\"511.7,-12.73 522.28,-12.09 513.62,-5.99 511.7,-12.73\"/>\n",
       "<text text-anchor=\"middle\" x=\"488.25\" y=\"-9.92\" font-family=\"Times New Roman,serif\" font-size=\"14.00\">I*α*f</text>\n",
       "</g>\n",
       "</g>\n",
       "</svg>\n"
      ],
      "text/plain": [
       "<graphviz.graphs.Digraph at 0x26babd50810>"
      ]
     },
     "execution_count": 15,
     "metadata": {},
     "output_type": "execute_result"
    }
   ],
   "source": [
    "model = model.get_unrolled_obj()\n",
    "graph=model.get_transition_graph(show=False)\n",
    "graph"
   ]
  },
  {
   "cell_type": "markdown",
   "id": "00742616",
   "metadata": {},
   "source": [
    "We notice that the **L** outflow has been captured, but the outflow from **I** is assumed to be a full death process of which a fraction are born into the recovered state.\n",
    "This appearance of an incorrect, but still consistent, configuration demonstrates the difficulty in performing such reverse engineering.\n",
    "One work-around is if we explicitly introduce a dead state, $D$:"
   ]
  },
  {
   "cell_type": "code",
   "execution_count": 16,
   "id": "59ce2a8a",
   "metadata": {},
   "outputs": [
    {
     "name": "stdout",
     "output_type": "stream",
     "text": [
      "Update: In the latest version, between state transitions should be passed to SimulateODE via the Event objects.\n"
     ]
    },
    {
     "data": {
      "image/svg+xml": [
       "<?xml version=\"1.0\" encoding=\"UTF-8\" standalone=\"no\"?>\n",
       "<!DOCTYPE svg PUBLIC \"-//W3C//DTD SVG 1.1//EN\"\n",
       " \"http://www.w3.org/Graphics/SVG/1.1/DTD/svg11.dtd\">\n",
       "<!-- Generated by graphviz version 12.0.0 (0)\n",
       " -->\n",
       "<!-- Pages: 1 -->\n",
       "<svg width=\"622pt\" height=\"124pt\"\n",
       " viewBox=\"0.00 0.00 622.25 124.00\" xmlns=\"http://www.w3.org/2000/svg\" xmlns:xlink=\"http://www.w3.org/1999/xlink\">\n",
       "<g id=\"graph0\" class=\"graph\" transform=\"scale(1 1) rotate(0) translate(4 120)\">\n",
       "<polygon fill=\"white\" stroke=\"none\" points=\"-4,4 -4,-120 618.25,-120 618.25,4 -4,4\"/>\n",
       "<!-- S -->\n",
       "<g id=\"node1\" class=\"node\">\n",
       "<title>S</title>\n",
       "<ellipse fill=\"none\" stroke=\"black\" cx=\"27\" cy=\"-45\" rx=\"27\" ry=\"18\"/>\n",
       "<text text-anchor=\"middle\" x=\"27\" y=\"-39.95\" font-family=\"Times New Roman,serif\" font-size=\"14.00\">S</text>\n",
       "</g>\n",
       "<!-- L -->\n",
       "<g id=\"node2\" class=\"node\">\n",
       "<title>L</title>\n",
       "<ellipse fill=\"none\" stroke=\"black\" cx=\"261\" cy=\"-45\" rx=\"27\" ry=\"18\"/>\n",
       "<text text-anchor=\"middle\" x=\"261\" y=\"-39.95\" font-family=\"Times New Roman,serif\" font-size=\"14.00\">L</text>\n",
       "</g>\n",
       "<!-- S&#45;&gt;L -->\n",
       "<g id=\"edge1\" class=\"edge\">\n",
       "<title>S&#45;&gt;L</title>\n",
       "<path fill=\"none\" stroke=\"black\" d=\"M54.16,-45C95.24,-45 175.04,-45 222.3,-45\"/>\n",
       "<polygon fill=\"black\" stroke=\"black\" points=\"222.06,-48.5 232.06,-45 222.06,-41.5 222.06,-48.5\"/>\n",
       "<text text-anchor=\"middle\" x=\"144\" y=\"-48.2\" font-family=\"Times New Roman,serif\" font-size=\"14.00\">A*S*&amp;bη;*δ + I*S*&amp;bη;</text>\n",
       "</g>\n",
       "<!-- I -->\n",
       "<g id=\"node3\" class=\"node\">\n",
       "<title>I</title>\n",
       "<ellipse fill=\"none\" stroke=\"black\" cx=\"428.25\" cy=\"-72\" rx=\"27\" ry=\"18\"/>\n",
       "<text text-anchor=\"middle\" x=\"428.25\" y=\"-66.95\" font-family=\"Times New Roman,serif\" font-size=\"14.00\">I</text>\n",
       "</g>\n",
       "<!-- L&#45;&gt;I -->\n",
       "<g id=\"edge2\" class=\"edge\">\n",
       "<title>L&#45;&gt;I</title>\n",
       "<path fill=\"none\" stroke=\"black\" d=\"M287.46,-49.16C314.91,-53.65 358.89,-60.83 390.18,-65.94\"/>\n",
       "<polygon fill=\"black\" stroke=\"black\" points=\"389.56,-69.39 400,-67.55 390.69,-62.48 389.56,-69.39\"/>\n",
       "<text text-anchor=\"middle\" x=\"344.62\" y=\"-67.2\" font-family=\"Times New Roman,serif\" font-size=\"14.00\">L*κ*p</text>\n",
       "</g>\n",
       "<!-- A -->\n",
       "<g id=\"node4\" class=\"node\">\n",
       "<title>A</title>\n",
       "<ellipse fill=\"none\" stroke=\"black\" cx=\"428.25\" cy=\"-18\" rx=\"27\" ry=\"18\"/>\n",
       "<text text-anchor=\"middle\" x=\"428.25\" y=\"-12.95\" font-family=\"Times New Roman,serif\" font-size=\"14.00\">A</text>\n",
       "</g>\n",
       "<!-- L&#45;&gt;A -->\n",
       "<g id=\"edge3\" class=\"edge\">\n",
       "<title>L&#45;&gt;A</title>\n",
       "<path fill=\"none\" stroke=\"black\" d=\"M285.54,-36.89C292.1,-34.88 299.27,-32.89 306,-31.5 333.8,-25.74 365.74,-22.31 389.85,-20.35\"/>\n",
       "<polygon fill=\"black\" stroke=\"black\" points=\"389.8,-23.86 399.5,-19.62 389.27,-16.88 389.8,-23.86\"/>\n",
       "<text text-anchor=\"middle\" x=\"344.62\" y=\"-35.2\" font-family=\"Times New Roman,serif\" font-size=\"14.00\">&#45;L*κ*p + L*κ</text>\n",
       "</g>\n",
       "<!-- R -->\n",
       "<g id=\"node5\" class=\"node\">\n",
       "<title>R</title>\n",
       "<ellipse fill=\"none\" stroke=\"black\" cx=\"587.25\" cy=\"-31\" rx=\"27\" ry=\"18\"/>\n",
       "<text text-anchor=\"middle\" x=\"587.25\" y=\"-25.95\" font-family=\"Times New Roman,serif\" font-size=\"14.00\">R</text>\n",
       "</g>\n",
       "<!-- I&#45;&gt;R -->\n",
       "<g id=\"edge4\" class=\"edge\">\n",
       "<title>I&#45;&gt;R</title>\n",
       "<path fill=\"none\" stroke=\"black\" d=\"M452.92,-64.46C459.48,-62.44 466.62,-60.32 473.25,-58.5 498.95,-51.44 528.19,-44.35 550.48,-39.14\"/>\n",
       "<polygon fill=\"black\" stroke=\"black\" points=\"551.03,-42.6 559.98,-36.93 549.45,-35.78 551.03,-42.6\"/>\n",
       "<text text-anchor=\"middle\" x=\"507.75\" y=\"-61.2\" font-family=\"Times New Roman,serif\" font-size=\"14.00\">I*α*f</text>\n",
       "</g>\n",
       "<!-- D -->\n",
       "<g id=\"node6\" class=\"node\">\n",
       "<title>D</title>\n",
       "<ellipse fill=\"none\" stroke=\"black\" cx=\"587.25\" cy=\"-98\" rx=\"27\" ry=\"18\"/>\n",
       "<text text-anchor=\"middle\" x=\"587.25\" y=\"-92.95\" font-family=\"Times New Roman,serif\" font-size=\"14.00\">D</text>\n",
       "</g>\n",
       "<!-- I&#45;&gt;D -->\n",
       "<g id=\"edge5\" class=\"edge\">\n",
       "<title>I&#45;&gt;D</title>\n",
       "<path fill=\"none\" stroke=\"black\" d=\"M454.82,-76.24C480.48,-80.48 520.27,-87.07 549.34,-91.89\"/>\n",
       "<polygon fill=\"black\" stroke=\"black\" points=\"548.76,-95.34 559.19,-93.52 549.9,-88.43 548.76,-95.34\"/>\n",
       "<text text-anchor=\"middle\" x=\"507.75\" y=\"-93.2\" font-family=\"Times New Roman,serif\" font-size=\"14.00\">&#45;I*α*f + I*α</text>\n",
       "</g>\n",
       "<!-- A&#45;&gt;R -->\n",
       "<g id=\"edge6\" class=\"edge\">\n",
       "<title>A&#45;&gt;R</title>\n",
       "<path fill=\"none\" stroke=\"black\" d=\"M455.41,-16.56C478.4,-15.72 512.7,-15.5 542.25,-19.5 545.23,-19.9 548.29,-20.44 551.35,-21.06\"/>\n",
       "<polygon fill=\"black\" stroke=\"black\" points=\"550.25,-24.4 560.78,-23.26 551.84,-17.58 550.25,-24.4\"/>\n",
       "<text text-anchor=\"middle\" x=\"507.75\" y=\"-23.2\" font-family=\"Times New Roman,serif\" font-size=\"14.00\">A*η</text>\n",
       "</g>\n",
       "</g>\n",
       "</svg>\n"
      ],
      "text/plain": [
       "<graphviz.graphs.Digraph at 0x26bad461d50>"
      ]
     },
     "execution_count": 16,
     "metadata": {},
     "output_type": "execute_result"
    }
   ],
   "source": [
    "stateList = ['S', 'L', 'I', 'A', 'R', 'D']\n",
    "paramList = ['beta', 'p', 'kappa', 'alpha', 'f', 'delta', 'eta']\n",
    "odeList = [Transition(origin='S', equation='- beta*S*(I + delta*A)', transition_type=TransitionType.ODE), \n",
    "           Transition(origin='L', equation='beta*S*(I + delta*A) - kappa*L', transition_type=TransitionType.ODE),\n",
    "           Transition(origin='I', equation='p*kappa*L - alpha*I', transition_type=TransitionType.ODE),\n",
    "           Transition(origin='A', equation='(1 - p)*kappa*L - eta*A', transition_type=TransitionType.ODE),\n",
    "           Transition(origin='R', equation='f*alpha*I + eta*A', transition_type=TransitionType.ODE),\n",
    "           Transition(origin='D', equation='(1-f)*alpha*I', transition_type=TransitionType.ODE)]\n",
    "model = SimulateOde(stateList, paramList, ode=odeList)\n",
    "model = model.get_unrolled_obj()\n",
    "graph=model.get_transition_graph(show=False)\n",
    "graph"
   ]
  }
 ],
 "metadata": {
  "kernelspec": {
   "display_name": "pygom",
   "language": "python",
   "name": "python3"
  },
  "language_info": {
   "codemirror_mode": {
    "name": "ipython",
    "version": 3
   },
   "file_extension": ".py",
   "mimetype": "text/x-python",
   "name": "python",
   "nbconvert_exporter": "python",
   "pygments_lexer": "ipython3",
   "version": "3.11.10"
  }
 },
 "nbformat": 4,
 "nbformat_minor": 5
}
