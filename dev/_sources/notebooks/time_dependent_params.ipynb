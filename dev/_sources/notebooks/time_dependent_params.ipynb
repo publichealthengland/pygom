{
 "cells": [
  {
   "cell_type": "markdown",
   "id": "aeef8af5",
   "metadata": {},
   "source": [
    "# Time dependent parameters\n",
    "\n",
    "PyGOM may also be used to model systems with time dependent parameters.\n",
    "Such situations commonly enter epidemic modelling if, for example, the infectivity varies with time due to seasonal effects or interventions.\n",
    "As an example, let's consider an SIR model with periodic infectivity ($\\beta(t)$) and add in immune waning too (so we can witness multiple seasons):\n",
    "\n",
    "$$\\begin{aligned}\n",
    "\\frac{\\mathrm{d} S}{\\mathrm{d} t} &= -\\frac{\\beta(t) SI}{N} + w R + a S\\\\\n",
    "\\frac{\\mathrm{d} I}{\\mathrm{d} t} &= \\frac{\\beta(t) SI}{N}- \\gamma I \\\\\n",
    "\\frac{\\mathrm{d} R}{\\mathrm{d} t} &= \\gamma I - w R \\\\\n",
    "\\beta(t) &= \\beta_0 \\left(1-\\delta \\cos \\left(\\frac{2 \\pi t}{P} \\right) \\right)\n",
    "\\end{aligned}$$\n",
    "\n",
    "where $\\beta_0$ is some baseline infection rate, $\\delta$ is the magnitude of oscillations from the baseline ($-1<\\delta<1$ so that $\\beta>0$), $P$ is the oscillation period and $w$ is the waning rate.\n",
    "\n",
    "The variable, $t$, has a special status in PyGOM, so that if it is found within a function it will be interpreted as referring to time.\n",
    "We must also provide the functional form of $\\beta$ which we do by including it as a `derived parameter`.\n",
    "In the following we put all of these requirements into code:"
   ]
  },
  {
   "cell_type": "code",
   "execution_count": null,
   "id": "1679a48a",
   "metadata": {},
   "outputs": [],
   "source": [
    "from pygom import SimulateOde, Transition, TransitionType, Event\n",
    "import matplotlib.pyplot as plt\n",
    "import numpy as np\n",
    "\n",
    "# Define SIR model\n",
    "stateList = ['S', 'I', 'R']                                    # now we have added tau to the states\n",
    "paramList = ['gamma', 'N', 'beta0', 'delta', 'period', 'w', 'a']\n",
    "derived_param = [('betaT', 'beta0*(1-delta*cos(2*3.14159*t/period))')]\n",
    "\n",
    "# Infection\n",
    "## Internal\n",
    "transition_infection_int=Transition(origin='S', destination='I', transition_type='T')\n",
    "event_infection_int=Event(transition_list=[transition_infection_int], rate='betaT*S*I/N')\n",
    "## External importation\n",
    "transition_infection_ext=Transition(origin='S', destination='I', transition_type='T')\n",
    "event_infection_ext=Event(transition_list=[transition_infection_ext], rate='a*S')\n",
    "\n",
    "# Recovery\n",
    "transition_recovery=Transition(origin='I', destination='R', transition_type='T')\n",
    "event_recovery=Event(transition_list=[transition_recovery], rate='gamma*I')\n",
    "\n",
    "# Waning\n",
    "transition_waning=Transition(origin='R', destination='S', transition_type='T')\n",
    "event_waning=Event(transition_list=[transition_waning], rate='w*R')\n",
    "\n",
    "# Set parameter values\n",
    "gamma=0.25    # Recovery rate\n",
    "n_pop=1e4     # Total population\n",
    "beta0=0.3     # Baseline infectivity\n",
    "period=365    # Period 1 year\n",
    "delta=0.2     # beta varies between 0.8 and 1.2 times beta0\n",
    "w=2/(365)     # timescale of immune waning of order 0.5 year\n",
    "a=50/(365*n_pop)  # roughly 50 introductions per year\n",
    "\n",
    "params=[('gamma', gamma),\n",
    "        ('N', n_pop),\n",
    "        ('beta0', beta0),\n",
    "        ('delta', delta),\n",
    "        ('period', period),\n",
    "        ('w', w),\n",
    "        ('a', a)]\n",
    "\n",
    "# Initial conditions\n",
    "i0=0\n",
    "x0 = [n_pop-i0, i0, 0]\n",
    "\n",
    "# Time range and increments\n",
    "tmax=5*365                           # run for 10 years\n",
    "dt=10                                 # time intervals for output\n",
    "n_timestep=int(tmax/dt)               # number of iterations\n",
    "t = np.linspace(0, tmax, n_timestep)  # times at which solution will be evaluated\n",
    "\n",
    "# Set up pygom object\n",
    "model = SimulateOde(stateList,\n",
    "                    paramList,\n",
    "                    event=[event_infection_int, event_infection_ext, event_recovery, event_waning],\n",
    "                    derived_param=derived_param)\n",
    "\n",
    "model.initial_values = (x0, t[0])  # (initial state conditions, initial timepoint)\n",
    "model.parameters=params"
   ]
  },
  {
   "cell_type": "markdown",
   "id": "1dcdfcc4",
   "metadata": {},
   "source": [
    "We may then solve this, for now let's do so stochastically, and plot the result:"
   ]
  },
  {
   "cell_type": "code",
   "execution_count": null,
   "id": "a8057a58",
   "metadata": {
    "tags": [
     "hide-output"
    ]
   },
   "outputs": [],
   "source": [
    "np.random.seed(1)\n",
    "solution, simJump, simT = model.solve_stochast(t, 1, full_output=True)"
   ]
  },
  {
   "cell_type": "code",
   "execution_count": null,
   "id": "bd03e27a",
   "metadata": {
    "tags": [
     "hide-input"
    ]
   },
   "outputs": [],
   "source": [
    "f, axarr = plt.subplots(1,3, layout='constrained', figsize=(10, 4))\n",
    "\n",
    "axarr[0].plot(t/365, solution[0][:,0], color='C1')\n",
    "axarr[1].plot(t/365, solution[0][:,1], color='C0')\n",
    "axarr[2].plot(t/365, solution[0][:,2], color='C2')\n",
    "axarr[0].set_title(\"S\")\n",
    "axarr[0].set_xlabel(\"Time (years)\")\n",
    "axarr[1].set_title(\"I\")\n",
    "axarr[1].set_xlabel(\"Time (years)\")\n",
    "axarr[2].set_title(\"R\")\n",
    "axarr[2].set_xlabel(\"Time (years)\")\n",
    "\n",
    "plt.show()"
   ]
  }
 ],
 "metadata": {
  "kernelspec": {
   "display_name": "pygom",
   "language": "python",
   "name": "python3"
  },
  "language_info": {
   "codemirror_mode": {
    "name": "ipython",
    "version": 3
   },
   "file_extension": ".py",
   "mimetype": "text/x-python",
   "name": "python",
   "nbconvert_exporter": "python",
   "pygments_lexer": "ipython3",
   "version": "3.11.10"
  }
 },
 "nbformat": 4,
 "nbformat_minor": 5
}
