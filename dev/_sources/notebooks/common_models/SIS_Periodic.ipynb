{
 "cells": [
  {
   "cell_type": "markdown",
   "metadata": {},
   "source": [
    "# SIS, periodic\n",
    "{func}`.SIS_Periodic`\n",
    "\n",
    "This is an extension of the SIS model which incorporates a periodic infection rate, $\\beta(t)$.\n",
    "This could be used to mimic seasonal variation in infectivity due to yearly contact rate patterns or climate drivers, for example.\n",
    "We define $\\beta(t)$ as follows:\n",
    "\n",
    "$$\\begin{aligned}\n",
    "\\beta(t) &= \\beta_0 \\left(1+\\delta \\cos \\left(\\frac{2 \\pi t}{P} \\right) \\right)\n",
    "\\end{aligned}$$\n",
    "\n",
    "where $\\beta_0$ is the baseline infection rate, $\\delta$ is the magnitude of oscillations from the baseline ($-1<\\delta<1$ so that $\\beta>0$) and $P$ is the period of oscillations.\n",
    "\n",
    "Also, note how we can use $I+S=N$ to eliminate the equation for $S$:\n",
    "\n",
    "$$\\begin{aligned}\n",
    "\\frac{\\mathrm{d}I}{\\mathrm{d}t} &= (\\beta(t)N - \\alpha) I - \\beta(t)I^{2} \\\\\n",
    "\\end{aligned}$$\n",
    "\n",
    "In Heathcote's classical model, $\\gamma=1$ and:\n",
    "\n",
    "$$\\begin{aligned}\n",
    "\\beta(t) &=  2 - 1.8 \\cos(5t) \\\\\n",
    "&=  2\\left(1 - 0.9 \\cos \\left( \\frac{2 \\pi t}{ \\frac{2 \\pi}{5} } \\right) \\right)\n",
    "\\end{aligned}$$\n",
    "\n",
    "so that $\\beta_0=2$, $\\delta=0.9$ and $P=\\frac{2 \\pi}{5}$."
   ]
  },
  {
   "cell_type": "code",
   "execution_count": null,
   "id": "e7321259",
   "metadata": {},
   "outputs": [],
   "source": [
    "from pygom import common_models\n",
    "import matplotlib.pyplot as plt\n",
    "import numpy as np\n",
    "import math\n",
    "\n",
    "# Set up PyGOM object\n",
    "n_pop=1e4\n",
    "\n",
    "ode = common_models.SIS_Periodic({'gamma':1, 'beta0':2, 'delta':0.9, 'period':(2*math.pi/5), 'N':n_pop})\n",
    "\n",
    "# Time range and increments\n",
    "tmax=10                               # maximum time over which to run solver\n",
    "dt=0.01                               # timestep\n",
    "n_timestep=math.ceil(tmax/dt)         # number of iterations\n",
    "t = np.linspace(0, tmax, n_timestep)  # times at which solution will be evaluated\n",
    "\n",
    "# Initial conditions\n",
    "i0=0.1*n_pop\n",
    "s0=n_pop-i0\n",
    "x0 = [s0, i0]\n",
    "\n",
    "ode.initial_values = (x0, t[0])\n",
    "solution=ode.solve_determ(t[1::])"
   ]
  },
  {
   "cell_type": "markdown",
   "id": "5eefb897",
   "metadata": {},
   "source": [
    "We plot the infected trajectory which shows periodic evolution."
   ]
  },
  {
   "cell_type": "code",
   "execution_count": null,
   "id": "510dd216",
   "metadata": {
    "tags": [
     "hide-input"
    ]
   },
   "outputs": [],
   "source": [
    "f, ax = plt.subplots(figsize=(10, 4))\n",
    "\n",
    "ax.set_xlabel(\"Time\")\n",
    "ax.set_title(\"Infected\")\n",
    "ax.plot(t, solution[:,1])\n",
    "plt.show()"
   ]
  }
 ],
 "metadata": {
  "kernelspec": {
   "display_name": "pygom",
   "language": "python",
   "name": "python3"
  },
  "language_info": {
   "codemirror_mode": {
    "name": "ipython",
    "version": 3
   },
   "file_extension": ".py",
   "mimetype": "text/x-python",
   "name": "python",
   "nbconvert_exporter": "python",
   "pygments_lexer": "ipython3",
   "version": "3.11.10"
  }
 },
 "nbformat": 4,
 "nbformat_minor": 5
}
