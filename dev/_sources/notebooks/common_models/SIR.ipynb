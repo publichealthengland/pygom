{
 "cells": [
  {
   "cell_type": "markdown",
   "metadata": {},
   "source": [
    "# SIR\n",
    "\n",
    "{func}`.SIR`\n",
    "\n",
    "The standard Susceptible-Infected-Recovered (SIR) model features heavily throughout this documentation and so we outline its key features for anyone unfamiliar.\n",
    "\n",
    "```{warning}\n",
    "There is some ambiguity in the naming of the Recovered class which is also commonly referred to as Removed.\n",
    "In the latter sense, there is no distinction made between those who can no longer be infected due to infection acquired immunity and infection induced death.\n",
    "However, for more complex models, the recovered class may become susceptible again due to the effects of immune waning and deaths versus recoveries are typically important to distinguish in real world applications.\n",
    "Therefore, in this tutorial, the Recovered class will be reserved solely for those who survive infection.\n",
    "```\n",
    "\n",
    "The assumptions of the SIR model can be stated as:\n",
    "1) An average member of the population makes contact sufficient to transmit or receive infection with $c$ others per unit time. Each of these events carries a probability, $p$, of transmission such that each individual has an average of $cp = \\beta$ infectious contacts per unit time. This fixed contact rate reflects what is referred to as *standard* incidence, as opposed to *mass-action* incidence, where contacts per person are proportional to the total population size, $N$.\n",
    "2) The population interacts heterogeneously as if a well mixed continuum.\n",
    "For instance, a susceptible does not have contacts with other individuals, but with the entire population on average.\n",
    "3) The infective class recovers at a rate, $\\gamma$.\n",
    "4) No births, deaths (natural or from disease) or migration mean there is no entry into or departure from the population: $S(t)+I(t)+R(t)=N$.\n",
    "\n",
    "Under these assumptions, the rates of change of the population in each compartment (**S**usceptible, **I**nfected and **R**ecovered) are given by the following equations:\n",
    "\n",
    "$$\\begin{aligned}\n",
    "\\frac{\\mathrm{d} S}{\\mathrm{d} t} &= -\\frac{\\beta SI}{N} \\\\\n",
    "\\frac{\\mathrm{d} I}{\\mathrm{d} t} &= \\frac{\\beta SI}{N} - \\gamma I \\\\\n",
    "\\frac{\\mathrm{d} R}{\\mathrm{d} t} &= \\gamma I.\n",
    "\\end{aligned}$$\n",
    "\n",
    "We solve deterministically for flu-like parameters:"
   ]
  },
  {
   "cell_type": "code",
   "execution_count": null,
   "id": "23fa5cee",
   "metadata": {},
   "outputs": [],
   "source": [
    "from pygom import common_models\n",
    "import matplotlib.pyplot as plt\n",
    "import numpy as np\n",
    "import random\n",
    "import math\n",
    "\n",
    "#####################\n",
    "# Set up PyGOM object\n",
    "#####################\n",
    "\n",
    "# Parameters\n",
    "n_pop=1e4\n",
    "gamma=1/4\n",
    "R0=1.3\n",
    "beta=R0*gamma\n",
    "\n",
    "ode = common_models.SIR({'beta':beta, 'gamma':gamma, 'N':n_pop})\n",
    "\n",
    "# Time range and increments\n",
    "tmax=365                              # maximum time over which to run solver\n",
    "dt=0.1                                # timestep\n",
    "n_timestep=math.ceil(tmax/dt)         # number of iterations\n",
    "t = np.linspace(0, tmax, n_timestep)  # times at which solution will be evaluated\n",
    "\n",
    "# Initial conditions\n",
    "i0=1\n",
    "x0=[n_pop-i0, i0, 0]\n",
    "ode.initial_values = (x0, t[0])\n",
    "\n",
    "# Deterministic evolution\n",
    "solution=ode.solve_determ(t[1::])"
   ]
  },
  {
   "cell_type": "markdown",
   "id": "2b5252ff",
   "metadata": {},
   "source": [
    "Plotting the result recovers the familiar epidemic trajectory:"
   ]
  },
  {
   "cell_type": "code",
   "execution_count": null,
   "id": "bd78eb6c",
   "metadata": {
    "tags": [
     "hide-input"
    ]
   },
   "outputs": [],
   "source": [
    "f, axarr = plt.subplots(1,3, layout='constrained', figsize=(10, 4))\n",
    "\n",
    "# Plot colours\n",
    "colours=[\"C1\", \"C0\", \"C2\"]\n",
    "stateList=[\"S\", \"I\", \"R\"]\n",
    "\n",
    "for i in range(0, 3):\n",
    "    axarr[i].plot(t, solution[:,i], color=colours[i])\n",
    "    axarr[i].set_ylabel(stateList[i], rotation=0)\n",
    "    axarr[i].set_xlabel('Time')\n",
    "\n",
    "plt.show()"
   ]
  }
 ],
 "metadata": {
  "kernelspec": {
   "display_name": "Python 3.9.15 ('sphinx-doc')",
   "language": "python",
   "name": "python3"
  },
  "language_info": {
   "codemirror_mode": {
    "name": "ipython",
    "version": 3
   },
   "file_extension": ".py",
   "mimetype": "text/x-python",
   "name": "python",
   "nbconvert_exporter": "python",
   "pygments_lexer": "ipython3",
   "version": "3.9.19"
  },
  "vscode": {
   "interpreter": {
    "hash": "4dc1e323c80fe09539c74ad5c5a7c7d8d9ff99e04f7b3dbd3680daf878629d6e"
   }
  }
 },
 "nbformat": 4,
 "nbformat_minor": 5
}
