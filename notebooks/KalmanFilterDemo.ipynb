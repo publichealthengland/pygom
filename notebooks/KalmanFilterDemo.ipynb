{
 "cells": [
  {
   "cell_type": "markdown",
   "metadata": {},
   "source": [
    "Some initial imports"
   ]
  },
  {
   "cell_type": "code",
   "execution_count": 1,
   "metadata": {
    "scrolled": true
   },
   "outputs": [],
   "source": [
    "from pygom import common_models\n",
    "\n",
    "from pygom import SimulateOde, Transition, ODEVariable, DeterministicOde\n",
    "\n",
    "import numpy "
   ]
  },
  {
   "cell_type": "code",
   "execution_count": null,
   "metadata": {},
   "outputs": [],
   "source": [
    "Basic setting up of model without Kalman Filter. So, in this formulation beta is a parameter, not a variable"
   ]
  },
  {
   "cell_type": "code",
   "execution_count": 2,
   "metadata": {},
   "outputs": [],
   "source": [
    "import scipy.stats\n",
    "state_list = ['S', 'I', 'R']\n",
    "param_list = ['beta', 'gamma','N']\n",
    "transition_list = [\n",
    "                  Transition(origin='S', destination='I', equation='beta*S*I/N', transition_type=\"T\"),\n",
    "                  Transition(origin='I', destination='R', equation='gamma*I', transition_type=\"T\")\n",
    "                 ]\n",
    "\n",
    "d = dict()\n",
    "d['beta']  = 1.8\n",
    "d['gamma'] = 0.2\n",
    "d['N']     = 1000\n",
    "\n",
    "t1 = 100\n",
    "N = 1000\n",
    "\n",
    "x0=  [ 900.0  , 100.0  ,  0.0]\n",
    "dt=0.25\n",
    "x=[x0]\n",
    "t0 = 0"
   ]
  },
  {
   "cell_type": "markdown",
   "metadata": {},
   "source": [
    "Create a determinstic model from the paramters above.This will be used to create observations with a known beta (1.8 in the above)"
   ]
  },
  {
   "cell_type": "code",
   "execution_count": 3,
   "metadata": {},
   "outputs": [],
   "source": [
    "states = ['S','I','R']\n",
    "extended_ode_deterministic= DeterministicOde(states, d, transition=transition_list)\n",
    "extended_ode_deterministic.parameters =d\n",
    "t=t0\n"
   ]
  },
  {
   "cell_type": "code",
   "execution_count": 4,
   "metadata": {},
   "outputs": [],
   "source": [
    "#create output with known beta value\n",
    "t = numpy.linspace(t0, 100, 1000)\n",
    "extended_ode_deterministic.initial_values = (x0, t[0])\n",
    "# create a lsit of observations\n",
    "Outputs = extended_ode_deterministic.integrate(t)"
   ]
  },
  {
   "cell_type": "markdown",
   "metadata": {},
   "source": [
    "These outpputs will be used to create \"observations\" for a second run which this time will have beta as a variable, and will have a Kalman Filter applied\n"
   ]
  },
  {
   "cell_type": "code",
   "execution_count": 5,
   "metadata": {},
   "outputs": [],
   "source": [
    "# now enter these outputs as observations\n",
    "observations= [Output[1] for Output in Outputs]\n",
    "observations =observations[2:]\n",
    "t =t[:len(observations)]\n",
    "observed_states =[1]\n",
    "\n",
    "#observations = observations.tolist()\n",
    "# set everything up again ,but this time with beta as a variable\n",
    "transition_list = [\n",
    "                  Transition(origin='S', destination='I', equation='beta*S*I/N', transition_type=\"T\"),\n",
    "                  Transition(origin='I', destination='R', equation='gamma*I', transition_type=\"T\")\n",
    "                 ]\n",
    "\n",
    "d = dict()\n",
    "\n",
    "d['gamma'] = 0.2\n",
    "d['N']     = 1000\n",
    "\n",
    "t1 = 100\n",
    "N = 1000\n",
    "# beta is the 4th item in the state list. The line below implies that beta is starting from\n",
    "# a value of 10.0 . The true value used to create the input data is 1.8\n",
    "x0=  [ 900.0  , 100.0  ,  0.0,10]\n",
    "dt=0.25\n",
    "x=[x0]\n",
    "t0 = 0"
   ]
  },
  {
   "cell_type": "markdown",
   "metadata": {},
   "source": [
    "Now  run model with parameters above with Kalamn Filter integration "
   ]
  },
  {
   "cell_type": "code",
   "execution_count": 7,
   "metadata": {},
   "outputs": [],
   "source": [
    "states = ['S','I','R','beta']\n",
    "extended_ode_deterministic_beta= DeterministicOde(states, d, transition=transition_list)\n",
    "extended_ode_deterministic_beta.parameters =d\n",
    "#indices of states whcih are being observed\n",
    "observed_states =[1]\n",
    "sigmap2 =10.0\n",
    "sigmaw2 =1.0\n",
    "sigmar2 =1.0\n",
    "# Integrate the equation again ,this time with the Kalman Filter applied \n",
    "# The additional input arguments for the IntegrateWithKalamnFilter routine are:\n",
    "# list of observations\n",
    "# Indices of observed states\n",
    "# The three Noise variances\n",
    "# Index of the beta value in the list of variables\n",
    "#\n",
    "# The 3 variances are\n",
    "# 'p' the starting value for the posteriori estimate covariance matrix \n",
    "# 'w' the process noise\n",
    "# 'r' the observation noise\n",
    "Outputs_beta =extended_ode_deterministic_beta.IntegrateWithKalmanFilter(extended_ode_deterministic_beta,x0,t, observations, observed_states, sigmap2,sigmaw2,sigmar2,beta_state=3)"
   ]
  },
  {
   "cell_type": "markdown",
   "metadata": {},
   "source": [
    "As beta is the last of the variables, extract the last item from the output of the Kalman filtered run and plot it.\n",
    "The true value used ot create the observations is 1.8, and the KF run started from an assumed vale of 10.0 .So thr graph should start higher, but  should eventually converge to 1.8"
   ]
  },
  {
   "cell_type": "code",
   "execution_count": 12,
   "metadata": {},
   "outputs": [
    {
     "data": {
      "image/png": "[encoded data removed]",
      "text/plain": [
       "<Figure size 432x288 with 1 Axes>"
      ]
     },
     "metadata": {
      "needs_background": "light"
     },
     "output_type": "display_data"
    }
   ],
   "source": [
    "import matplotlib.pyplot as plt\n",
    "## Extract the estimated beta values, iteration by iteration, from the most recent run output\n",
    "beta_values=[]\n",
    "\n",
    "for i in range(len(Outputs_beta)):\n",
    "    beta_values.append(Outputs_beta[i][-1])\n",
    "# Plot beta value - estimates are expected to converge on value of 1.8 as that was the true value used to \n",
    "# generate the input observations\n",
    "plt.plot(beta_values)\n",
    "\n",
    "plt.ylabel(\"Estimated Beta\")\n",
    "plt.xlabel(\"Iterations\")\n",
    "plt.title(\"Estimation of Beta Using Kalman Filter\")\n",
    "plt.show(block=False)"
   ]
  },
  {
   "cell_type": "code",
   "execution_count": null,
   "metadata": {},
   "outputs": [],
   "source": []
  }
 ],
 "metadata": {
  "kernelspec": {
   "display_name": "Python 3 (ipykernel)",
   "language": "python",
   "name": "python3"
  },
  "language_info": {
   "codemirror_mode": {
    "name": "ipython",
    "version": 3
   },
   "file_extension": ".py",
   "mimetype": "text/x-python",
   "name": "python",
   "nbconvert_exporter": "python",
   "pygments_lexer": "ipython3",
   "version": "3.10.9"
  }
 },
 "nbformat": 4,
 "nbformat_minor": 2
}
