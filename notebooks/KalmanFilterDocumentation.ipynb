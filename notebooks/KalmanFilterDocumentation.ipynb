{
 "cells": [
  {
   "cell_type": "markdown",
   "id": "74902fb1",
   "metadata": {},
   "source": [
    "# Kalman Filter Function in PyGom"
   ]
  },
  {
   "cell_type": "markdown",
   "id": "d0132434",
   "metadata": {},
   "source": [
    "The Kalman filter method assumes that two set of inputs are available - outputs from a model,and observations of at least some of these outputs. It is further assumed that both these outputs have some noise associated with them, so that neither the model outputs nor the observations are entirely reliable.The Kalman filter technique takes these two inputs and returns an output which is the most likely value of all the model variables, taking into account the uncertainty associated with both inputs."
   ]
  },
  {
   "cell_type": "markdown",
   "id": "5a0d7ec2",
   "metadata": {},
   "source": [
    "# Methodology\n",
    "\n",
    "As described earlier the Kalmam filter method allows an estimate to be made of the most most likely variable values given both model outputs and observations. \n",
    "So, if model results are available time step by time step, and observations are available at these same time steps, then this suggests a way of applying the Kalman filter (KF) method to improve a time step by time step numerical model:\n",
    "1. Starting from model outputs at time t  -Xt say - apply the KF to get filtered results - XFt say -at time t.\n",
    "2. Use these filtered results as the starting point of another applicaton of the model over the next time step ,to get model results Xt+1\n",
    "3. Repeat step 1., now at time t+1,to get filtered results at time t+1,XFt+1 ,and so on.\n",
    "\n",
    "The original motivation behind putting the KF method into PyGom was to allow a time varying beta to be modelled in a compartmental model. In this approach, at step 2. above beta is treated as a variable, which the KF can therefore modify, whereas in steps 1 and 3 beta is regarded as a fixed parameter. So,the KF feature has been implemented with this application in mind.\n",
    "\n",
    "Full details are given in [1].\n"
   ]
  },
  {
   "cell_type": "markdown",
   "id": "bad9931b",
   "metadata": {},
   "source": [
    "# Implementation Within PyGom\n",
    "It is anticipated that the Kalamn filter application in PyGom will mostly be applied using the def IntegrateWithKalmanFilter method for deterministic models.This is equivalent to the integrate method for determinisitc models, but in this case after every internal time step within the integration process the Kalman filter is used update the latest output of the model to take of account of observed results. In this way the code applies the methodolgy described in the earlier section\n",
    "\n",
    "The relevant lines of code are shown below:\n",
    "\n",
    "  for i in range(len(observations)-1):\n",
    "      \n",
    "      # predict step         \n",
    "             xnew =self.integrate(t[i+1])\n",
    "            \n",
    "     # update step\n",
    "             xfilter,Pnew,KG = self.Kalman_Filter(observations[i],observed_states,model,xnew[-1],P,t[i+1],t[i+1]-t[i],sigmaw2,sigmar2,beta_state,Bounds) \n",
    "             #xfilter = xnew[-1]\n",
    "           \n",
    "             model_outputs.append(xfilter)\n",
    "             P = Pnew\n",
    "             self.initial_values = (xfilter,t[i+1])\n",
    "             \n",
    "        return model_outputs\n",
    "        \n",
    "        \n",
    "So matching the methodology with the code:\n",
    "  xnew =self.integrate(t[i+1]) performs step 1.\n",
    "  \n",
    "  xfilter,Pnew,KG = self.Kalman_Filter  perform step 2\n",
    "  \n",
    "  self.initial_values = (xfilter,t[i+1]) then sets the starting point of the next model application to the 'filter' resluts returne by the previous application of the KF\n"
   ]
  },
  {
   "cell_type": "code",
   "execution_count": null,
   "id": "6f755e9a",
   "metadata": {},
   "outputs": [],
   "source": [
    "The steps for setting up are as follows"
   ]
  },
  {
   "cell_type": "code",
   "execution_count": 2,
   "id": "20ddb835",
   "metadata": {},
   "outputs": [
    {
     "ename": "ImportError",
     "evalue": "cannot import name 'Transition' from 'pygom' (unknown location)",
     "output_type": "error",
     "traceback": [
      "\u001b[1;31m---------------------------------------------------------------------------\u001b[0m",
      "\u001b[1;31mImportError\u001b[0m                               Traceback (most recent call last)",
      "Cell \u001b[1;32mIn[2], line 2\u001b[0m\n\u001b[0;32m      1\u001b[0m \u001b[38;5;66;03m#Import the PyGom package:\u001b[39;00m\n\u001b[1;32m----> 2\u001b[0m \u001b[38;5;28;01mfrom\u001b[39;00m \u001b[38;5;21;01mpygom\u001b[39;00m \u001b[38;5;28;01mimport\u001b[39;00m Transition, ODEVariable, DeterministicOde\n",
      "\u001b[1;31mImportError\u001b[0m: cannot import name 'Transition' from 'pygom' (unknown location)"
     ]
    }
   ],
   "source": [
    "#Import the PyGom package:\n",
    "from pygom import Transition, ODEVariable, DeterministicOde"
   ]
  },
  {
   "cell_type": "code",
   "execution_count": null,
   "id": "1e27988b",
   "metadata": {},
   "outputs": [],
   "source": [
    "The IntegrateWithKalamnFilter function has input arguments as shown below:\n",
    "     def IntegrateWithKalmanFilter( self,model, x0,t, observations, observed_states, sigmap2,sigmaw2,sigmar2,full_output=False,beta_state=None,Bounds =None):\n",
    "        # model is assumed to be a determinisitc ode model\n",
    "        # t is a list of times for which results are required\n",
    "        # observations is th lsit of observations at these times\n",
    "        # observed_states is a list of the indices of the observed states \n",
    "        # So, observations should be a list with the same length as t . Each entry in observations\n",
    "        # should be a list of length observed_states"
   ]
  },
  {
   "cell_type": "markdown",
   "id": "49844e07",
   "metadata": {},
   "source": [
    "The input arguments are:\n",
    "    model:\n",
    "    This is a PyGom determinisitc ODE model\n",
    "    X0:\n",
    "    The starting value  of the variables\n",
    "    t:\n",
    "    A list of the time intervals over which the integration is performed\n",
    "    observations: \n",
    "    A list of observations of at least one of the varaibles which feature in the model(not all of the model variables need to be observed)\n",
    "    observed_states:\n",
    "    A list of those model states which are being observed (see above)\n",
    "    sigmap2,sigmaw2,sigmar2 - the Kalman filter process involves three covariance matrices - the estimate covariance matrix(for which an a prior estimate must be provided at the start) , the process noise, and the observation noise . These matrices are assumed to be diagonal, with  \n",
    "    full_output - this is Standard PyGom input\n",
    "    beta_state, Bounds - these are alternative ways of specifying bounds on the  variable outputs . Two methods are possible. beta_state allows the user to specify a particular varaible, and that variable is then not allowed to be negative. Alternatively,  the Bounds input can be used to specify an upper and lower bound for each variabl.For a particualr variable either bound, or both bounds, might be \"None\", meaning that no bounds are applied for that Variable. "
   ]
  },
  {
   "cell_type": "code",
   "execution_count": null,
   "id": "cd34b1cf",
   "metadata": {},
   "outputs": [],
   "source": [
    "#The next cells demonstrate how set up and run a Kalman Filter exmaple .In this case "
   ]
  },
  {
   "cell_type": "code",
   "execution_count": null,
   "id": "03a89033",
   "metadata": {},
   "outputs": [],
   "source": [
    "#Basic setting up of model without Kalman Filter. So, in this formulation beta is a parameter, not a variable\n",
    "import scipy.stats\n",
    "state_list = ['S', 'I', 'R']\n",
    "param_list = ['beta', 'gamma','N']\n",
    "transition_list = [\n",
    "                  Transition(origin='S', destination='I', equation='beta*S*I/N', transition_type=\"T\"),\n",
    "                  Transition(origin='I', destination='R', equation='gamma*I', transition_type=\"T\")\n",
    "                 ]\n",
    "\n",
    "d = dict()\n",
    "d['beta']  = 1.8\n",
    "d['gamma'] = 0.2\n",
    "d['N']     = 1000\n",
    "\n",
    "t1 = 100\n",
    "N = 1000\n",
    "\n",
    "x0=  [ 900.0  , 100.0  ,  0.0]\n",
    "dt=0.25\n",
    "x=[x0]\n",
    "t0 = 0"
   ]
  },
  {
   "cell_type": "markdown",
   "id": "3b88c6ab",
   "metadata": {},
   "source": [
    "Create a determinstic model from the paramters above.This will be used to create observations with a known beta (1.8 in the above)"
   ]
  },
  {
   "cell_type": "code",
   "execution_count": null,
   "id": "ac161938",
   "metadata": {},
   "outputs": [],
   "source": [
    "states = ['S','I','R']\n",
    "extended_ode_deterministic= DeterministicOde(states, d, transition=transition_list)\n",
    "extended_ode_deterministic.parameters =d\n",
    "t=t0\n"
   ]
  },
  {
   "cell_type": "code",
   "execution_count": null,
   "id": "5b427333",
   "metadata": {},
   "outputs": [],
   "source": [
    "#create output with known beta value\n",
    "t = numpy.linspace(t0, 100, 1000)\n",
    "extended_ode_deterministic.initial_values = (x0, t[0])\n",
    "# create a lsit of observations\n",
    "Outputs = extended_ode_deterministic.integrate(t)"
   ]
  },
  {
   "cell_type": "markdown",
   "id": "596411ac",
   "metadata": {},
   "source": [
    "These outputs will be used to create \"observations\" for a second run which this time will have beta as a variable, and will have a Kalman Filter applied"
   ]
  },
  {
   "cell_type": "code",
   "execution_count": null,
   "id": "dd9fe6a5",
   "metadata": {},
   "outputs": [],
   "source": [
    "# now enter these outputs as observations\n",
    "observations= [Output[1] for Output in Outputs]\n",
    "observations =observations[2:]\n",
    "t =t[:len(observations)]\n",
    "observed_states =[1]\n",
    "\n",
    "#observations = observations.tolist()\n",
    "# set everything up again ,but this time with beta as a variable\n",
    "transition_list = [\n",
    "                  Transition(origin='S', destination='I', equation='beta*S*I/N', transition_type=\"T\"),\n",
    "                  Transition(origin='I', destination='R', equation='gamma*I', transition_type=\"T\")\n",
    "                 ]\n",
    "\n",
    "d = dict()\n",
    "\n",
    "d['gamma'] = 0.2\n",
    "d['N']     = 1000\n",
    "\n",
    "t1 = 100\n",
    "N = 1000\n",
    "# beta is the 4th item in the state list. The line below implies that beta is starting from\n",
    "# a value of 10.0 . The true value used to create the input data is 1.8\n",
    "x0=  [ 900.0  , 100.0  ,  0.0,10]\n",
    "dt=0.25\n",
    "x=[x0]\n",
    "t0 = 0"
   ]
  },
  {
   "cell_type": "markdown",
   "id": "0680a51b",
   "metadata": {},
   "source": [
    "Now run model with parameters above with Kalamn Filter integration"
   ]
  },
  {
   "cell_type": "code",
   "execution_count": null,
   "id": "e21b8386",
   "metadata": {},
   "outputs": [],
   "source": [
    "states = ['S','I','R','beta']\n",
    "extended_ode_deterministic_beta= DeterministicOde(states, d, transition=transition_list)\n",
    "extended_ode_deterministic_beta.parameters =d\n",
    "#indices of states whcih are being observed\n",
    "observed_states =[1]\n",
    "sigmap2 =10.0\n",
    "sigmaw2 =1.0\n",
    "sigmar2 =1.0\n",
    "# Integrate the equation again ,this time with the Kalman Filter applied \n",
    "# The additional input arguments for the IntegrateWithKalamnFilter routine are:\n",
    "# list of observations\n",
    "# Indices of observed states\n",
    "# The three Noise variances\n",
    "# Index of the beta value in the list of variables\n",
    "#\n",
    "# The 3 variances are\n",
    "# 'p' the starting value for the posteriori estimate covariance matrix \n",
    "# 'w' the process noise\n",
    "# 'r' the observation noise\n",
    "Outputs_beta =extended_ode_deterministic_beta.IntegrateWithKalmanFilter(extended_ode_deterministic_beta,x0,t, "
   ]
  },
  {
   "cell_type": "markdown",
   "id": "2f2a60b9",
   "metadata": {},
   "source": [
    "As beta is the last of the variables, extract the last item from the output of the Kalman filtered run and plot it. The true value used ot create the observations is 1.8, and the KF run started from an assumed vale of 10.0 .So thr graph should start higher, but should eventually converge to 1.8"
   ]
  },
  {
   "cell_type": "code",
   "execution_count": null,
   "id": "2b452f63",
   "metadata": {},
   "outputs": [],
   "source": [
    "import matplotlib.pyplot as plt\n",
    "## Extract the estimated beta values, iteration by iteration, from the most recent run output\n",
    "beta_values=[]\n",
    "\n",
    "for i in range(len(Outputs_beta)):\n",
    "    beta_values.append(Outputs_beta[i][-1])\n",
    "# Plot beta value - estimates are expected to converge on value of 1.8 as that was the true value used to \n",
    "# generate the input observations\n",
    "plt.plot(beta_values)\n",
    "\n",
    "plt.ylabel(\"Estimated Beta\")\n",
    "plt.xlabel(\"Iterations\")\n",
    "plt.title(\"Estimation of Beta Using Kalman Filter\")\n",
    "plt.show(block=False)"
   ]
  },
  {
   "cell_type": "markdown",
   "id": "b4fae3d3",
   "metadata": {},
   "source": [
    "# References\n",
    "[1] The Use of Kalman Filters to Detect Changing Infectivity Rates During a Pandemic\n",
    ",David Mustard (Senior Data Scientist, UK Health Security Agency), Thomas Finnie (Principal Data Scientist, UK Health Security Agency) \n",
    "\n"
   ]
  }
 ],
 "metadata": {
  "kernelspec": {
   "display_name": "Python 3 (ipykernel)",
   "language": "python",
   "name": "python3"
  },
  "language_info": {
   "codemirror_mode": {
    "name": "ipython",
    "version": 3
   },
   "file_extension": ".py",
   "mimetype": "text/x-python",
   "name": "python",
   "nbconvert_exporter": "python",
   "pygments_lexer": "ipython3",
   "version": "3.10.9"
  }
 },
 "nbformat": 4,
 "nbformat_minor": 5
}
