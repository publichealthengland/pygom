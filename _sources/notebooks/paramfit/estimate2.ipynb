{
 "cells": [
  {
   "cell_type": "markdown",
   "metadata": {},
   "source": [
    "# Parameter Estimation: Example 2\n",
    "\n",
    "Continuing from the example in {doc}`.estimate1`, we show why estimating the parameters\n",
    "for ODE's can be difficult. This is especially true if there is a lack of data\n",
    "or when there are too much flexibility in the model. \n",
    "\n",
    "```{note}\n",
    "For reproducibility purposes, only deterministic models are used here. If a stochastic algorithm is required we use a fixed seed.\n",
    "```"
   ]
  },
  {
   "cell_type": "markdown",
   "id": "8897e924",
   "metadata": {},
   "source": [
    "\n",
    "## SEIR model\n",
    "\n",
    "We demonstrate the estimation on data collected from an Ebola outbreak in West\n",
    "Africa. We use the number of deaths in Guinea and its corresponding time\n",
    "the data was recorded. These data are publicly available and they can be\n",
    "obtained [here](https://github.com/cmrivers/ebola). \n",
    "\n",
    "We provide the data here for reproducibility and ease."
   ]
  },
  {
   "cell_type": "code",
   "execution_count": null,
   "id": "6826d12d",
   "metadata": {},
   "outputs": [],
   "source": [
    "# the number of deaths and cases in Guinea\n",
    "\n",
    "yDeath = [29.0, 59.0, 60.0, 62.0, 66.0, 70.0, 70.0, 80.0, 83.0, 86.0, 95.0, 101.0, 106.0, 108.0, 122.0, 129.0, 136.0, 141.0, 143.0, 149.0, 155.0, 157.0, 158.0,\n",
    "157.0, 171.0, 174.0, 186.0, 193.0, 208.0, 215.0, 226.0, 264.0,\n",
    "267.0, 270.0, 303.0, 305.0, 307.0, 309.0, 304.0, 310.0, 310.0,\n",
    "314.0, 319.0, 339.0, 346.0, 358.0, 363.0, 367.0, 373.0, 377.0,\n",
    "380.0, 394.0, 396.0, 406.0, 430.0, 494.0, 517.0, 557.0, 568.0, 595.0,\n",
    "601.0, 632.0, 635.0, 648.0, 710.0, 739.0, 768.0, 778.0, 843.0,\n",
    "862.0, 904.0, 926.0, 997.0]\n",
    "\n",
    "yCase = [49.0, 86.0, 86.0, 86.0, 103.0, 112.0, 112.0, 122.0, 127.0, 143.0, 151.0, 158.0, 159.0, 168.0, 197.0, 203.0, 208.0, 218.0, 224.0, 226.0, 231.0,\n",
    "235.0, 236.0, 233.0, 248.0, 258.0, 281.0, 291.0, 328.0, 344.0,\n",
    "351.0, 398.0, 390.0, 390.0, 413.0, 412.0, 408.0, 409.0, 406.0,\n",
    "411.0, 410.0, 415.0, 427.0, 460.0, 472.0, 485.0, 495.0, 495.0,\n",
    "506.0, 510.0, 519.0, 543.0, 579.0, 607.0, 648.0, 771.0, 812.0,\n",
    "861.0, 899.0, 936.0, 942.0, 1008.0, 1022.0, 1074.0, 1157.0, 1199.0,\n",
    "1298.0, 1350.0, 1472.0, 1519.0, 1540.0, 1553.0, 1906.0]"
   ]
  },
  {
   "cell_type": "code",
   "execution_count": null,
   "id": "1d9b4bfb",
   "metadata": {},
   "outputs": [],
   "source": [
    "# the corresponding time\n",
    "\n",
    "t = [0.0, 2.0, 3.0, 4.0, 5.0, 6.0, 7.0, 9.0, 10.0, 13.0, 16.0, 18.0, 20.0, 23.0, 25.0, 26.0, 29.0, 32.0, 35.0, 40.0, 42.0, 44.0, 46.0, 49.0, 51.0, 62.0, 66.0, 67.0,\n",
    "71.0, 73.0, 80.0, 86.0, 88.0, 90.0, 100.0, 102.0, 106.0, 108.0,\n",
    "112.0, 114.0, 117.0, 120.0, 123.0, 126.0, 129.0, 132.0, 135.0, 137.0, 140.0, 142.0, 144.0, 147.0, 149.0, 151.0, 157.0, 162.0, 167.0,\n",
    "169.0, 172.0, 175.0, 176.0, 181.0, 183.0, 185.0, 190.0, 193.0,\n",
    "197.0, 199.0, 204.0, 206.0, 211.0, 213.0, 218.0]\n"
   ]
  },
  {
   "cell_type": "markdown",
   "id": "fe8c48cf",
   "metadata": {},
   "source": [
    "### Simple estimation\n",
    "\n",
    "First, we are going to fit a standard **SEIR** model to the data.\n",
    "Details of the models can be found in {doc}`common_models` Defining the model\n",
    "as usual with an approximation of what the parameters might be, here,\n",
    "we choose the values to be the mid point of our feasible region (defined\n",
    "by our box constraints later).\n"
   ]
  },
  {
   "cell_type": "code",
   "execution_count": null,
   "id": "5dfa5094",
   "metadata": {},
   "outputs": [],
   "source": [
    "from pygom import SquareLoss, common_models\n",
    "\n",
    "import numpy, scipy.optimize\n",
    "\n",
    "import matplotlib.pyplot as plt\n",
    "\n",
    "theta = numpy.array([5.0, 5.0, 5.0])\n",
    "\n",
    "ode = common_models.SEIR(theta)\n",
    "\n",
    "population = 1175e4\n",
    "\n",
    "y = numpy.reshape(numpy.append(numpy.array(yCase), numpy.array(yDeath)), \n",
    "                  (len(yCase),2), 'F')/population\n",
    "\n",
    "x0 = [1., 0., 49.0/population, 29.0/population]\n",
    "\n",
    "t0 = t[0]\n",
    "\n",
    "objLegrand = SquareLoss(theta, ode, x0, t0, t[1::], y[1::,:], ['I','R'], numpy.sqrt([population\\]*2))\n"
   ]
  },
  {
   "cell_type": "markdown",
   "id": "288f8273",
   "metadata": {},
   "source": [
    "\n",
    "Then we optimize, first, assuming that the initial conditions are\n",
    "accurate. Some relatively large bounds are used for this particular\n",
    "problem.\n"
   ]
  },
  {
   "cell_type": "code",
   "execution_count": null,
   "id": "fc31ee5f",
   "metadata": {},
   "outputs": [],
   "source": [
    "\n",
    "boxBounds = [ (0.0,10.0), (0.0,10.0), (0.0,10.0)]\n",
    "\n",
    "res = scipy.optimize.minimize(fun=objLegrand.cost, jac=objLegrand.sensitivity, x0=theta, bounds=boxBounds, method='l-bfgs-b')\n",
    "\n",
    "print(res)\n"
   ]
  },
  {
   "cell_type": "code",
   "execution_count": null,
   "id": "d3e42fe2",
   "metadata": {},
   "outputs": [],
   "source": [
    "f = plt.figure()\n",
    "\n",
    "objLegrand.plot()\n",
    "\n",
    "plt.close()\n"
   ]
  },
  {
   "cell_type": "markdown",
   "id": "ef3374aa",
   "metadata": {},
   "source": [
    "\n",
    "We can see from our visual confirmation that the estimated parameters\n",
    "are not exactly ideal. This is confirmed by the information returned\n",
    "from the `scipy.optimize.minimize` routine, and probably caused by the\n",
    "poor starting point. An attempt to find a more suitable value can be\n",
    "done by some form of parameter space exploration. Given that the\n",
    "evaluation of the objective function is not expensive here, we have\n",
    "plenty of options to choose from. To reduce the number of packages\n",
    "required to build this documentation, routines from `scipy.optimize`\n",
    "remain our preferred option."
   ]
  },
  {
   "cell_type": "markdown",
   "id": "be511db4",
   "metadata": {},
   "source": [
    "\n",
    "### Improved initial guess"
   ]
  },
  {
   "cell_type": "code",
   "execution_count": null,
   "id": "38badab5",
   "metadata": {},
   "outputs": [],
   "source": [
    "resDE = scipy.optimize.differential_evolution(objLegrand.cost,\n",
    "bounds=boxBounds, polish=False, seed=20921391)\n",
    "\n",
    "print(objLegrand.sensitivity(resDE['x']))\n"
   ]
  },
  {
   "cell_type": "code",
   "execution_count": null,
   "id": "9f68ff44",
   "metadata": {},
   "outputs": [],
   "source": [
    "f = plt.figure()\n",
    "\n",
    "objLegrand.plot()\n",
    "\n",
    "plt.close()\n"
   ]
  },
  {
   "cell_type": "markdown",
   "id": "d06e8bdf",
   "metadata": {},
   "source": [
    "\n",
    "Looking at the output of the estimates (below this paragraph), we can\n",
    "see our inference on Ebola is wrong when compared to the *known* values\n",
    "(from field observations) even though the graphs looks *\\`\\`reasonable\"*.\n",
    "Namely, $\\gamma^{-1}$, the third parameter in the vector below, our time\n",
    "from infectiousness to death, is within the expected range but $\\alpha^{-1}$\n",
    "(second parameter), the incubation period, is a lot higher than expected.\n"
   ]
  },
  {
   "cell_type": "code",
   "execution_count": null,
   "id": "3f01c604",
   "metadata": {},
   "outputs": [],
   "source": [
    "1/resDE['x']"
   ]
  },
  {
   "cell_type": "markdown",
   "id": "4bc57a74",
   "metadata": {},
   "source": [
    "\n",
    "### Multimodal surface\n",
    "\n",
    "A reason for this type of behavior is that we simply lack the\n",
    "information/data to make proper inference. Without data on the state\n",
    "$E$, the parameters $\\beta,\\alpha$ for the two states $I$ and $E$ are\n",
    "dependent only on observations on $I$. Hence, some other random\n",
    "combination of $\\beta,\\alpha$ that is capable of generating realizations\n",
    "close to observations in $I$ is feasible. In such cases, the only\n",
    "requirement is that there exist some $\\gamma$ in the feasible region\n",
    "that can compensate for the ill suited $\\beta,\\alpha$. For example, we\n",
    "know (obtained elsewhere and not shown here) that there is another set\n",
    "of parameters capable of generating a similar looking curves as before.\n",
    "Note the reversal of magnitude in $\\beta$ and $\\alpha$.\n",
    "\n"
   ]
  },
  {
   "cell_type": "code",
   "execution_count": null,
   "id": "f4797fe3",
   "metadata": {},
   "outputs": [],
   "source": [
    "objLegrand.cost([3.26106524e+00, 2.24798702e-04, 1.23660721e-02])\n",
    "\n",
    "# objLegrand.cost([ 0.02701867, 9.00004776, 0.01031861])\n",
    "# similar graph\n"
   ]
  },
  {
   "cell_type": "code",
   "execution_count": null,
   "id": "0573ccf8",
   "metadata": {},
   "outputs": [],
   "source": [
    "\n",
    "objLegrand.plot()"
   ]
  },
  {
   "cell_type": "markdown",
   "id": "ce36ae9e",
   "metadata": {},
   "source": [
    "### With initial values as parameters\n",
    "\n",
    "The assumption that the whole population being susceptible is\n",
    "an overestimate, therefore we want to estimate the initial conditions of the\n",
    "ODEs as well. Given previous estimates of the parameters\n",
    "$\\hat{\\beta}, \\hat{\\alpha}, \\hat{\\gamma}$ it is appropriate to start our\n",
    "initial guess there.\n",
    "\n",
    "Furthermore, given that we now estimate the initial values for all the\n",
    "states, we can use the first time point as our observation. So our time\n",
    "begins at $t = -1$ where our observations include the previous initial\n",
    "condition, i.e. 49 and 29 for the number of cases and death at $t = 0$\n",
    "respectively. The following code block demonstrates how we would do\n",
    "that; feel free to try it out yourself to see the much improved result.\n",
    "\n"
   ]
  },
  {
   "cell_type": "code",
   "execution_count": null,
   "id": "fe0f36b4",
   "metadata": {},
   "outputs": [],
   "source": [
    "thetaIV = theta.tolist() + x0\n",
    "\n",
    "thetaIV[3] -= 1e-8 # to make sure that the initial guess satisfies the constraints\n",
    "\n",
    "boxBoundsIV = boxBounds + [(0.,1.), (0.,1.), (0.,1.), (0.,1.)]\n",
    "\n",
    "objLegrand = SquareLoss(theta, ode, x0, -1, t, y, ['I','R'], numpy.sqrt([population]*2))\n",
    "\n",
    "resDEIV = scipy.optimize.differential_evolution(objLegrand.costIV, bounds=boxBoundsIV, polish=False, seed=20921391)\n",
    "\n",
    "print(resDEIV)\n"
   ]
  },
  {
   "cell_type": "markdown",
   "id": "3331a258",
   "metadata": {},
   "source": [
    "objLegrand.plot()\n"
   ]
  },
  {
   "cell_type": "markdown",
   "id": "2408c495",
   "metadata": {},
   "source": [
    "## Legrand Ebola SEIHFR Model\n",
    "\n",
    "Next, we demonstrate the estimation on a model that has been widely used in\n",
    "the 2014 Ebola outbreak in west Africa {citets}`Legrand`. This model has been\n",
    "defined in {mod}`.common_models`.\n",
    "\n"
   ]
  },
  {
   "cell_type": "code",
   "execution_count": null,
   "id": "4f726a4a",
   "metadata": {},
   "outputs": [],
   "source": [
    "ode = common_models.Legrand_Ebola_SEIHFR()\n",
    "\n",
    "# initial guess from the paper that studied the outbreak in Congo\n",
    "\n",
    "theta = numpy.array([0.588,0.794,7.653, # the beta  \n",
    "                    10.0,9.6,5.0,2.0, # the omega\n",
    "                    7.0,0.81,0.80, # alpha,\n",
    "                    delta, \n",
    "                    theta,\n",
    "                    100.,1.0]) # kappa,intervention time\n",
    "\n",
    "# initial conditions, note that we have a 0.0 at the end because the model is a non-automonous ODE which we have converted the time component out of\n",
    "\n",
    "x0 = numpy.array([population, 0.0, 49.0, 0.0, 0.0, 29.0, 0.0])/population\n",
    "\n",
    "ode.parameters = theta\n",
    "\n",
    "ode.initial_values = (x0, t[0])\n",
    "\n",
    "objLegrand = SquareLoss(theta, ode, x0, t[0], t[1::], y[1::,:], \n",
    "                        ['I','R'], numpy.sqrt([population]*2))"
   ]
  },
  {
   "cell_type": "markdown",
   "id": "71d2d4b6",
   "metadata": {},
   "source": [
    "Now, it is important to set additional constraints accurately because a\n",
    "simple box constraint is much larger than the feasible set. Namely,\n",
    "$\\omega_{I}, \\omega_{D}$ are the time taken from onset until end of\n",
    "infectious/death, which has to be bigger than $\\omega_{H}$, onset to\n",
    "hospitalization given the nature of the disease. Therefore, we create\n",
    "extra inequality constraints in addition to the box constraints"
   ]
  },
  {
   "cell_type": "code",
   "execution_count": null,
   "id": "d928c542",
   "metadata": {},
   "outputs": [],
   "source": [
    "boxBounds = [(0.001, 100.), #beta_I \n",
    "             (0.001, 100.), # beta_H\n",
    "             (0.001, 100.), # beta_F \n",
    "             (0.001, 100.), # omega_I \n",
    "             (0.001, 100.), # omega_D \n",
    "             (0.001, 100.), # omega_H \n",
    "             (0.001, 100.), # omega_F\n",
    "             (0.001, 100.), # alpha^{-1} \n",
    "             (0.0001, 1.), # delta \n",
    "             (0.0001, 1.), # theta .….: (0.001, 1000.), # kappa\n",
    "             (0.,218.) # intervention time \n",
    "             ]\n",
    "\n",
    "cons = ({'type': 'ineq', 'fun' : lambda x: numpy.array([x[3]-x[5], x[4]-x[5]])})"
   ]
  },
  {
   "cell_type": "markdown",
   "id": "df3e4a0a",
   "metadata": {},
   "source": [
    "We can now try to find the optimal values, but because this is a\n",
    "difficult problem that can take a very long time without guarantee on\n",
    "the quality of solution."
   ]
  },
  {
   "cell_type": "markdown",
   "id": "e20c8987",
   "metadata": {},
   "source": [
    "res = scipy.optimize.minimize(fun=objLegrand.cost, jac=objLegrand.sensitivity, \n",
    "                              x0=theta, constraints=cons, bounds=boxBounds, method='SLSQP')\n",
    "\n",
    "print(res)\n",
    "\n"
   ]
  },
  {
   "cell_type": "markdown",
   "id": "b9e7a7d7",
   "metadata": {},
   "source": [
    "objLegrand.plot()"
   ]
  },
  {
   "cell_type": "markdown",
   "id": "1d0c6889",
   "metadata": {},
   "source": [
    "The estimated parameters are very much unrealistic given that\n",
    "a lot of them are near the boundaries. It is also known from other\n",
    "sources that some of the epidemiology properties of Ebola, with\n",
    "incubation period of around 2 weeks and a mortality rate of around 80\n",
    "percent.\n",
    "\n",
    "As the estimate does not appear to provide anything sensible, we also\n",
    "provide a set of values previously obtained (that looks semi-reasonable)\n",
    "here plot the epidemic curve with the observations layered on top.\n",
    "\n"
   ]
  },
  {
   "cell_type": "markdown",
   "id": "b383ece7",
   "metadata": {},
   "source": [
    "theta = numpy.array([3.96915071e-02, 1.72302620e+01, 1.99749990e+01, 2.67759445e+01, \n",
    "                     4.99999990e+01, 5.56122691e+00, 4.99999990e+01, 8.51599523e+00, \n",
    "                     9.99999000e-01, 1.00000000e-06, 3.85807562e+00, 1.88385318e+00])\n",
    "\n",
    "print(objLegrand.cost(theta))"
   ]
  },
  {
   "cell_type": "code",
   "execution_count": null,
   "id": "f9232353",
   "metadata": {
    "tags": [
     "hide-input"
    ],
    "vscode": {
     "languageId": "javascript"
    }
   },
   "outputs": [],
   "source": [
    "solution = ode.integrate(t[1::])\n",
    "\n",
    "f, axarr = plt.subplots(2,3)\n",
    "\n",
    "axarr[0,0].plot(t, solution[:,0]);\n",
    "\n",
    "axarr[0,0].set_title('Susceptible');\n",
    "\n",
    "axarr[0,1].plot(t, solution[:,1]);\n",
    "\n",
    "axarr[0,1].set_title('Exposed');\n",
    "\n",
    "axarr[0,2].plot(t, solution[:,2]);\n",
    "\n",
    " axarr[0,2].plot(t, y[:,0], 'r');\n",
    "\n",
    "axarr[0,2].set_title('Infectious');\n",
    "\n",
    "axarr[1,0].plot(t, solution[:,3]);\n",
    "\n",
    "axarr[1,0].set_title('Hospitalised');\n",
    "\n",
    "axarr[1,1].plot(t, solution[:,4]);\n",
    "\n",
    "axarr[1,1].set_title('Awaiting Burial');\n",
    "\n",
    "axarr[1,2].plot(t, solution[:,5]);\n",
    "\n",
    "axarr[1,2].plot(t, y[:,1], 'r');\n",
    "\n",
    "axarr[1,2].set_title('Removed');\n",
    "\n",
    "f.text(0.5, 0.04, 'Days from outbreak', ha='center');\n",
    "\n",
    "f.text(0.01, 0.5, 'Population', va='center', rotation='vertical');\n",
    "\n",
    "f.tight_layout();\n",
    "\n",
    "plt.show()"
   ]
  }
 ],
 "metadata": {
  "kernelspec": {
   "display_name": "Python 3.9.15 ('sphinx-doc')",
   "language": "python",
   "name": "python3"
  },
  "language_info": {
   "name": "python",
   "version": "3.9.15"
  },
  "vscode": {
   "interpreter": {
    "hash": "4dc1e323c80fe09539c74ad5c5a7c7d8d9ff99e04f7b3dbd3680daf878629d6e"
   }
  }
 },
 "nbformat": 4,
 "nbformat_minor": 5
}
