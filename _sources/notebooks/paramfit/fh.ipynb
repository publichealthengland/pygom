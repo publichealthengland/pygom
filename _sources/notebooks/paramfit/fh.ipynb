{
 "cells": [
  {
   "cell_type": "markdown",
   "metadata": {},
   "source": [
    "# Parameter Estimation: FitzHugh Example\n",
    "\n",
    "## Defining the model\n",
    "\n",
    "We are going to investigate another classic model here, the\n",
    "FitzHugh-Nagumo, or simply FitzHugh here. The model has already been\n",
    "defined in {mod}`common_models` so we can load it rather than define by scratch.\n",
    "\n",
    "#TODO ref for FH-N"
   ]
  },
  {
   "cell_type": "code",
   "execution_count": null,
   "id": "a74b67ba",
   "metadata": {},
   "outputs": [],
   "source": [
    "from pygom import SquareLoss, common_models\n",
    "\n",
    "import numpy\n",
    "\n",
    "import scipy.integrate, scipy.optimize\n",
    "\n",
    "import math,time,copy\n",
    "\n",
    "import matplotlib.pyplot as plt\n",
    "\n",
    "x0 = \\[-1.0, 1.0\\]\n",
    "\n",
    "t0 = 0\n",
    "\n",
    "# params\n",
    "paramEval = [('a',0.2), ('b',0.2), ('c',3.0)]\n",
    "\n",
    "ode = common_models.FitzHugh(paramEval)\n",
    "\n",
    "ode.initial_values = (x0, t0)\n",
    "\n"
   ]
  },
  {
   "cell_type": "markdown",
   "id": "100b72c6",
   "metadata": {},
   "source": [
    "Define a set of time points and we can see how the two states $V$ and $R$\n",
    "are suppose to behave.\n",
    "\n"
   ]
  },
  {
   "cell_type": "code",
   "execution_count": null,
   "id": "e8291f05",
   "metadata": {},
   "outputs": [],
   "source": [
    "t = numpy.linspace(1, 20, 30).astype('float64')\n",
    "\n",
    "solution = ode.integrate(t)"
   ]
  },
  {
   "cell_type": "code",
   "execution_count": null,
   "id": "d2fccb37",
   "metadata": {},
   "outputs": [],
   "source": [
    "ode.plot()"
   ]
  },
  {
   "cell_type": "markdown",
   "id": "c177da58",
   "metadata": {},
   "source": [
    "\n",
    "## Estimate the parameters\n",
    "\n",
    "Obtaining the correct parameters for the FitzHugh model is well known to\n",
    "be difficult, because of its multimodal surface. Although this\n",
    "has been shown many times in the literature, so we will omit the\n",
    "details. For further details see {citets}'FitzHugh`.\n",
    "\n",
    "#TODO ref?\n",
    "\n",
    "We will give the fitting a go with an initial guess which will enable us to recover the original parameters. First, we try the fitting process with only one target state.\n",
    "\n"
   ]
  },
  {
   "cell_type": "code",
   "execution_count": null,
   "id": "97050c8b",
   "metadata": {},
   "outputs": [],
   "source": [
    "theta = [0.5, 0.5, 0.5]\n",
    "\n",
    "objFH = SquareLoss(theta, ode, x0, t0, t, solution[1::,1], 'R')\n",
    "\n",
    "boxBounds = [(0.0,5.0), (0.0,5.0), (0.0,5.0)]\n",
    "\n",
    "res = scipy.optimize.minimize(fun=objFH.cost, jac=objFH.sensitivity, \n",
    "                              x0=theta, bounds=boxBounds,\n",
    "                              method='L-BFGS-B')\n",
    "\n",
    "print(res)"
   ]
  },
  {
   "cell_type": "markdown",
   "id": "f2cbc5b1",
   "metadata": {},
   "source": [
    "Then we try the same again but with both states as our target. "
   ]
  },
  {
   "cell_type": "markdown",
   "id": "fa53fd4a",
   "metadata": {},
   "source": [
    "objFH = SquareLoss(theta, ode, x0, t0, t, solution[1::,:], ['V','R'])\n",
    "\n",
    "res = scipy.optimize.minimize(fun=objFH.cost, jac=objFH.sensitivity, x0=theta,\n",
    "                              bounds=boxBounds, method='L-BFGS-B')\n",
    "print(res)\n"
   ]
  },
  {
   "cell_type": "markdown",
   "id": "d94fcdab",
   "metadata": {},
   "source": [
    "\n",
    "Note how the estimates are the same, unlike other models.\n",
    "\n",
    "#TODO why is this?\n",
    "\n"
   ]
  },
  {
   "cell_type": "markdown",
   "id": "883a35e5",
   "metadata": {},
   "source": [
    "## Estimating initial value\n",
    "\n",
    "We can further assume that we have no idea about the initial values for\n",
    "$V$ and $R$ as well. We also provide a guesstimate to set off the\n",
    "optimization. The input vector $\\theta$ must have the parameters first,\n",
    "then the initial values, along with the corresponding bounds.\n",
    "\n",
    "First, only a single target state, i.e. we only have observations for\n",
    "one of states which is $R$ in this case"
   ]
  },
  {
   "cell_type": "code",
   "execution_count": null,
   "id": "138e3689",
   "metadata": {},
   "outputs": [],
   "source": [
    "objFH = SquareLoss(theta, ode, x0, t0, t, solution[1::,1], 'R')\n",
    "\n",
    "boxBounds = [(0.0,5.0), \n",
    "             (0.0,5.0),\n",
    "             (0.0,5.0),\n",
    "             (None,None),\n",
    "             (None,None)]\n",
    "\n",
    "res = scipy.optimize.minimize(fun=objFH.costIV,\n",
    "                              jac=objFH.sensitivityIV,\n",
    "                              x0=theta + [-0.5,0.5],\n",
    "                              bounds=boxBounds, \n",
    "                              method='L-BFGS-B')\n",
    "\n",
    "print(res)"
   ]
  },
  {
   "cell_type": "markdown",
   "id": "af2b3afa",
   "metadata": {},
   "source": [
    "\n",
    "Then we can find both states as target at the same time.\n"
   ]
  },
  {
   "cell_type": "code",
   "execution_count": null,
   "id": "869a5561",
   "metadata": {},
   "outputs": [],
   "source": [
    "objFH = SquareLoss(theta, ode, x0, t0, t, solution[1::,:], ['V','R'])\n",
    "\n",
    "res = scipy.optimize.minimize(fun=objFH.costIV, \n",
    "                              jac=objFH.sensitivityIV, \n",
    "                              x0=theta + [-0.5, 0.5],\n",
    "                              bounds=boxBounds, \n",
    "                              method='L-BFGS-B')\n",
    "\n",
    "print(res)\n"
   ]
  },
  {
   "cell_type": "markdown",
   "id": "3c045544",
   "metadata": {},
   "source": [
    "\n",
    "See the difference between the two estimates with the latter method; both states\n",
    "were used, yielding superior estimates. Note that only the forward\n",
    "sensitivity method is implemented when estimating the initial value, and\n",
    "it is assumed that the starting condition for all the states are\n",
    "unknown.\n",
    "\n",
    "The choice of algorithm here is the **L-BFGS-B** which is a better\n",
    "choice because the parameter space of the FitzHugh is rough (i.e. large\n",
    "second derivative) as well as being multimodal. This means that the\n",
    "Hessian is not guaranteed to be positive definite and approximation\n",
    "using $J^{\\top}J$ is poor, with $J$ being the Jacobian of the objective\n",
    "function."
   ]
  }
 ],
 "metadata": {
  "kernelspec": {
   "display_name": "Python 3.9.15 ('sphinx-doc')",
   "language": "python",
   "name": "python3"
  },
  "language_info": {
   "name": "python",
   "version": "3.9.15"
  },
  "vscode": {
   "interpreter": {
    "hash": "4dc1e323c80fe09539c74ad5c5a7c7d8d9ff99e04f7b3dbd3680daf878629d6e"
   }
  }
 },
 "nbformat": 4,
 "nbformat_minor": 5
}
