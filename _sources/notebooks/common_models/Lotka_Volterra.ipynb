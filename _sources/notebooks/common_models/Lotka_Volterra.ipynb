{
 "cells": [
  {
   "cell_type": "markdown",
   "metadata": {},
   "source": [
    "# Lotka Volterra\n",
    "\n",
    "{func}`.Lotka_Volterra` - the standard predator and prey model with two states and four parameters {cite}`Lotka1920`\n",
    "\n",
    "$$\\begin{aligned}\n",
    "\\frac{dx}{dt} &= \\alpha x - cxy \\\\\n",
    "\\frac{dy}{dt} &= -\\delta y + \\gamma xy\n",
    "\\end{aligned}$$\n",
    "\n",
    "with both birth and death processes."
   ]
  },
  {
   "cell_type": "code",
   "execution_count": null,
   "id": "758e12e8",
   "metadata": {},
   "outputs": [],
   "source": [
    "from pygom import common_models\n",
    "\n",
    "import numpy\n",
    "\n",
    "import matplotlib.pyplot as plt\n",
    "\n",
    "x0 = [2.0, 6.0]\n",
    "\n",
    "ode = common_models.Lotka_Volterra({'alpha':1, 'delta':3, 'c':2, 'gamma':6})\n",
    "\n",
    "ode.initial_values = (x0, 0)\n",
    "\n",
    "t = numpy.linspace(0.1, 100, 10000)\n",
    "\n",
    "solution = ode.integrate(t)\n",
    "\n",
    "ode.plot()\n"
   ]
  },
  {
   "cell_type": "markdown",
   "id": "1943441d",
   "metadata": {},
   "source": [
    "Then we can generate the graph at [Wolfram\n",
    "Alpha](http://www.wolframalpha.com/input/?i=lotka-volterra+equations)\n",
    "with varying initial conditions.\n"
   ]
  },
  {
   "cell_type": "markdown",
   "id": "b5c82937",
   "metadata": {},
   "source": [
    "x1List = numpy.linspace(0.2, 2.0, 5)\n",
    "\n",
    "x2List = numpy.linspace(0.6, 6.0, 5)\n",
    "\n",
    "fig = plt.figure()\n"
   ]
  },
  {
   "cell_type": "markdown",
   "id": "5a492117",
   "metadata": {},
   "source": [
    "\n",
    "solutionList = list()\n",
    "\n"
   ]
  },
  {
   "cell_type": "code",
   "execution_count": null,
   "id": "f2a1d859",
   "metadata": {},
   "outputs": [],
   "source": [
    "ode = common_models.Lotka_Volterra({'alpha':1, 'delta':3, 'c':2, 'gamma':6})\n",
    "\n",
    "for i in range(len(x1List)): \n",
    "    ode.initial_values = ([x1List[i], x2List[i]], 0)\n",
    "\n",
    "solutionList += [ode.integrate(t)]\n",
    "\n",
    "for i in range(len(x1List)):\n",
    "    plt.plot(solutionList[i][100::,0], solutionList[i][100::,1], 'b')\n",
    "\n",
    "plt.xlabel('x')\n",
    "\n",
    "plt.ylabel('y')\n",
    "\n",
    "plt.show()"
   ]
  },
  {
   "cell_type": "markdown",
   "id": "c628f283",
   "metadata": {},
   "source": [
    "We also know that the system has the critical points at\n",
    "$x = \\delta / \\gamma$ and $y=\\alpha / c$. If we changes the parameters\n",
    "in such a way that the ration between $x$ and $y$ remains the same, then\n",
    "we get a figure as below.\n"
   ]
  },
  {
   "cell_type": "code",
   "execution_count": null,
   "id": "837940dd",
   "metadata": {},
   "outputs": [],
   "source": [
    "cList = numpy.linspace(0.1, 2.0, 5)\n",
    "\n",
    "gammaList = numpy.linspace(0.6, 6.0, 5)\n",
    "\n",
    "fig = plt.figure()\n",
    "\n",
    "for i in range(len(x1List)):  \n",
    "    ode = common_models.Lotka_Volterra({'alpha':1, 'delta':3, 'c':cList[i], 'gamma':gammaList[i]})\n",
    "\n",
    "ode.initial_values = (x0, 0) \n",
    "solutionList += [ode.integrate(t)]\n",
    "\n",
    "for i in range(len(cList)):\n",
    "    plt.plot(solutionList[i][100::,0], solutionList[i][100::,1])\n",
    "\n",
    "plt.xlabel('x')\n",
    "\n",
    "plt.ylabel('y')\n",
    "\n",
    "plt.show()\n"
   ]
  },
  {
   "cell_type": "markdown",
   "id": "f05ce4a3",
   "metadata": {},
   "source": [
    "\n",
    "\n",
    "where all the cycles goes through the same points."
   ]
  }
 ],
 "metadata": {
  "kernelspec": {
   "display_name": "Python 3.9.15 ('sphinx-doc')",
   "language": "python",
   "name": "python3"
  },
  "language_info": {
   "name": "python",
   "version": "3.9.15"
  },
  "vscode": {
   "interpreter": {
    "hash": "4dc1e323c80fe09539c74ad5c5a7c7d8d9ff99e04f7b3dbd3680daf878629d6e"
   }
  }
 },
 "nbformat": 4,
 "nbformat_minor": 5
}
