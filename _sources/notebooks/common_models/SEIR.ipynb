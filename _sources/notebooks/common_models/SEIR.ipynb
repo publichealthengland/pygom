{
 "cells": [
  {
   "cell_type": "markdown",
   "metadata": {},
   "source": [
    "# SEIR\n",
    "{func}`.SEIR`\n",
    "\n",
    "A natural extension to the SIR is the SEIR model. An extra parameter\n",
    "$\\alpha$, which is the inverse of the incubation period is introduced.\n",
    "\n",
    "$$\\begin{aligned}\n",
    "\\frac{dS}{dt} &= -\\beta SI \\\\\n",
    "\\end{aligned}$$$$\\begin{aligned}\n",
    "\\frac{dE}{dt} &= \\beta SI - \\alpha E \\\\\n",
    "\\end{aligned}$$$$\\begin{aligned}\n",
    "\\frac{dI}{dt} &= \\alpha E - \\gamma I \\\\\n",
    "\\end{aligned}$$$$\\frac{dR}{dt} &= \\gamma I$$\n",
    "\n",
    "We use the parameters from {cite:t}`Aron1984` here to generate our plots,\n",
    "which does not yield a *nice* and *sensible* epidemic curve as the birth\n",
    "and death processes are missing.\n",
    "\n"
   ]
  },
  {
   "cell_type": "markdown",
   "id": "bd15619d",
   "metadata": {},
   "source": [
    "from pygom import common_models\n",
    "\n",
    "import numpy\n",
    "\n",
    "ode = common_models.SEIR({'beta':1800, 'gamma':100, 'alpha':35.84})\n",
    "\n",
    "t = numpy.linspace(0, 50, 1001)\n",
    "\n",
    "Ix0 = [0.0658, 0.0007, 0.0002, 0.0]\n",
    "\n",
    "ode.initial_values = (x0, t[0])\n",
    "\n",
    "solution = ode.integrate(t[1::])\n",
    "\n",
    "ode.plot()"
   ]
  }
 ],
 "metadata": {
  "language_info": {
   "name": "python"
  }
 },
 "nbformat": 4,
 "nbformat_minor": 5
}
