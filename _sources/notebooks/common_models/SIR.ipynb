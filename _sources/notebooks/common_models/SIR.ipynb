{
 "cells": [
  {
   "cell_type": "markdown",
   "metadata": {},
   "source": [
    "# SIR\n",
    "\n",
    "{func}`.SIR`\n",
    "\n",
    "A standard SIR model defined by the following equations.\n",
    "\n",
    "$$\\begin{aligned}\n",
    "\\frac{dS}{dt} &= -\\beta SI \\\\\n",
    "\\frac{dI}{dt} &= \\beta SI - \\gamma I \\\\\n",
    "\\frac{dR}{dt} &= \\gamma I\n",
    "\\end{aligned}$$\n",
    "\n",
    "Note that the examples and parameters are taken from {cite:t}`Brauer2008`,\n",
    "namely Figure 1.4. Hence, the first example  below may not appear to make\n",
    "much sense.\n",
    "\n",
    "#TODO don't understand\n"
   ]
  },
  {
   "cell_type": "code",
   "execution_count": null,
   "id": "23fa5cee",
   "metadata": {},
   "outputs": [],
   "source": [
    "from pygom import common_models\n",
    "\n",
    "import numpy\n",
    "\n",
    "ode = common_models.SIR({'beta':3.6, 'gamma':0.2})\n",
    "\n",
    "t = numpy.linspace(0, 730, 1001)\n",
    "\n",
    "N = 7781984.0\n",
    "\n",
    "x0 = [1.0, 10.0/N, 0.0]\n",
    "\n",
    "ode.initial_values = (x0, t[0])\n",
    "\n",
    "solution = ode.integrate(t[1::])\n",
    "\n",
    "ode.plot()\n"
   ]
  },
  {
   "cell_type": "markdown",
   "id": "2b5252ff",
   "metadata": {},
   "source": [
    "\n",
    "Now we have the more sensible plot, where the initial susceptible population is\n",
    "only a fraction of 1.\n"
   ]
  },
  {
   "cell_type": "code",
   "execution_count": null,
   "id": "bd78eb6c",
   "metadata": {},
   "outputs": [],
   "source": [
    "x0 = [0.065, 123*(5.0/30.0)/N, 0.0]\n",
    "\n",
    "ode.initial_values = (x0, t[0])\n",
    "\n",
    "solution = ode.integrate(t[1::])\n",
    "\n",
    "ode.plot()"
   ]
  }
 ],
 "metadata": {
  "kernelspec": {
   "display_name": "Python 3.9.15 ('sphinx-doc')",
   "language": "python",
   "name": "python3"
  },
  "language_info": {
   "name": "python",
   "version": "3.9.15"
  },
  "vscode": {
   "interpreter": {
    "hash": "4dc1e323c80fe09539c74ad5c5a7c7d8d9ff99e04f7b3dbd3680daf878629d6e"
   }
  }
 },
 "nbformat": 4,
 "nbformat_minor": 5
}
