{
 "cells": [
  {
   "cell_type": "markdown",
   "metadata": {},
   "source": [
    "# FitzHugh\n",
    "\n",
    "{func}`.FitzHugh` - the {cite:t}`FitzHugh1961` model without external stimulus\n",
    "\n",
    "This is a commonly used model when developing new methodology\n",
    "with regards to ODEs, see {cite:p}`Ramsay2007` and {cite}`Girolami2011`.\n",
    "\n",
    "#TODO why common model?\n",
    "\n",
    "$$\\begin{aligned}\n",
    "\\frac{dV}{dt} &=  c ( V - \\frac{V^{3}}{3} + R) \\\\\n",
    "\\frac{dR}{dt} &= -\\frac{1}{c}(V - a + bR).\n",
    "\\end{aligned}$$\n",
    "\n",
    "An example of using this model follows.\n"
   ]
  },
  {
   "cell_type": "code",
   "execution_count": null,
   "id": "c751b93a",
   "metadata": {},
   "outputs": [],
   "source": [
    "import numpy\n",
    "\n",
    "from pygom import common_models\n",
    "\n",
    "import matplotlib.pyplot as plt\n",
    "\n",
    "ode = common_models.FitzHugh({'a':0.2, 'b':0.2, 'c':3.0})\n",
    "\n",
    "t = numpy.linspace(0, 20, 101)\n",
    "\n",
    "x0 = [1.0, -1.0]\n",
    "\n",
    "ode.initial_values = (x0, t[0])\n",
    "\n",
    "solution = ode.integrate(t[1::])"
   ]
  },
  {
   "cell_type": "code",
   "execution_count": null,
   "id": "ccee969d",
   "metadata": {
    "tags": [
     "hide-input"
    ]
   },
   "outputs": [],
   "source": [
    "ode.plot()"
   ]
  },
  {
   "cell_type": "code",
   "execution_count": null,
   "id": "98a5e32e",
   "metadata": {
    "tags": [
     "hide-input"
    ]
   },
   "outputs": [],
   "source": [
    "fig = plt.figure()\n",
    "\n",
    "plt.plot(solution[:,0], solution[:,1], 'b')\n",
    "plt.show()\n"
   ]
  }
 ],
 "metadata": {
  "kernelspec": {
   "display_name": "Python 3.9.15 ('sphinx-doc')",
   "language": "python",
   "name": "python3"
  },
  "language_info": {
   "name": "python",
   "version": "3.9.15"
  },
  "vscode": {
   "interpreter": {
    "hash": "4dc1e323c80fe09539c74ad5c5a7c7d8d9ff99e04f7b3dbd3680daf878629d6e"
   }
  }
 },
 "nbformat": 4,
 "nbformat_minor": 5
}
