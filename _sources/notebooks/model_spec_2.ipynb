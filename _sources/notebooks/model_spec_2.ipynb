{
 "cells": [
  {
   "cell_type": "markdown",
   "id": "5d9ccebd",
   "metadata": {},
   "source": [
    "# Defining a system of differential equations\n",
    "\n",
    "When using PyGOM to study a compartmental model or series of ODEs, the starting point is to encapsulate the relevant information into a class {class}`.SimulateOde`.\n",
    "Once defined as an instance of this class, the system is ready for the application of PyGOM's various features such as simulation and parameter fitting.\n",
    "\n",
    "## Events and Transitions\n",
    "\n",
    "If we are dealing with a compartmental model, the easiest way to define this is by feeding {class}`.Transition` and {class}`.Event` objects into the central class, {class}`.SimulateOde`.\n",
    "We demonstrate how this is done via the example of an SIR model with some added features.\n",
    "\n",
    "### Basic SIR model example\n",
    "\n",
    "We first import the relevant modules:"
   ]
  },
  {
   "cell_type": "code",
   "execution_count": 1,
   "id": "e9ec3eef",
   "metadata": {},
   "outputs": [],
   "source": [
    "from pygom import Event, Transition, SimulateOde"
   ]
  },
  {
   "cell_type": "markdown",
   "id": "a2ca0d71",
   "metadata": {},
   "source": [
    "Next we specify the names of the states and parameters, which we can declare as lists.\n",
    "Since we will most commonly be dealing with states which represent the counts of something, PyGOM will assume that the states are constrained to have a minimum value of zero and no upper bound.\n",
    "If this is not the case, we can inform PyGOM about such limits by declaring the state as a tuple, with the first element being the state name and the second being another tuple containing the minimum and maximum allowed values.\n",
    "We demonstrate below how this is done, even though in this case it's not necessary as we are specifying the default limits."
   ]
  },
  {
   "cell_type": "code",
   "execution_count": 2,
   "id": "d73b3253",
   "metadata": {},
   "outputs": [],
   "source": [
    "params=['beta', 'gamma', 'N']\n",
    "states=[('S', (0, None)), ('I', (0, None)), ('R', (0, None))]\n",
    "# equivalent to:\n",
    "# states=['S', 'I', 'R']"
   ]
  },
  {
   "cell_type": "markdown",
   "id": "3e6f1eb3",
   "metadata": {},
   "source": [
    "Transitions are encapsulated in a {class}`.Transition` class.\n",
    "We signify that a transition is between states by setting `transition_type`='T' and must also provide the origin and destination.\n",
    "An {class}`.Event` object is then defined by the transition (or transitions) and the rate at which it occurs."
   ]
  },
  {
   "cell_type": "code",
   "execution_count": 3,
   "id": "0c2acdad",
   "metadata": {},
   "outputs": [],
   "source": [
    "# 1) Infection\n",
    "## Transition\n",
    "transition_infection=Transition(origin='S', destination='I', transition_type='T', magnitude='1')\n",
    "## Event\n",
    "event_infection=Event(transition_list=[transition_infection], rate='beta*S*I/N')\n",
    "\n",
    "# 2) Recovery\n",
    "## Transition\n",
    "transition_recovery=Transition(origin='I', destination='R', transition_type='T', magnitude='1')\n",
    "## Event\n",
    "event_recovery=Event(transition_list=[transition_recovery], rate='gamma*I')"
   ]
  },
  {
   "cell_type": "markdown",
   "id": "f4bac138",
   "metadata": {},
   "source": [
    "We are now ready to initialise the model object:"
   ]
  },
  {
   "cell_type": "code",
   "execution_count": 4,
   "id": "c30842fc",
   "metadata": {},
   "outputs": [],
   "source": [
    "model=SimulateOde(state=states, param=params, event=[event_infection, event_recovery])"
   ]
  },
  {
   "cell_type": "markdown",
   "id": "f3f82eff",
   "metadata": {},
   "source": [
    "We can check that the state change matrix (introduced as $\\mathcal{D}$ {doc}`previously <solution>`), in which the columns correspond to events and the rows to the associated changes in the variables, is what we'd expect:"
   ]
  },
  {
   "cell_type": "code",
   "execution_count": 5,
   "id": "e25c3cbf",
   "metadata": {},
   "outputs": [
    {
     "data": {
      "text/latex": [
       "$\\displaystyle \\left[\\begin{matrix}-1 & 0\\\\1 & -1\\\\0 & 1\\end{matrix}\\right]$"
      ],
      "text/plain": [
       "Matrix([\n",
       "[-1,  0],\n",
       "[ 1, -1],\n",
       "[ 0,  1]])"
      ]
     },
     "execution_count": 5,
     "metadata": {},
     "output_type": "execute_result"
    }
   ],
   "source": [
    "model.get_StateChangeMatrix()"
   ]
  },
  {
   "cell_type": "markdown",
   "id": "fb8bad5a",
   "metadata": {},
   "source": [
    "and we can also verify the event rate vector ($\\boldsymbol{\\lambda}$ from {doc}`before <solution>`) is correct:"
   ]
  },
  {
   "cell_type": "code",
   "execution_count": 6,
   "id": "11230805",
   "metadata": {},
   "outputs": [
    {
     "data": {
      "text/latex": [
       "$\\displaystyle \\left[\\begin{matrix}\\frac{I S \\beta}{N}\\\\I \\gamma\\end{matrix}\\right]$"
      ],
      "text/plain": [
       "Matrix([\n",
       "[I*S*beta/N],\n",
       "[   I*gamma]])"
      ]
     },
     "execution_count": 6,
     "metadata": {},
     "output_type": "execute_result"
    }
   ],
   "source": [
    "model.get_EventRateVector()"
   ]
  },
  {
   "cell_type": "markdown",
   "id": "3eedccbb",
   "metadata": {},
   "source": [
    "We can actually get away with a more shorthand approach in the model definition.\n",
    "PyGOM assumes that the magnitude of a transition is 1 unless told otherwise, so there is no need to specify the `magnitude` argument here.\n",
    "Also, both events only involve one transition each, so it's a bit cumbersome to always have to wrap a {class}`.Transition` within an {class}`.Event`.\n",
    "A shorthand is to add the rate information to the {class}`.Transition`, this time as a parameter called `equation` and to feed the transitions in directly where we previously input the event list."
   ]
  },
  {
   "cell_type": "code",
   "execution_count": 7,
   "id": "e71b6f08",
   "metadata": {},
   "outputs": [],
   "source": [
    "# 1) Infection\n",
    "transition_infection=Transition(origin='S', destination='I', transition_type='T', equation='beta*S*I/N')\n",
    "\n",
    "# 2) Recovery\n",
    "transition_recovery=Transition(origin='I', destination='R', transition_type='T', equation='gamma*I')\n",
    "\n",
    "# (states and params already defined in previous code cell)\n",
    "model2=SimulateOde(state=states, param=params, event=[transition_infection, transition_recovery])"
   ]
  },
  {
   "cell_type": "markdown",
   "id": "ed33bd64",
   "metadata": {},
   "source": [
    "We briefly demonstrate that the end result is unchanged:"
   ]
  },
  {
   "cell_type": "code",
   "execution_count": 8,
   "id": "11bfd223",
   "metadata": {},
   "outputs": [
    {
     "data": {
      "text/latex": [
       "$\\displaystyle \\left[\\begin{matrix}-1 & 0\\\\1 & -1\\\\0 & 1\\end{matrix}\\right]$"
      ],
      "text/plain": [
       "Matrix([\n",
       "[-1,  0],\n",
       "[ 1, -1],\n",
       "[ 0,  1]])"
      ]
     },
     "execution_count": 8,
     "metadata": {},
     "output_type": "execute_result"
    }
   ],
   "source": [
    "model2.get_StateChangeMatrix()"
   ]
  },
  {
   "cell_type": "code",
   "execution_count": 9,
   "id": "5900f75d",
   "metadata": {},
   "outputs": [
    {
     "data": {
      "text/latex": [
       "$\\displaystyle \\left[\\begin{matrix}\\frac{I S \\beta}{N}\\\\I \\gamma\\end{matrix}\\right]$"
      ],
      "text/plain": [
       "Matrix([\n",
       "[I*S*beta/N],\n",
       "[   I*gamma]])"
      ]
     },
     "execution_count": 9,
     "metadata": {},
     "output_type": "execute_result"
    }
   ],
   "source": [
    "model2.get_EventRateVector()"
   ]
  },
  {
   "cell_type": "markdown",
   "id": "3d7597f8",
   "metadata": {},
   "source": [
    "When given a set of events and transitions, PyGOM can convert this into a set of ODEs:"
   ]
  },
  {
   "cell_type": "code",
   "execution_count": 10,
   "id": "6842eeeb",
   "metadata": {},
   "outputs": [
    {
     "data": {
      "text/latex": [
       "$\\displaystyle \\left[\\begin{matrix}- \\frac{I S \\beta}{N}\\\\- I \\gamma + \\frac{I S \\beta}{N}\\\\I \\gamma\\end{matrix}\\right]$"
      ],
      "text/plain": [
       "Matrix([\n",
       "[          -I*S*beta/N],\n",
       "[-I*gamma + I*S*beta/N],\n",
       "[              I*gamma]])"
      ]
     },
     "execution_count": 10,
     "metadata": {},
     "output_type": "execute_result"
    }
   ],
   "source": [
    "model2.get_ode_eqn()"
   ]
  },
  {
   "cell_type": "markdown",
   "id": "0d69c981",
   "metadata": {},
   "source": [
    "and it can be helpful to verify visually that the model is defined as intended:"
   ]
  },
  {
   "cell_type": "code",
   "execution_count": 11,
   "id": "fcabf41d",
   "metadata": {},
   "outputs": [
    {
     "data": {
      "image/svg+xml": [
       "<?xml version=\"1.0\" encoding=\"UTF-8\" standalone=\"no\"?>\n",
       "<!DOCTYPE svg PUBLIC \"-//W3C//DTD SVG 1.1//EN\"\n",
       " \"http://www.w3.org/Graphics/SVG/1.1/DTD/svg11.dtd\">\n",
       "<!-- Generated by graphviz version 12.0.0 (0)\n",
       " -->\n",
       "<!-- Pages: 1 -->\n",
       "<svg width=\"305pt\" height=\"44pt\"\n",
       " viewBox=\"0.00 0.00 305.00 44.00\" xmlns=\"http://www.w3.org/2000/svg\" xmlns:xlink=\"http://www.w3.org/1999/xlink\">\n",
       "<g id=\"graph0\" class=\"graph\" transform=\"scale(1 1) rotate(0) translate(4 40)\">\n",
       "<polygon fill=\"white\" stroke=\"none\" points=\"-4,4 -4,-40 301,-40 301,4 -4,4\"/>\n",
       "<!-- S -->\n",
       "<g id=\"node1\" class=\"node\">\n",
       "<title>S</title>\n",
       "<ellipse fill=\"none\" stroke=\"black\" cx=\"27\" cy=\"-18\" rx=\"27\" ry=\"18\"/>\n",
       "<text text-anchor=\"middle\" x=\"27\" y=\"-12.95\" font-family=\"Times New Roman,serif\" font-size=\"14.00\">S</text>\n",
       "</g>\n",
       "<!-- I -->\n",
       "<g id=\"node2\" class=\"node\">\n",
       "<title>I</title>\n",
       "<ellipse fill=\"none\" stroke=\"black\" cx=\"162.75\" cy=\"-18\" rx=\"27\" ry=\"18\"/>\n",
       "<text text-anchor=\"middle\" x=\"162.75\" y=\"-12.95\" font-family=\"Times New Roman,serif\" font-size=\"14.00\">I</text>\n",
       "</g>\n",
       "<!-- S&#45;&gt;I -->\n",
       "<g id=\"edge1\" class=\"edge\">\n",
       "<title>S&#45;&gt;I</title>\n",
       "<path fill=\"none\" stroke=\"black\" d=\"M54.42,-18C74.3,-18 101.81,-18 124.01,-18\"/>\n",
       "<polygon fill=\"black\" stroke=\"black\" points=\"123.87,-21.5 133.87,-18 123.87,-14.5 123.87,-21.5\"/>\n",
       "<text text-anchor=\"middle\" x=\"94.88\" y=\"-21.2\" font-family=\"Times New Roman,serif\" font-size=\"14.00\">β*S*I/N</text>\n",
       "</g>\n",
       "<!-- R -->\n",
       "<g id=\"node3\" class=\"node\">\n",
       "<title>R</title>\n",
       "<ellipse fill=\"none\" stroke=\"black\" cx=\"270\" cy=\"-18\" rx=\"27\" ry=\"18\"/>\n",
       "<text text-anchor=\"middle\" x=\"270\" y=\"-12.95\" font-family=\"Times New Roman,serif\" font-size=\"14.00\">R</text>\n",
       "</g>\n",
       "<!-- I&#45;&gt;R -->\n",
       "<g id=\"edge2\" class=\"edge\">\n",
       "<title>I&#45;&gt;R</title>\n",
       "<path fill=\"none\" stroke=\"black\" d=\"M190.04,-18C202.47,-18 217.54,-18 231.18,-18\"/>\n",
       "<polygon fill=\"black\" stroke=\"black\" points=\"231.17,-21.5 241.17,-18 231.17,-14.5 231.17,-21.5\"/>\n",
       "<text text-anchor=\"middle\" x=\"216.38\" y=\"-21.2\" font-family=\"Times New Roman,serif\" font-size=\"14.00\">γ*I</text>\n",
       "</g>\n",
       "</g>\n",
       "</svg>\n"
      ],
      "text/plain": [
       "<graphviz.graphs.Digraph at 0x1be8e9301d0>"
      ]
     },
     "execution_count": 11,
     "metadata": {},
     "output_type": "execute_result"
    }
   ],
   "source": [
    "graph=model2.get_transition_graph(show=False)\n",
    "graph"
   ]
  },
  {
   "cell_type": "markdown",
   "id": "680ba09a",
   "metadata": {},
   "source": [
    "### More complex example\n",
    "\n",
    "Let's now extend the above model so that it covers all of the aspects outlined in the {doc}`introduction to compartmental models <definition>`.\n",
    "Firstly, let's introduce vital dynamics of birth and death.\n",
    "The total population, $N$, will change if these rates are not balanced.\n",
    "In fact, even if the rates are balanced, $N$ is subject to vary due to stochastic imbalances between births and deaths.\n",
    "To track the potential evolution of this variable, we change $N$ from being a parameter to a state.\n",
    "\n",
    "```{note}\n",
    "Another way to allow $N$ to vary is to define it as a derived parameter by passing:\n",
    "\n",
    "    derived_parameters=[('N', 'S+I+R')]\n",
    "\n",
    "to {class}`.SimulateOde`\n",
    "\n",
    "```\n",
    "\n",
    "Birth and death {class}`.Transition` objects are indicated by `transition_type` B and D respectively and use `destination` and `origin` respectively to define the affected state.\n",
    "\n",
    "We now show this in practice.\n",
    "Whilst it is possible in PyGOM to build on previously existing models, when changing variable definitions we would recommend starting from scratch as we do here:"
   ]
  },
  {
   "cell_type": "code",
   "execution_count": 12,
   "id": "3cf274a7",
   "metadata": {},
   "outputs": [],
   "source": [
    "params=['beta', 'gamma', 'mu']          # now we have the birth rate parameter\n",
    "states=['S', 'I', 'R', 'N']             # now we are treating the population count as a state\n",
    "\n",
    "# Transitions in and out of total population count\n",
    "# These will be used in the following event definitions\n",
    "birth_N=Transition(destination=\"N\", transition_type=\"B\")\n",
    "death_N=Transition(origin=\"N\", transition_type=\"D\")\n",
    "\n",
    "# 1) Birth event into S\n",
    "birth=Transition(destination=\"S\", transition_type=\"B\")\n",
    "event_birth=Event(transition_list=[birth, birth_N], rate='mu*N')\n",
    "\n",
    "# 2) Death event of an S\n",
    "death_S=Transition(origin=\"S\", transition_type=\"D\")\n",
    "event_death_S=Event(transition_list=[death_S, death_N], rate='mu*S')\n",
    "\n",
    "# 3) Death event of an I\n",
    "death_I=Transition(origin=\"I\", transition_type=\"D\")\n",
    "event_death_I=Event(transition_list=[death_I, death_N], rate='mu*I')\n",
    "\n",
    "# 4) Death event of an R\n",
    "death_R=Transition(origin=\"R\", transition_type=\"D\")\n",
    "event_death_R=Event(transition_list=[death_R, death_N], rate='mu*R')\n",
    "\n",
    "model=SimulateOde(state=states, param=params, event=[event_infection,\n",
    "                                                     event_recovery,\n",
    "                                                     event_birth,\n",
    "                                                     event_death_S,\n",
    "                                                     event_death_I,\n",
    "                                                     event_death_R])"
   ]
  },
  {
   "cell_type": "markdown",
   "id": "3181eac9",
   "metadata": {},
   "source": [
    "As before, it's a good idea to check that the transition graph makes sense:"
   ]
  },
  {
   "cell_type": "code",
   "execution_count": 13,
   "id": "0302c933",
   "metadata": {},
   "outputs": [
    {
     "data": {
      "image/svg+xml": [
       "<?xml version=\"1.0\" encoding=\"UTF-8\" standalone=\"no\"?>\n",
       "<!DOCTYPE svg PUBLIC \"-//W3C//DTD SVG 1.1//EN\"\n",
       " \"http://www.w3.org/Graphics/SVG/1.1/DTD/svg11.dtd\">\n",
       "<!-- Generated by graphviz version 12.0.0 (0)\n",
       " -->\n",
       "<!-- Pages: 1 -->\n",
       "<svg width=\"427pt\" height=\"175pt\"\n",
       " viewBox=\"0.00 0.00 427.19 175.22\" xmlns=\"http://www.w3.org/2000/svg\" xmlns:xlink=\"http://www.w3.org/1999/xlink\">\n",
       "<g id=\"graph0\" class=\"graph\" transform=\"scale(1 1) rotate(0) translate(4 171.22)\">\n",
       "<polygon fill=\"white\" stroke=\"none\" points=\"-4,4 -4,-171.22 423.19,-171.22 423.19,4 -4,4\"/>\n",
       "<!-- S -->\n",
       "<g id=\"node1\" class=\"node\">\n",
       "<title>S</title>\n",
       "<ellipse fill=\"none\" stroke=\"black\" cx=\"87.72\" cy=\"-20.72\" rx=\"27\" ry=\"18\"/>\n",
       "<text text-anchor=\"middle\" x=\"87.72\" y=\"-15.67\" font-family=\"Times New Roman,serif\" font-size=\"14.00\">S</text>\n",
       "</g>\n",
       "<!-- I -->\n",
       "<g id=\"node2\" class=\"node\">\n",
       "<title>I</title>\n",
       "<ellipse fill=\"none\" stroke=\"black\" cx=\"223.47\" cy=\"-40.72\" rx=\"27\" ry=\"18\"/>\n",
       "<text text-anchor=\"middle\" x=\"223.47\" y=\"-35.67\" font-family=\"Times New Roman,serif\" font-size=\"14.00\">I</text>\n",
       "</g>\n",
       "<!-- S&#45;&gt;I -->\n",
       "<g id=\"edge1\" class=\"edge\">\n",
       "<title>S&#45;&gt;I</title>\n",
       "<path fill=\"none\" stroke=\"black\" d=\"M114.51,-24.58C134.68,-27.59 162.99,-31.83 185.56,-35.2\"/>\n",
       "<polygon fill=\"black\" stroke=\"black\" points=\"184.86,-38.63 195.26,-36.65 185.89,-31.71 184.86,-38.63\"/>\n",
       "<text text-anchor=\"middle\" x=\"155.6\" y=\"-36.92\" font-family=\"Times New Roman,serif\" font-size=\"14.00\">β*S*I/N</text>\n",
       "</g>\n",
       "<!-- deathS3 -->\n",
       "<g id=\"node7\" class=\"node\">\n",
       "<title>deathS3</title>\n",
       "</g>\n",
       "<!-- S&#45;&gt;deathS3 -->\n",
       "<g id=\"edge5\" class=\"edge\">\n",
       "<title>S&#45;&gt;deathS3</title>\n",
       "<path fill=\"none\" stroke=\"#ff7f00\" d=\"M112.27,-13.12C118.83,-11.26 126,-9.44 132.72,-8.22 160.59,-3.15 193.96,-1.5 211.09,-0.97\"/>\n",
       "<polygon fill=\"#ff7f00\" stroke=\"#ff7f00\" points=\"210.89,-4.47 220.81,-0.75 210.74,2.53 210.89,-4.47\"/>\n",
       "<text text-anchor=\"middle\" x=\"155.6\" y=\"-11.92\" font-family=\"Times New Roman,serif\" font-size=\"14.00\">μ*S</text>\n",
       "</g>\n",
       "<!-- R -->\n",
       "<g id=\"node3\" class=\"node\">\n",
       "<title>R</title>\n",
       "<ellipse fill=\"none\" stroke=\"black\" cx=\"332.22\" cy=\"-60.72\" rx=\"27\" ry=\"18\"/>\n",
       "<text text-anchor=\"middle\" x=\"332.22\" y=\"-55.67\" font-family=\"Times New Roman,serif\" font-size=\"14.00\">R</text>\n",
       "</g>\n",
       "<!-- I&#45;&gt;R -->\n",
       "<g id=\"edge2\" class=\"edge\">\n",
       "<title>I&#45;&gt;R</title>\n",
       "<path fill=\"none\" stroke=\"black\" d=\"M249.77,-45.46C263.1,-47.96 279.69,-51.07 294.42,-53.83\"/>\n",
       "<polygon fill=\"black\" stroke=\"black\" points=\"293.77,-57.26 304.25,-55.67 295.06,-50.38 293.77,-57.26\"/>\n",
       "<text text-anchor=\"middle\" x=\"277.85\" y=\"-55.92\" font-family=\"Times New Roman,serif\" font-size=\"14.00\">γ*I</text>\n",
       "</g>\n",
       "<!-- deathI4 -->\n",
       "<g id=\"node9\" class=\"node\">\n",
       "<title>deathI4</title>\n",
       "</g>\n",
       "<!-- I&#45;&gt;deathI4 -->\n",
       "<g id=\"edge7\" class=\"edge\">\n",
       "<title>I&#45;&gt;deathI4</title>\n",
       "<path fill=\"none\" stroke=\"#4daf4a\" d=\"M248.56,-33.86C254.99,-32.19 261.96,-30.51 268.47,-29.22 286.23,-25.71 307.11,-23.2 319.74,-21.85\"/>\n",
       "<polygon fill=\"#4daf4a\" stroke=\"#4daf4a\" points=\"320,-25.34 329.61,-20.88 319.32,-18.38 320,-25.34\"/>\n",
       "<text text-anchor=\"middle\" x=\"277.85\" y=\"-32.92\" font-family=\"Times New Roman,serif\" font-size=\"14.00\">μ*I</text>\n",
       "</g>\n",
       "<!-- deathR5 -->\n",
       "<g id=\"node11\" class=\"node\">\n",
       "<title>deathR5</title>\n",
       "</g>\n",
       "<!-- R&#45;&gt;deathR5 -->\n",
       "<g id=\"edge9\" class=\"edge\">\n",
       "<title>R&#45;&gt;deathR5</title>\n",
       "<path fill=\"none\" stroke=\"#f781bf\" d=\"M359.26,-60.72C375.2,-60.72 394.8,-60.72 406.97,-60.72\"/>\n",
       "<polygon fill=\"#f781bf\" stroke=\"#f781bf\" points=\"406.86,-64.22 416.86,-60.72 406.86,-57.22 406.86,-64.22\"/>\n",
       "<text text-anchor=\"middle\" x=\"388.85\" y=\"-63.92\" font-family=\"Times New Roman,serif\" font-size=\"14.00\">μ*R</text>\n",
       "</g>\n",
       "<!-- N -->\n",
       "<g id=\"node4\" class=\"node\">\n",
       "<title>N</title>\n",
       "<ellipse fill=\"none\" stroke=\"black\" cx=\"87.72\" cy=\"-120.72\" rx=\"27\" ry=\"18\"/>\n",
       "<text text-anchor=\"middle\" x=\"87.72\" y=\"-115.67\" font-family=\"Times New Roman,serif\" font-size=\"14.00\">N</text>\n",
       "</g>\n",
       "<!-- deathN3 -->\n",
       "<g id=\"node8\" class=\"node\">\n",
       "<title>deathN3</title>\n",
       "</g>\n",
       "<!-- N&#45;&gt;deathN3 -->\n",
       "<g id=\"edge6\" class=\"edge\">\n",
       "<title>N&#45;&gt;deathN3</title>\n",
       "<path fill=\"none\" stroke=\"#ff7f00\" d=\"M110.87,-130.53C117.79,-133.39 125.5,-136.37 132.72,-138.72 160.36,-147.71 193.82,-154.99 211.03,-158.48\"/>\n",
       "<polygon fill=\"#ff7f00\" stroke=\"#ff7f00\" points=\"210.35,-161.92 220.84,-160.4 211.7,-155.05 210.35,-161.92\"/>\n",
       "<text text-anchor=\"middle\" x=\"155.6\" y=\"-153.92\" font-family=\"Times New Roman,serif\" font-size=\"14.00\">μ*S</text>\n",
       "</g>\n",
       "<!-- deathN4 -->\n",
       "<g id=\"node10\" class=\"node\">\n",
       "<title>deathN4</title>\n",
       "</g>\n",
       "<!-- N&#45;&gt;deathN4 -->\n",
       "<g id=\"edge8\" class=\"edge\">\n",
       "<title>N&#45;&gt;deathN4</title>\n",
       "<path fill=\"none\" stroke=\"#4daf4a\" d=\"M115.14,-120.72C144.37,-120.72 190.11,-120.72 211.17,-120.72\"/>\n",
       "<polygon fill=\"#4daf4a\" stroke=\"#4daf4a\" points=\"210.91,-124.22 220.91,-120.72 210.91,-117.22 210.91,-124.22\"/>\n",
       "<text text-anchor=\"middle\" x=\"155.6\" y=\"-123.92\" font-family=\"Times New Roman,serif\" font-size=\"14.00\">μ*I</text>\n",
       "</g>\n",
       "<!-- deathN5 -->\n",
       "<g id=\"node12\" class=\"node\">\n",
       "<title>deathN5</title>\n",
       "</g>\n",
       "<!-- N&#45;&gt;deathN5 -->\n",
       "<g id=\"edge10\" class=\"edge\">\n",
       "<title>N&#45;&gt;deathN5</title>\n",
       "<path fill=\"none\" stroke=\"#f781bf\" d=\"M109.81,-109.73C116.95,-106.33 125.05,-102.8 132.72,-100.22 160.09,-91 193.67,-85.06 210.96,-82.38\"/>\n",
       "<polygon fill=\"#f781bf\" stroke=\"#f781bf\" points=\"211.43,-85.85 220.82,-80.96 210.43,-78.92 211.43,-85.85\"/>\n",
       "<text text-anchor=\"middle\" x=\"155.6\" y=\"-103.92\" font-family=\"Times New Roman,serif\" font-size=\"14.00\">μ*R</text>\n",
       "</g>\n",
       "<!-- birthS2 -->\n",
       "<g id=\"node5\" class=\"node\">\n",
       "<title>birthS2</title>\n",
       "</g>\n",
       "<!-- birthS2&#45;&gt;S -->\n",
       "<g id=\"edge3\" class=\"edge\">\n",
       "<title>birthS2&#45;&gt;S</title>\n",
       "<path fill=\"none\" stroke=\"#377eb8\" d=\"M0.78,-20.72C2.18,-20.72 26.73,-20.72 49.23,-20.72\"/>\n",
       "<polygon fill=\"#377eb8\" stroke=\"#377eb8\" points=\"49.16,-24.22 59.16,-20.72 49.16,-17.22 49.16,-24.22\"/>\n",
       "<text text-anchor=\"middle\" x=\"30.72\" y=\"-23.92\" font-family=\"Times New Roman,serif\" font-size=\"14.00\">μ*N</text>\n",
       "</g>\n",
       "<!-- birthN2 -->\n",
       "<g id=\"node6\" class=\"node\">\n",
       "<title>birthN2</title>\n",
       "</g>\n",
       "<!-- birthN2&#45;&gt;N -->\n",
       "<g id=\"edge4\" class=\"edge\">\n",
       "<title>birthN2&#45;&gt;N</title>\n",
       "<path fill=\"none\" stroke=\"#377eb8\" d=\"M0.78,-120.72C2.18,-120.72 26.73,-120.72 49.23,-120.72\"/>\n",
       "<polygon fill=\"#377eb8\" stroke=\"#377eb8\" points=\"49.16,-124.22 59.16,-120.72 49.16,-117.22 49.16,-124.22\"/>\n",
       "<text text-anchor=\"middle\" x=\"30.72\" y=\"-123.92\" font-family=\"Times New Roman,serif\" font-size=\"14.00\">μ*N</text>\n",
       "</g>\n",
       "</g>\n",
       "</svg>\n"
      ],
      "text/plain": [
       "<graphviz.graphs.Digraph at 0x1be8ea60c50>"
      ]
     },
     "execution_count": 13,
     "metadata": {},
     "output_type": "execute_result"
    }
   ],
   "source": [
    "graph=model.get_transition_graph(show=False)\n",
    "graph"
   ]
  },
  {
   "cell_type": "markdown",
   "id": "f4256782",
   "metadata": {},
   "source": [
    "Arrows in black represent transitions not correlated with any others.\n",
    "Any non-black arrows which do share the same colour are correlated with each other and so are understood to change together when the underlying event occurs.\n",
    "For example, the death of a recovered individual simultaneously decreases the $R$ and $N$ compartments by 1.\n",
    "\n",
    "```{note}\n",
    "Whilst the colour pallette we have used is ostensibly friendly to those with colour-blindness, we appreciate that there is room for improvement.\n",
    "If the user has installed the package in editable mode, they may wish to substitute in their preferred pallette by changing the `cols` variable of the `_transition_graph` module.\n",
    "```\n",
    "\n",
    "Let's say we wish to replicate the {doc}`example <definition>` where we track the money spent, $M$, during the epidemic due to each infection event costing $c$ units.\n",
    "We also track the cumulative infections in $Itot$.\n",
    "This is implemented by adding these as {class}`.Transition` instances to the infection {class}`.Event`.\n",
    "Note that the cost transition requires us to specify the magnitude since it is not 1."
   ]
  },
  {
   "cell_type": "code",
   "execution_count": 14,
   "id": "50278709",
   "metadata": {},
   "outputs": [],
   "source": [
    "# Redo old stuff:\n",
    "\n",
    "params=['beta', 'gamma', 'mu', 'c']\n",
    "states=['S', 'I', 'R', 'N', 'M', 'Itot']\n",
    "\n",
    "# Infection\n",
    "transition_infection=Transition(origin='S', destination='I', transition_type='T')\n",
    "transition_cost=Transition(destination='M', transition_type='B', magnitude='c')            # we must declare the magnitude of the cost\n",
    "transition_count=Transition(destination='Itot', transition_type='B')\n",
    "event_infection=Event(transition_list=[transition_infection, transition_cost, transition_count], rate='beta*S*I/N')\n",
    "\n",
    "model=SimulateOde(state=states,\n",
    "                  param=params,\n",
    "                  event=[event_infection,\n",
    "                         event_recovery,\n",
    "                         event_birth,\n",
    "                         event_death_S,\n",
    "                         event_death_I,\n",
    "                         event_death_R])"
   ]
  },
  {
   "cell_type": "code",
   "execution_count": 15,
   "id": "905c0e9c",
   "metadata": {},
   "outputs": [
    {
     "data": {
      "image/svg+xml": [
       "<?xml version=\"1.0\" encoding=\"UTF-8\" standalone=\"no\"?>\n",
       "<!DOCTYPE svg PUBLIC \"-//W3C//DTD SVG 1.1//EN\"\n",
       " \"http://www.w3.org/Graphics/SVG/1.1/DTD/svg11.dtd\">\n",
       "<!-- Generated by graphviz version 12.0.0 (0)\n",
       " -->\n",
       "<!-- Pages: 1 -->\n",
       "<svg width=\"449pt\" height=\"255pt\"\n",
       " viewBox=\"0.00 0.00 448.94 254.72\" xmlns=\"http://www.w3.org/2000/svg\" xmlns:xlink=\"http://www.w3.org/1999/xlink\">\n",
       "<g id=\"graph0\" class=\"graph\" transform=\"scale(1 1) rotate(0) translate(4 250.72)\">\n",
       "<polygon fill=\"white\" stroke=\"none\" points=\"-4,4 -4,-250.72 444.94,-250.72 444.94,4 -4,4\"/>\n",
       "<!-- S -->\n",
       "<g id=\"node1\" class=\"node\">\n",
       "<title>S</title>\n",
       "<ellipse fill=\"none\" stroke=\"black\" cx=\"109.47\" cy=\"-20.72\" rx=\"27\" ry=\"18\"/>\n",
       "<text text-anchor=\"middle\" x=\"109.47\" y=\"-15.67\" font-family=\"Times New Roman,serif\" font-size=\"14.00\">S</text>\n",
       "</g>\n",
       "<!-- I -->\n",
       "<g id=\"node2\" class=\"node\">\n",
       "<title>I</title>\n",
       "<ellipse fill=\"none\" stroke=\"black\" cx=\"245.22\" cy=\"-40.72\" rx=\"27\" ry=\"18\"/>\n",
       "<text text-anchor=\"middle\" x=\"245.22\" y=\"-35.67\" font-family=\"Times New Roman,serif\" font-size=\"14.00\">I</text>\n",
       "</g>\n",
       "<!-- S&#45;&gt;I -->\n",
       "<g id=\"edge1\" class=\"edge\">\n",
       "<title>S&#45;&gt;I</title>\n",
       "<path fill=\"none\" stroke=\"#377eb8\" d=\"M136.26,-24.58C156.43,-27.59 184.74,-31.83 207.31,-35.2\"/>\n",
       "<polygon fill=\"#377eb8\" stroke=\"#377eb8\" points=\"206.61,-38.63 217.01,-36.65 207.64,-31.71 206.61,-38.63\"/>\n",
       "<text text-anchor=\"middle\" x=\"177.35\" y=\"-36.92\" font-family=\"Times New Roman,serif\" font-size=\"14.00\">β*S*I/N</text>\n",
       "</g>\n",
       "<!-- deathS3 -->\n",
       "<g id=\"node11\" class=\"node\">\n",
       "<title>deathS3</title>\n",
       "</g>\n",
       "<!-- S&#45;&gt;deathS3 -->\n",
       "<g id=\"edge7\" class=\"edge\">\n",
       "<title>S&#45;&gt;deathS3</title>\n",
       "<path fill=\"none\" stroke=\"#4daf4a\" d=\"M134.02,-13.12C140.58,-11.26 147.75,-9.44 154.47,-8.22 182.34,-3.15 215.71,-1.5 232.84,-0.97\"/>\n",
       "<polygon fill=\"#4daf4a\" stroke=\"#4daf4a\" points=\"232.64,-4.47 242.56,-0.75 232.49,2.53 232.64,-4.47\"/>\n",
       "<text text-anchor=\"middle\" x=\"177.35\" y=\"-11.92\" font-family=\"Times New Roman,serif\" font-size=\"14.00\">μ*S</text>\n",
       "</g>\n",
       "<!-- R -->\n",
       "<g id=\"node3\" class=\"node\">\n",
       "<title>R</title>\n",
       "<ellipse fill=\"none\" stroke=\"black\" cx=\"353.97\" cy=\"-60.72\" rx=\"27\" ry=\"18\"/>\n",
       "<text text-anchor=\"middle\" x=\"353.97\" y=\"-55.67\" font-family=\"Times New Roman,serif\" font-size=\"14.00\">R</text>\n",
       "</g>\n",
       "<!-- I&#45;&gt;R -->\n",
       "<g id=\"edge4\" class=\"edge\">\n",
       "<title>I&#45;&gt;R</title>\n",
       "<path fill=\"none\" stroke=\"black\" d=\"M271.52,-45.46C284.85,-47.96 301.44,-51.07 316.17,-53.83\"/>\n",
       "<polygon fill=\"black\" stroke=\"black\" points=\"315.52,-57.26 326,-55.67 316.81,-50.38 315.52,-57.26\"/>\n",
       "<text text-anchor=\"middle\" x=\"299.6\" y=\"-55.92\" font-family=\"Times New Roman,serif\" font-size=\"14.00\">γ*I</text>\n",
       "</g>\n",
       "<!-- deathI4 -->\n",
       "<g id=\"node13\" class=\"node\">\n",
       "<title>deathI4</title>\n",
       "</g>\n",
       "<!-- I&#45;&gt;deathI4 -->\n",
       "<g id=\"edge9\" class=\"edge\">\n",
       "<title>I&#45;&gt;deathI4</title>\n",
       "<path fill=\"none\" stroke=\"#f781bf\" d=\"M270.31,-33.86C276.74,-32.19 283.71,-30.51 290.22,-29.22 307.98,-25.71 328.86,-23.2 341.49,-21.85\"/>\n",
       "<polygon fill=\"#f781bf\" stroke=\"#f781bf\" points=\"341.75,-25.34 351.36,-20.88 341.07,-18.38 341.75,-25.34\"/>\n",
       "<text text-anchor=\"middle\" x=\"299.6\" y=\"-32.92\" font-family=\"Times New Roman,serif\" font-size=\"14.00\">μ*I</text>\n",
       "</g>\n",
       "<!-- deathR5 -->\n",
       "<g id=\"node15\" class=\"node\">\n",
       "<title>deathR5</title>\n",
       "</g>\n",
       "<!-- R&#45;&gt;deathR5 -->\n",
       "<g id=\"edge11\" class=\"edge\">\n",
       "<title>R&#45;&gt;deathR5</title>\n",
       "<path fill=\"none\" stroke=\"#a65628\" d=\"M381.01,-60.72C396.95,-60.72 416.55,-60.72 428.72,-60.72\"/>\n",
       "<polygon fill=\"#a65628\" stroke=\"#a65628\" points=\"428.61,-64.22 438.61,-60.72 428.61,-57.22 428.61,-64.22\"/>\n",
       "<text text-anchor=\"middle\" x=\"410.6\" y=\"-63.92\" font-family=\"Times New Roman,serif\" font-size=\"14.00\">μ*R</text>\n",
       "</g>\n",
       "<!-- N -->\n",
       "<g id=\"node4\" class=\"node\">\n",
       "<title>N</title>\n",
       "<ellipse fill=\"none\" stroke=\"black\" cx=\"109.47\" cy=\"-120.72\" rx=\"27\" ry=\"18\"/>\n",
       "<text text-anchor=\"middle\" x=\"109.47\" y=\"-115.67\" font-family=\"Times New Roman,serif\" font-size=\"14.00\">N</text>\n",
       "</g>\n",
       "<!-- deathN3 -->\n",
       "<g id=\"node12\" class=\"node\">\n",
       "<title>deathN3</title>\n",
       "</g>\n",
       "<!-- N&#45;&gt;deathN3 -->\n",
       "<g id=\"edge8\" class=\"edge\">\n",
       "<title>N&#45;&gt;deathN3</title>\n",
       "<path fill=\"none\" stroke=\"#4daf4a\" d=\"M132.62,-130.53C139.54,-133.39 147.25,-136.37 154.47,-138.72 182.11,-147.71 215.57,-154.99 232.78,-158.48\"/>\n",
       "<polygon fill=\"#4daf4a\" stroke=\"#4daf4a\" points=\"232.1,-161.92 242.59,-160.4 233.45,-155.05 232.1,-161.92\"/>\n",
       "<text text-anchor=\"middle\" x=\"177.35\" y=\"-154.92\" font-family=\"Times New Roman,serif\" font-size=\"14.00\">μ*S</text>\n",
       "</g>\n",
       "<!-- deathN4 -->\n",
       "<g id=\"node14\" class=\"node\">\n",
       "<title>deathN4</title>\n",
       "</g>\n",
       "<!-- N&#45;&gt;deathN4 -->\n",
       "<g id=\"edge10\" class=\"edge\">\n",
       "<title>N&#45;&gt;deathN4</title>\n",
       "<path fill=\"none\" stroke=\"#f781bf\" d=\"M136.89,-120.72C166.12,-120.72 211.86,-120.72 232.92,-120.72\"/>\n",
       "<polygon fill=\"#f781bf\" stroke=\"#f781bf\" points=\"232.66,-124.22 242.66,-120.72 232.66,-117.22 232.66,-124.22\"/>\n",
       "<text text-anchor=\"middle\" x=\"177.35\" y=\"-123.92\" font-family=\"Times New Roman,serif\" font-size=\"14.00\">μ*I</text>\n",
       "</g>\n",
       "<!-- deathN5 -->\n",
       "<g id=\"node16\" class=\"node\">\n",
       "<title>deathN5</title>\n",
       "</g>\n",
       "<!-- N&#45;&gt;deathN5 -->\n",
       "<g id=\"edge12\" class=\"edge\">\n",
       "<title>N&#45;&gt;deathN5</title>\n",
       "<path fill=\"none\" stroke=\"#a65628\" d=\"M131.56,-109.73C138.7,-106.33 146.8,-102.8 154.47,-100.22 181.84,-91 215.42,-85.06 232.71,-82.38\"/>\n",
       "<polygon fill=\"#a65628\" stroke=\"#a65628\" points=\"233.18,-85.85 242.57,-80.96 232.18,-78.92 233.18,-85.85\"/>\n",
       "<text text-anchor=\"middle\" x=\"177.35\" y=\"-103.92\" font-family=\"Times New Roman,serif\" font-size=\"14.00\">μ*R</text>\n",
       "</g>\n",
       "<!-- M -->\n",
       "<g id=\"node5\" class=\"node\">\n",
       "<title>M</title>\n",
       "<ellipse fill=\"none\" stroke=\"black\" cx=\"109.47\" cy=\"-174.72\" rx=\"27\" ry=\"18\"/>\n",
       "<text text-anchor=\"middle\" x=\"109.47\" y=\"-169.67\" font-family=\"Times New Roman,serif\" font-size=\"14.00\">M</text>\n",
       "</g>\n",
       "<!-- Itot -->\n",
       "<g id=\"node6\" class=\"node\">\n",
       "<title>Itot</title>\n",
       "<ellipse fill=\"none\" stroke=\"black\" cx=\"109.47\" cy=\"-228.72\" rx=\"27\" ry=\"18\"/>\n",
       "<text text-anchor=\"middle\" x=\"109.47\" y=\"-223.67\" font-family=\"Times New Roman,serif\" font-size=\"14.00\">Itot</text>\n",
       "</g>\n",
       "<!-- birthM0 -->\n",
       "<g id=\"node7\" class=\"node\">\n",
       "<title>birthM0</title>\n",
       "</g>\n",
       "<!-- birthM0&#45;&gt;M -->\n",
       "<g id=\"edge2\" class=\"edge\">\n",
       "<title>birthM0&#45;&gt;M</title>\n",
       "<path fill=\"none\" stroke=\"#377eb8\" d=\"M0.8,-174.72C2.74,-174.72 40.59,-174.72 70.86,-174.72\"/>\n",
       "<polygon fill=\"#377eb8\" stroke=\"#377eb8\" points=\"70.49,-178.22 80.49,-174.72 70.49,-171.22 70.49,-178.22\"/>\n",
       "<text text-anchor=\"middle\" x=\"41.6\" y=\"-177.92\" font-family=\"Times New Roman,serif\" font-size=\"14.00\">β*S*I/N</text>\n",
       "<text text-anchor=\"middle\" x=\"79.01\" y=\"-161.42\" font-family=\"Times New Roman,serif\" font-size=\"14.00\">c</text>\n",
       "</g>\n",
       "<!-- birthItot0 -->\n",
       "<g id=\"node8\" class=\"node\">\n",
       "<title>birthItot0</title>\n",
       "</g>\n",
       "<!-- birthItot0&#45;&gt;Itot -->\n",
       "<g id=\"edge3\" class=\"edge\">\n",
       "<title>birthItot0&#45;&gt;Itot</title>\n",
       "<path fill=\"none\" stroke=\"#377eb8\" d=\"M0.8,-228.72C2.74,-228.72 40.59,-228.72 70.86,-228.72\"/>\n",
       "<polygon fill=\"#377eb8\" stroke=\"#377eb8\" points=\"70.49,-232.22 80.49,-228.72 70.49,-225.22 70.49,-232.22\"/>\n",
       "<text text-anchor=\"middle\" x=\"41.6\" y=\"-231.92\" font-family=\"Times New Roman,serif\" font-size=\"14.00\">β*S*I/N</text>\n",
       "</g>\n",
       "<!-- birthS2 -->\n",
       "<g id=\"node9\" class=\"node\">\n",
       "<title>birthS2</title>\n",
       "</g>\n",
       "<!-- birthS2&#45;&gt;S -->\n",
       "<g id=\"edge5\" class=\"edge\">\n",
       "<title>birthS2&#45;&gt;S</title>\n",
       "<path fill=\"none\" stroke=\"#ff7f00\" d=\"M0.8,-20.72C2.74,-20.72 40.59,-20.72 70.86,-20.72\"/>\n",
       "<polygon fill=\"#ff7f00\" stroke=\"#ff7f00\" points=\"70.49,-24.22 80.49,-20.72 70.49,-17.22 70.49,-24.22\"/>\n",
       "<text text-anchor=\"middle\" x=\"41.6\" y=\"-23.92\" font-family=\"Times New Roman,serif\" font-size=\"14.00\">μ*N</text>\n",
       "</g>\n",
       "<!-- birthN2 -->\n",
       "<g id=\"node10\" class=\"node\">\n",
       "<title>birthN2</title>\n",
       "</g>\n",
       "<!-- birthN2&#45;&gt;N -->\n",
       "<g id=\"edge6\" class=\"edge\">\n",
       "<title>birthN2&#45;&gt;N</title>\n",
       "<path fill=\"none\" stroke=\"#ff7f00\" d=\"M0.8,-120.72C2.74,-120.72 40.59,-120.72 70.86,-120.72\"/>\n",
       "<polygon fill=\"#ff7f00\" stroke=\"#ff7f00\" points=\"70.49,-124.22 80.49,-120.72 70.49,-117.22 70.49,-124.22\"/>\n",
       "<text text-anchor=\"middle\" x=\"41.6\" y=\"-123.92\" font-family=\"Times New Roman,serif\" font-size=\"14.00\">μ*N</text>\n",
       "</g>\n",
       "</g>\n",
       "</svg>\n"
      ],
      "text/plain": [
       "<graphviz.graphs.Digraph at 0x1be8ea60590>"
      ]
     },
     "execution_count": 15,
     "metadata": {},
     "output_type": "execute_result"
    }
   ],
   "source": [
    "graph=model.get_transition_graph(show=False)\n",
    "graph"
   ]
  },
  {
   "cell_type": "markdown",
   "id": "0014f45e",
   "metadata": {},
   "source": [
    "The $c$ beside the arrowhead indicates that this transition occurs in steps of $c$."
   ]
  },
  {
   "cell_type": "markdown",
   "id": "dfc6482b",
   "metadata": {},
   "source": [
    "## Ordinary Differential Equations\n",
    "\n",
    "If we were not interested in stochastic dynamics, or our system cannot be visualised as a compartmental model, we might define our system via ODEs from the outset.\n",
    "In general though, if a CTMC model does exist, it can be converted into a set of ODEs via:\n",
    "\n",
    "$$\\begin{aligned}\n",
    "\\frac{\\mathrm{d} y_i}{\\mathrm{d} t}=\\sum_{\\text{transitions, }j} \\mathcal{D}_{ij}\\lambda_j\n",
    "\\end{aligned}$$\n",
    "\n",
    "For the current example, this results in:\n",
    "\n",
    "$$\\begin{aligned}\n",
    "\\frac{\\mathrm{d} S}{\\mathrm{d} t} &= -\\frac{\\beta S I}{N} + \\mu N - \\mu S\\\\\n",
    "\\frac{\\mathrm{d} I}{\\mathrm{d} t} &= \\frac{\\beta S I}{N} - \\gamma I - \\mu I\\\\\n",
    "\\frac{\\mathrm{d} R}{\\mathrm{d} t} &= \\gamma I - \\mu R\\\\\n",
    "\\frac{\\mathrm{d} N}{\\mathrm{d} t} &= \\mu N - \\mu S - \\mu I - \\mu R = 0\\\\\n",
    "\\frac{\\mathrm{d} I_{\\mathrm{tot}}}{\\mathrm{d} t} &= \\frac{\\beta S I}{N}\\\\\n",
    "\\frac{\\mathrm{d} M}{\\mathrm{d} t} &= \\frac{c \\beta S I}{N}\n",
    "\\end{aligned}$$\n",
    "\n",
    "To build a PyGOM object from this, we use {class}`.Transition` classes of the type, `ODE`, and pass a list of these in the `ode` argument."
   ]
  },
  {
   "cell_type": "code",
   "execution_count": 16,
   "id": "c2c1f766",
   "metadata": {},
   "outputs": [],
   "source": [
    "dSdt=Transition(transition_type='ODE', origin='S', equation='-beta*S*I/N + mu*N - mu*S')\n",
    "dIdt=Transition(transition_type='ODE', origin='I', equation='beta*S*I - gamma*I - mu*I')\n",
    "dRdt=Transition(transition_type='ODE', origin='R', equation='gamma*I - mu*R')\n",
    "dNdt=Transition(transition_type='ODE', origin='N', equation='0')\n",
    "dMdt=Transition(transition_type='ODE', origin='M', equation='beta*S*I/N')\n",
    "dItotdt=Transition(transition_type='ODE', origin='Itot', equation='c*beta*S*I/N')\n",
    "\n",
    "model_ode=SimulateOde(state=states, param=params, ode=[dSdt, dIdt, dRdt, dNdt, dMdt, dItotdt])"
   ]
  },
  {
   "cell_type": "markdown",
   "id": "e7973af4",
   "metadata": {},
   "source": [
    "In choosing this path, we have closed the door on the possibility of stochastic simulations.\n",
    "For instance, PyGOM now cannot derive a state change matrix"
   ]
  },
  {
   "cell_type": "code",
   "execution_count": 17,
   "id": "7ce0527e",
   "metadata": {},
   "outputs": [
    {
     "data": {
      "text/latex": [
       "$\\displaystyle \\left[\\begin{matrix}\\\\\\\\\\\\\\\\\\\\\\end{matrix}\\right]$"
      ],
      "text/plain": [
       "Matrix(6, 0, [])"
      ]
     },
     "execution_count": 17,
     "metadata": {},
     "output_type": "execute_result"
    }
   ],
   "source": [
    "model_ode.get_StateChangeMatrix()"
   ]
  },
  {
   "cell_type": "markdown",
   "id": "d6f84d76",
   "metadata": {},
   "source": [
    "The transition graph is also not very informative.\n",
    "We are basically provided with our set of ODEs with some adorning arrows (which are also dashed, as we see below this is useful to differentiate between deterministic and stochastic processes)."
   ]
  },
  {
   "cell_type": "code",
   "execution_count": 18,
   "id": "6a623263",
   "metadata": {},
   "outputs": [
    {
     "data": {
      "image/svg+xml": [
       "<?xml version=\"1.0\" encoding=\"UTF-8\" standalone=\"no\"?>\n",
       "<!DOCTYPE svg PUBLIC \"-//W3C//DTD SVG 1.1//EN\"\n",
       " \"http://www.w3.org/Graphics/SVG/1.1/DTD/svg11.dtd\">\n",
       "<!-- Generated by graphviz version 12.0.0 (0)\n",
       " -->\n",
       "<!-- Pages: 1 -->\n",
       "<svg width=\"259pt\" height=\"314pt\"\n",
       " viewBox=\"0.00 0.00 259.22 314.00\" xmlns=\"http://www.w3.org/2000/svg\" xmlns:xlink=\"http://www.w3.org/1999/xlink\">\n",
       "<g id=\"graph0\" class=\"graph\" transform=\"scale(1 1) rotate(0) translate(4 310)\">\n",
       "<polygon fill=\"white\" stroke=\"none\" points=\"-4,4 -4,-310 255.22,-310 255.22,4 -4,4\"/>\n",
       "<!-- S -->\n",
       "<g id=\"node1\" class=\"node\">\n",
       "<title>S</title>\n",
       "<ellipse fill=\"none\" stroke=\"black\" cx=\"224.22\" cy=\"-18\" rx=\"27\" ry=\"18\"/>\n",
       "<text text-anchor=\"middle\" x=\"224.22\" y=\"-12.95\" font-family=\"Times New Roman,serif\" font-size=\"14.00\">S</text>\n",
       "</g>\n",
       "<!-- I -->\n",
       "<g id=\"node2\" class=\"node\">\n",
       "<title>I</title>\n",
       "<ellipse fill=\"none\" stroke=\"black\" cx=\"224.22\" cy=\"-72\" rx=\"27\" ry=\"18\"/>\n",
       "<text text-anchor=\"middle\" x=\"224.22\" y=\"-66.95\" font-family=\"Times New Roman,serif\" font-size=\"14.00\">I</text>\n",
       "</g>\n",
       "<!-- R -->\n",
       "<g id=\"node3\" class=\"node\">\n",
       "<title>R</title>\n",
       "<ellipse fill=\"none\" stroke=\"black\" cx=\"224.22\" cy=\"-126\" rx=\"27\" ry=\"18\"/>\n",
       "<text text-anchor=\"middle\" x=\"224.22\" y=\"-120.95\" font-family=\"Times New Roman,serif\" font-size=\"14.00\">R</text>\n",
       "</g>\n",
       "<!-- N -->\n",
       "<g id=\"node4\" class=\"node\">\n",
       "<title>N</title>\n",
       "<ellipse fill=\"none\" stroke=\"black\" cx=\"224.22\" cy=\"-180\" rx=\"27\" ry=\"18\"/>\n",
       "<text text-anchor=\"middle\" x=\"224.22\" y=\"-174.95\" font-family=\"Times New Roman,serif\" font-size=\"14.00\">N</text>\n",
       "</g>\n",
       "<!-- M -->\n",
       "<g id=\"node5\" class=\"node\">\n",
       "<title>M</title>\n",
       "<ellipse fill=\"none\" stroke=\"black\" cx=\"224.22\" cy=\"-234\" rx=\"27\" ry=\"18\"/>\n",
       "<text text-anchor=\"middle\" x=\"224.22\" y=\"-228.95\" font-family=\"Times New Roman,serif\" font-size=\"14.00\">M</text>\n",
       "</g>\n",
       "<!-- Itot -->\n",
       "<g id=\"node6\" class=\"node\">\n",
       "<title>Itot</title>\n",
       "<ellipse fill=\"none\" stroke=\"black\" cx=\"224.22\" cy=\"-288\" rx=\"27\" ry=\"18\"/>\n",
       "<text text-anchor=\"middle\" x=\"224.22\" y=\"-282.95\" font-family=\"Times New Roman,serif\" font-size=\"14.00\">Itot</text>\n",
       "</g>\n",
       "<!-- odeS -->\n",
       "<g id=\"node7\" class=\"node\">\n",
       "<title>odeS</title>\n",
       "</g>\n",
       "<!-- odeS&#45;&gt;S -->\n",
       "<g id=\"edge1\" class=\"edge\">\n",
       "<title>odeS&#45;&gt;S</title>\n",
       "<path fill=\"none\" stroke=\"black\" stroke-dasharray=\"5,2\" d=\"M0.88,-18C5.84,-18 123.87,-18 185.9,-18\"/>\n",
       "<polygon fill=\"black\" stroke=\"black\" points=\"185.63,-21.5 195.63,-18 185.63,-14.5 185.63,-21.5\"/>\n",
       "<text text-anchor=\"middle\" x=\"98.97\" y=\"-21.2\" font-family=\"Times New Roman,serif\" font-size=\"14.00\">&#45;beta*S*I/N + mu*N &#45; mu*S</text>\n",
       "</g>\n",
       "<!-- odeI -->\n",
       "<g id=\"node8\" class=\"node\">\n",
       "<title>odeI</title>\n",
       "</g>\n",
       "<!-- odeI&#45;&gt;I -->\n",
       "<g id=\"edge2\" class=\"edge\">\n",
       "<title>odeI&#45;&gt;I</title>\n",
       "<path fill=\"none\" stroke=\"black\" stroke-dasharray=\"5,2\" d=\"M0.88,-72C5.84,-72 123.87,-72 185.9,-72\"/>\n",
       "<polygon fill=\"black\" stroke=\"black\" points=\"185.63,-75.5 195.63,-72 185.63,-68.5 185.63,-75.5\"/>\n",
       "<text text-anchor=\"middle\" x=\"98.97\" y=\"-75.2\" font-family=\"Times New Roman,serif\" font-size=\"14.00\">beta*S*I &#45; gamma*I &#45; mu*I</text>\n",
       "</g>\n",
       "<!-- odeR -->\n",
       "<g id=\"node9\" class=\"node\">\n",
       "<title>odeR</title>\n",
       "</g>\n",
       "<!-- odeR&#45;&gt;R -->\n",
       "<g id=\"edge3\" class=\"edge\">\n",
       "<title>odeR&#45;&gt;R</title>\n",
       "<path fill=\"none\" stroke=\"black\" stroke-dasharray=\"5,2\" d=\"M0.88,-126C5.84,-126 123.87,-126 185.9,-126\"/>\n",
       "<polygon fill=\"black\" stroke=\"black\" points=\"185.63,-129.5 195.63,-126 185.63,-122.5 185.63,-129.5\"/>\n",
       "<text text-anchor=\"middle\" x=\"98.97\" y=\"-129.2\" font-family=\"Times New Roman,serif\" font-size=\"14.00\">gamma*I &#45; mu*R</text>\n",
       "</g>\n",
       "<!-- odeN -->\n",
       "<g id=\"node10\" class=\"node\">\n",
       "<title>odeN</title>\n",
       "</g>\n",
       "<!-- odeN&#45;&gt;N -->\n",
       "<g id=\"edge4\" class=\"edge\">\n",
       "<title>odeN&#45;&gt;N</title>\n",
       "<path fill=\"none\" stroke=\"black\" stroke-dasharray=\"5,2\" d=\"M0.88,-180C5.84,-180 123.87,-180 185.9,-180\"/>\n",
       "<polygon fill=\"black\" stroke=\"black\" points=\"185.63,-183.5 195.63,-180 185.63,-176.5 185.63,-183.5\"/>\n",
       "<text text-anchor=\"middle\" x=\"98.97\" y=\"-183.2\" font-family=\"Times New Roman,serif\" font-size=\"14.00\">0</text>\n",
       "</g>\n",
       "<!-- odeM -->\n",
       "<g id=\"node11\" class=\"node\">\n",
       "<title>odeM</title>\n",
       "</g>\n",
       "<!-- odeM&#45;&gt;M -->\n",
       "<g id=\"edge5\" class=\"edge\">\n",
       "<title>odeM&#45;&gt;M</title>\n",
       "<path fill=\"none\" stroke=\"black\" stroke-dasharray=\"5,2\" d=\"M0.88,-234C5.84,-234 123.87,-234 185.9,-234\"/>\n",
       "<polygon fill=\"black\" stroke=\"black\" points=\"185.63,-237.5 195.63,-234 185.63,-230.5 185.63,-237.5\"/>\n",
       "<text text-anchor=\"middle\" x=\"98.97\" y=\"-237.2\" font-family=\"Times New Roman,serif\" font-size=\"14.00\">beta*S*I/N</text>\n",
       "</g>\n",
       "<!-- odeItot -->\n",
       "<g id=\"node12\" class=\"node\">\n",
       "<title>odeItot</title>\n",
       "</g>\n",
       "<!-- odeItot&#45;&gt;Itot -->\n",
       "<g id=\"edge6\" class=\"edge\">\n",
       "<title>odeItot&#45;&gt;Itot</title>\n",
       "<path fill=\"none\" stroke=\"black\" stroke-dasharray=\"5,2\" d=\"M0.88,-288C5.84,-288 123.87,-288 185.9,-288\"/>\n",
       "<polygon fill=\"black\" stroke=\"black\" points=\"185.63,-291.5 195.63,-288 185.63,-284.5 185.63,-291.5\"/>\n",
       "<text text-anchor=\"middle\" x=\"98.97\" y=\"-291.2\" font-family=\"Times New Roman,serif\" font-size=\"14.00\">c*beta*S*I/N</text>\n",
       "</g>\n",
       "</g>\n",
       "</svg>\n"
      ],
      "text/plain": [
       "<graphviz.graphs.Digraph at 0x1be8eadf910>"
      ]
     },
     "execution_count": 18,
     "metadata": {},
     "output_type": "execute_result"
    }
   ],
   "source": [
    "graph=model_ode.get_transition_graph(show=False)\n",
    "graph"
   ]
  },
  {
   "cell_type": "markdown",
   "id": "a64d2b70",
   "metadata": {},
   "source": [
    "## Combining ODEs and Transitions\n",
    "\n",
    "There could be cases where our system contains both stochastic and deterministic elements.\n",
    "In our current example, each infection costs $c$ monetary units.\n",
    "We could imagine this to be associated with one-off acute costs of the infection event such as a diagnostic test.\n",
    "However, the symptoms which follow infection may introduce additional costs, say, $d$ units per person per day, perhaps due to treatment or money lost due to days not worked.\n",
    "\n",
    "These latter kind of effects we have just seen how to deal with, by using {class}`.Transition` objects of the type `ODE`.\n",
    "It is then trivial to combine these, by using both the `event` and `ode` arguments of {class}`.SimulateOde`.\n",
    "In doing so below, we will also learn how to build on a previously created model.\n",
    "We add any new parameters to the model `param_list` and our ODEs to the `ode` attribute:"
   ]
  },
  {
   "cell_type": "code",
   "execution_count": 19,
   "id": "3f28a83e",
   "metadata": {},
   "outputs": [
    {
     "data": {
      "image/svg+xml": [
       "<?xml version=\"1.0\" encoding=\"UTF-8\" standalone=\"no\"?>\n",
       "<!DOCTYPE svg PUBLIC \"-//W3C//DTD SVG 1.1//EN\"\n",
       " \"http://www.w3.org/Graphics/SVG/1.1/DTD/svg11.dtd\">\n",
       "<!-- Generated by graphviz version 12.0.0 (0)\n",
       " -->\n",
       "<!-- Pages: 1 -->\n",
       "<svg width=\"449pt\" height=\"277pt\"\n",
       " viewBox=\"0.00 0.00 448.94 276.72\" xmlns=\"http://www.w3.org/2000/svg\" xmlns:xlink=\"http://www.w3.org/1999/xlink\">\n",
       "<g id=\"graph0\" class=\"graph\" transform=\"scale(1 1) rotate(0) translate(4 272.72)\">\n",
       "<polygon fill=\"white\" stroke=\"none\" points=\"-4,4 -4,-272.72 444.94,-272.72 444.94,4 -4,4\"/>\n",
       "<!-- S -->\n",
       "<g id=\"node1\" class=\"node\">\n",
       "<title>S</title>\n",
       "<ellipse fill=\"none\" stroke=\"black\" cx=\"109.47\" cy=\"-20.72\" rx=\"27\" ry=\"18\"/>\n",
       "<text text-anchor=\"middle\" x=\"109.47\" y=\"-15.67\" font-family=\"Times New Roman,serif\" font-size=\"14.00\">S</text>\n",
       "</g>\n",
       "<!-- I -->\n",
       "<g id=\"node2\" class=\"node\">\n",
       "<title>I</title>\n",
       "<ellipse fill=\"none\" stroke=\"black\" cx=\"245.22\" cy=\"-40.72\" rx=\"27\" ry=\"18\"/>\n",
       "<text text-anchor=\"middle\" x=\"245.22\" y=\"-35.67\" font-family=\"Times New Roman,serif\" font-size=\"14.00\">I</text>\n",
       "</g>\n",
       "<!-- S&#45;&gt;I -->\n",
       "<g id=\"edge1\" class=\"edge\">\n",
       "<title>S&#45;&gt;I</title>\n",
       "<path fill=\"none\" stroke=\"#377eb8\" d=\"M136.26,-24.58C156.43,-27.59 184.74,-31.83 207.31,-35.2\"/>\n",
       "<polygon fill=\"#377eb8\" stroke=\"#377eb8\" points=\"206.61,-38.63 217.01,-36.65 207.64,-31.71 206.61,-38.63\"/>\n",
       "<text text-anchor=\"middle\" x=\"177.35\" y=\"-36.92\" font-family=\"Times New Roman,serif\" font-size=\"14.00\">β*S*I/N</text>\n",
       "</g>\n",
       "<!-- deathS3 -->\n",
       "<g id=\"node11\" class=\"node\">\n",
       "<title>deathS3</title>\n",
       "</g>\n",
       "<!-- S&#45;&gt;deathS3 -->\n",
       "<g id=\"edge7\" class=\"edge\">\n",
       "<title>S&#45;&gt;deathS3</title>\n",
       "<path fill=\"none\" stroke=\"#4daf4a\" d=\"M134.02,-13.12C140.58,-11.26 147.75,-9.44 154.47,-8.22 182.34,-3.15 215.71,-1.5 232.84,-0.97\"/>\n",
       "<polygon fill=\"#4daf4a\" stroke=\"#4daf4a\" points=\"232.64,-4.47 242.56,-0.75 232.49,2.53 232.64,-4.47\"/>\n",
       "<text text-anchor=\"middle\" x=\"177.35\" y=\"-11.92\" font-family=\"Times New Roman,serif\" font-size=\"14.00\">μ*S</text>\n",
       "</g>\n",
       "<!-- R -->\n",
       "<g id=\"node3\" class=\"node\">\n",
       "<title>R</title>\n",
       "<ellipse fill=\"none\" stroke=\"black\" cx=\"353.97\" cy=\"-60.72\" rx=\"27\" ry=\"18\"/>\n",
       "<text text-anchor=\"middle\" x=\"353.97\" y=\"-55.67\" font-family=\"Times New Roman,serif\" font-size=\"14.00\">R</text>\n",
       "</g>\n",
       "<!-- I&#45;&gt;R -->\n",
       "<g id=\"edge4\" class=\"edge\">\n",
       "<title>I&#45;&gt;R</title>\n",
       "<path fill=\"none\" stroke=\"black\" d=\"M271.52,-45.46C284.85,-47.96 301.44,-51.07 316.17,-53.83\"/>\n",
       "<polygon fill=\"black\" stroke=\"black\" points=\"315.52,-57.26 326,-55.67 316.81,-50.38 315.52,-57.26\"/>\n",
       "<text text-anchor=\"middle\" x=\"299.6\" y=\"-55.92\" font-family=\"Times New Roman,serif\" font-size=\"14.00\">γ*I</text>\n",
       "</g>\n",
       "<!-- deathI4 -->\n",
       "<g id=\"node13\" class=\"node\">\n",
       "<title>deathI4</title>\n",
       "</g>\n",
       "<!-- I&#45;&gt;deathI4 -->\n",
       "<g id=\"edge9\" class=\"edge\">\n",
       "<title>I&#45;&gt;deathI4</title>\n",
       "<path fill=\"none\" stroke=\"#f781bf\" d=\"M270.31,-33.86C276.74,-32.19 283.71,-30.51 290.22,-29.22 307.98,-25.71 328.86,-23.2 341.49,-21.85\"/>\n",
       "<polygon fill=\"#f781bf\" stroke=\"#f781bf\" points=\"341.75,-25.34 351.36,-20.88 341.07,-18.38 341.75,-25.34\"/>\n",
       "<text text-anchor=\"middle\" x=\"299.6\" y=\"-32.92\" font-family=\"Times New Roman,serif\" font-size=\"14.00\">μ*I</text>\n",
       "</g>\n",
       "<!-- deathR5 -->\n",
       "<g id=\"node15\" class=\"node\">\n",
       "<title>deathR5</title>\n",
       "</g>\n",
       "<!-- R&#45;&gt;deathR5 -->\n",
       "<g id=\"edge11\" class=\"edge\">\n",
       "<title>R&#45;&gt;deathR5</title>\n",
       "<path fill=\"none\" stroke=\"#a65628\" d=\"M381.01,-60.72C396.95,-60.72 416.55,-60.72 428.72,-60.72\"/>\n",
       "<polygon fill=\"#a65628\" stroke=\"#a65628\" points=\"428.61,-64.22 438.61,-60.72 428.61,-57.22 428.61,-64.22\"/>\n",
       "<text text-anchor=\"middle\" x=\"410.6\" y=\"-63.92\" font-family=\"Times New Roman,serif\" font-size=\"14.00\">μ*R</text>\n",
       "</g>\n",
       "<!-- N -->\n",
       "<g id=\"node4\" class=\"node\">\n",
       "<title>N</title>\n",
       "<ellipse fill=\"none\" stroke=\"black\" cx=\"109.47\" cy=\"-120.72\" rx=\"27\" ry=\"18\"/>\n",
       "<text text-anchor=\"middle\" x=\"109.47\" y=\"-115.67\" font-family=\"Times New Roman,serif\" font-size=\"14.00\">N</text>\n",
       "</g>\n",
       "<!-- deathN3 -->\n",
       "<g id=\"node12\" class=\"node\">\n",
       "<title>deathN3</title>\n",
       "</g>\n",
       "<!-- N&#45;&gt;deathN3 -->\n",
       "<g id=\"edge8\" class=\"edge\">\n",
       "<title>N&#45;&gt;deathN3</title>\n",
       "<path fill=\"none\" stroke=\"#4daf4a\" d=\"M132.62,-130.53C139.54,-133.39 147.25,-136.37 154.47,-138.72 182.11,-147.71 215.57,-154.99 232.78,-158.48\"/>\n",
       "<polygon fill=\"#4daf4a\" stroke=\"#4daf4a\" points=\"232.1,-161.92 242.59,-160.4 233.45,-155.05 232.1,-161.92\"/>\n",
       "<text text-anchor=\"middle\" x=\"177.35\" y=\"-154.92\" font-family=\"Times New Roman,serif\" font-size=\"14.00\">μ*S</text>\n",
       "</g>\n",
       "<!-- deathN4 -->\n",
       "<g id=\"node14\" class=\"node\">\n",
       "<title>deathN4</title>\n",
       "</g>\n",
       "<!-- N&#45;&gt;deathN4 -->\n",
       "<g id=\"edge10\" class=\"edge\">\n",
       "<title>N&#45;&gt;deathN4</title>\n",
       "<path fill=\"none\" stroke=\"#f781bf\" d=\"M136.89,-120.72C166.12,-120.72 211.86,-120.72 232.92,-120.72\"/>\n",
       "<polygon fill=\"#f781bf\" stroke=\"#f781bf\" points=\"232.66,-124.22 242.66,-120.72 232.66,-117.22 232.66,-124.22\"/>\n",
       "<text text-anchor=\"middle\" x=\"177.35\" y=\"-123.92\" font-family=\"Times New Roman,serif\" font-size=\"14.00\">μ*I</text>\n",
       "</g>\n",
       "<!-- deathN5 -->\n",
       "<g id=\"node16\" class=\"node\">\n",
       "<title>deathN5</title>\n",
       "</g>\n",
       "<!-- N&#45;&gt;deathN5 -->\n",
       "<g id=\"edge12\" class=\"edge\">\n",
       "<title>N&#45;&gt;deathN5</title>\n",
       "<path fill=\"none\" stroke=\"#a65628\" d=\"M131.56,-109.73C138.7,-106.33 146.8,-102.8 154.47,-100.22 181.84,-91 215.42,-85.06 232.71,-82.38\"/>\n",
       "<polygon fill=\"#a65628\" stroke=\"#a65628\" points=\"233.18,-85.85 242.57,-80.96 232.18,-78.92 233.18,-85.85\"/>\n",
       "<text text-anchor=\"middle\" x=\"177.35\" y=\"-103.92\" font-family=\"Times New Roman,serif\" font-size=\"14.00\">μ*R</text>\n",
       "</g>\n",
       "<!-- M -->\n",
       "<g id=\"node5\" class=\"node\">\n",
       "<title>M</title>\n",
       "<ellipse fill=\"none\" stroke=\"black\" cx=\"109.47\" cy=\"-190.72\" rx=\"27\" ry=\"18\"/>\n",
       "<text text-anchor=\"middle\" x=\"109.47\" y=\"-185.67\" font-family=\"Times New Roman,serif\" font-size=\"14.00\">M</text>\n",
       "</g>\n",
       "<!-- Itot -->\n",
       "<g id=\"node6\" class=\"node\">\n",
       "<title>Itot</title>\n",
       "<ellipse fill=\"none\" stroke=\"black\" cx=\"109.47\" cy=\"-250.72\" rx=\"27\" ry=\"18\"/>\n",
       "<text text-anchor=\"middle\" x=\"109.47\" y=\"-245.67\" font-family=\"Times New Roman,serif\" font-size=\"14.00\">Itot</text>\n",
       "</g>\n",
       "<!-- birthM0 -->\n",
       "<g id=\"node7\" class=\"node\">\n",
       "<title>birthM0</title>\n",
       "</g>\n",
       "<!-- birthM0&#45;&gt;M -->\n",
       "<g id=\"edge2\" class=\"edge\">\n",
       "<title>birthM0&#45;&gt;M</title>\n",
       "<path fill=\"none\" stroke=\"#377eb8\" d=\"M0.8,-200.71C2.75,-200.53 40.81,-197 71.13,-194.19\"/>\n",
       "<polygon fill=\"#377eb8\" stroke=\"#377eb8\" points=\"71.14,-197.7 80.77,-193.29 70.49,-190.73 71.14,-197.7\"/>\n",
       "<text text-anchor=\"middle\" x=\"41.6\" y=\"-201.92\" font-family=\"Times New Roman,serif\" font-size=\"14.00\">β*S*I/N</text>\n",
       "<text text-anchor=\"middle\" x=\"79.28\" y=\"-179.85\" font-family=\"Times New Roman,serif\" font-size=\"14.00\">c</text>\n",
       "</g>\n",
       "<!-- birthItot0 -->\n",
       "<g id=\"node8\" class=\"node\">\n",
       "<title>birthItot0</title>\n",
       "</g>\n",
       "<!-- birthItot0&#45;&gt;Itot -->\n",
       "<g id=\"edge3\" class=\"edge\">\n",
       "<title>birthItot0&#45;&gt;Itot</title>\n",
       "<path fill=\"none\" stroke=\"#377eb8\" d=\"M0.8,-250.72C2.74,-250.72 40.59,-250.72 70.86,-250.72\"/>\n",
       "<polygon fill=\"#377eb8\" stroke=\"#377eb8\" points=\"70.49,-254.22 80.49,-250.72 70.49,-247.22 70.49,-254.22\"/>\n",
       "<text text-anchor=\"middle\" x=\"41.6\" y=\"-253.92\" font-family=\"Times New Roman,serif\" font-size=\"14.00\">β*S*I/N</text>\n",
       "</g>\n",
       "<!-- birthS2 -->\n",
       "<g id=\"node9\" class=\"node\">\n",
       "<title>birthS2</title>\n",
       "</g>\n",
       "<!-- birthS2&#45;&gt;S -->\n",
       "<g id=\"edge5\" class=\"edge\">\n",
       "<title>birthS2&#45;&gt;S</title>\n",
       "<path fill=\"none\" stroke=\"#ff7f00\" d=\"M0.8,-20.72C2.74,-20.72 40.59,-20.72 70.86,-20.72\"/>\n",
       "<polygon fill=\"#ff7f00\" stroke=\"#ff7f00\" points=\"70.49,-24.22 80.49,-20.72 70.49,-17.22 70.49,-24.22\"/>\n",
       "<text text-anchor=\"middle\" x=\"41.6\" y=\"-23.92\" font-family=\"Times New Roman,serif\" font-size=\"14.00\">μ*N</text>\n",
       "</g>\n",
       "<!-- birthN2 -->\n",
       "<g id=\"node10\" class=\"node\">\n",
       "<title>birthN2</title>\n",
       "</g>\n",
       "<!-- birthN2&#45;&gt;N -->\n",
       "<g id=\"edge6\" class=\"edge\">\n",
       "<title>birthN2&#45;&gt;N</title>\n",
       "<path fill=\"none\" stroke=\"#ff7f00\" d=\"M0.8,-120.72C2.74,-120.72 40.59,-120.72 70.86,-120.72\"/>\n",
       "<polygon fill=\"#ff7f00\" stroke=\"#ff7f00\" points=\"70.49,-124.22 80.49,-120.72 70.49,-117.22 70.49,-124.22\"/>\n",
       "<text text-anchor=\"middle\" x=\"41.6\" y=\"-123.92\" font-family=\"Times New Roman,serif\" font-size=\"14.00\">μ*N</text>\n",
       "</g>\n",
       "<!-- odeM -->\n",
       "<g id=\"node17\" class=\"node\">\n",
       "<title>odeM</title>\n",
       "</g>\n",
       "<!-- odeM&#45;&gt;M -->\n",
       "<g id=\"edge13\" class=\"edge\">\n",
       "<title>odeM&#45;&gt;M</title>\n",
       "<path fill=\"none\" stroke=\"black\" stroke-dasharray=\"5,2\" d=\"M0.82,-160.74C2.96,-161.06 37.54,-166.37 64.47,-174.22 67.99,-175.25 71.64,-176.42 75.25,-177.66\"/>\n",
       "<polygon fill=\"black\" stroke=\"black\" points=\"73.83,-180.87 84.43,-180.98 76.22,-174.29 73.83,-180.87\"/>\n",
       "<text text-anchor=\"middle\" x=\"41.6\" y=\"-176.92\" font-family=\"Times New Roman,serif\" font-size=\"14.00\">I*d</text>\n",
       "</g>\n",
       "</g>\n",
       "</svg>\n"
      ],
      "text/plain": [
       "<graphviz.graphs.Digraph at 0x1be8eadcfd0>"
      ]
     },
     "execution_count": 19,
     "metadata": {},
     "output_type": "execute_result"
    }
   ],
   "source": [
    "disease_cost=Transition(origin=\"M\", equation=\"I*d\", transition_type=\"ODE\")\n",
    "\n",
    "model.param_list=model.param_list+['d']\n",
    "model.ode_list=[disease_cost]\n",
    "\n",
    "graph=model.get_transition_graph(show=False)\n",
    "graph"
   ]
  },
  {
   "cell_type": "markdown",
   "id": "dd978ec3",
   "metadata": {},
   "source": [
    "where the deterministic transition is indicated by a dashed line type.\n",
    "The $c$ magnitude indicator next to the blue arrowhead looks like it could instead be associated with the dashed arrowhead, so care needs to be taken when interpreting these graphs until this feature has been optimised."
   ]
  },
  {
   "cell_type": "markdown",
   "id": "d2992932",
   "metadata": {},
   "source": [
    "## ODE vs Event definition in PyGOM\n",
    "\n",
    "PyGOM allows the user flexibility in choosing which of these perspectives to use, or indeed combine if possible, in order to build their models.\n",
    "If stochastic solutions are required, however, then PyGOM *must* know the underlying transitions.\n",
    "The easiest way is to supply this information directly, however, {doc}`in some cases <unroll/unrollSimple>`, it can also attempt to reverse engineer transitions if ODE's are instead supplied.\n",
    "If stochastic solutions are not required (or, indeed, the system is not based on a compartmental model), then the system can be specified either in terms of ODEs or transitions (if applicable).\n",
    "\n",
    "One advantage of specifying our system using the transition approach is that many will find transitions a more intuitive language when thinking about compartmental models.\n",
    "Perhaps more beneficial, though, is that when building models with transitions using PyGOM, it enables the computer to do our book-keeping when converting transitions to ODE equations.\n",
    "This reduces the error of, for example, including a flow out of one state, but forgetting to include it in the recipient state.\n",
    "For example, in the case above, when indicating infections with $-\\frac{\\beta SI}{N}$ in the $\\frac{\\mathrm{d}S}{\\mathrm{d}t}$ equation, we had to remember to include the opposite sign in the $\\frac{\\mathrm{d}I}{\\mathrm{d}t}$ equation."
   ]
  }
 ],
 "metadata": {
  "kernelspec": {
   "display_name": "pygom",
   "language": "python",
   "name": "python3"
  },
  "language_info": {
   "codemirror_mode": {
    "name": "ipython",
    "version": 3
   },
   "file_extension": ".py",
   "mimetype": "text/x-python",
   "name": "python",
   "nbconvert_exporter": "python",
   "pygments_lexer": "ipython3",
   "version": "3.11.10"
  }
 },
 "nbformat": 4,
 "nbformat_minor": 5
}
