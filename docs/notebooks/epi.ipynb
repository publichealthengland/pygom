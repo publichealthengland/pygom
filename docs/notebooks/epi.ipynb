{
 "cells": [
  {
   "cell_type": "markdown",
   "metadata": {},
   "source": [
    "# Epidemic Analysis\n",
    "\n",
    "A common application of ODEs is in the field\n",
    "of epidemiology modeling, where compartmental models are\n",
    "used to describe disease progression through a population. \n",
    "We demonstrate some of the simpler algebraic analysis that you may wish to undertake on a compartmental model.\n",
    "\n",
    "We revisit the SIR model with birth and death\n",
    "processes, which is an extension of the one in {doc}`sir`. \n",
    "\n",
    "First, we initialize the model, this time by importing it from {mod}`.common_models`, rather than constructing it ourselves."
   ]
  },
  {
   "cell_type": "code",
   "execution_count": 1,
   "id": "8c84ea26",
   "metadata": {},
   "outputs": [
    {
     "name": "stdout",
     "output_type": "stream",
     "text": [
      "Matrix([[B - I*S*beta - S*mu], [I*S*beta - I*gamma - I*mu], [I*gamma]])\n"
     ]
    }
   ],
   "source": [
    "from pygom import common_models\n",
    "\n",
    "ode = common_models.SIR_Birth_Death()\n",
    "\n",
    "ode.get_ode_eqn()"
   ]
  },
  {
   "cell_type": "markdown",
   "id": "ea8c4b15",
   "metadata": {},
   "source": [
    "\n",
    "## Obtaining the reproduction number (R0)\n",
    "\n",
    "The reproduction number, also known as the $R_{0}$, is the single most\n",
    "powerful piece and reduced piece of information available from an epidemiological\n",
    "compartmental model. This value represents the number of the disease-naive population who can be infected by a single member of the infectious population. When the parameter values are known, $R_{0}$ provides a single number which can then lead to an interpretation of the system, where $R_{0} = 1$ defines the tipping point of an outbreak. An $R_{0}$ value of\n",
    "more than one signifies growth of cases (a potential outbreak), and an $R_{0}$ of less than one\n",
    "indicates that the disease will stop spreading naturally.\n",
    "\n",
    "#TODO reference\n",
    "\n",
    "To obtain the $R_{0}$, we need have to tell the {func}`.R0` function which states\n",
    "represent the *disease state*, which in this case is the state **I**.\n",
    "\n",
    "#TODO is this the disease state, or the infectious state?"
   ]
  },
  {
   "cell_type": "code",
   "execution_count": 3,
   "id": "d66498eb",
   "metadata": {},
   "outputs": [
    {
     "data": {
      "text/latex": [
       "$\\displaystyle \\frac{B \\beta}{\\mu \\left(\\gamma + \\mu\\right)}$"
      ],
      "text/plain": [
       "B*beta/(mu*(gamma + mu))"
      ]
     },
     "execution_count": 3,
     "metadata": {},
     "output_type": "execute_result"
    }
   ],
   "source": [
    "from pygom.model.epi_analysis import *\n",
    "\n",
    "R0(ode, 'I')"
   ]
  },
  {
   "cell_type": "markdown",
   "id": "0130ca70",
   "metadata": {},
   "source": [
    "\n",
    "## Algebraic R0\n",
    "\n",
    "We may also wish to get the $R_{0}$ in pure algebraic term. This can be\n",
    "achieved by the following few lines of code. Note that the result below is\n",
    "slightly different from the one above. The difference is due to the\n",
    "internal working of the functions, where {func}`.getR0` computes the\n",
    "disease-free equilibrium value for the states and substitutes them back\n",
    "into the equation."
   ]
  },
  {
   "cell_type": "code",
   "execution_count": 1,
   "id": "717c6868",
   "metadata": {},
   "outputs": [
    {
     "ename": "NameError",
     "evalue": "name 'disease_progression_matrices' is not defined",
     "output_type": "error",
     "traceback": [
      "\u001b[1;31m---------------------------------------------------------------------------\u001b[0m",
      "\u001b[1;31mNameError\u001b[0m                                 Traceback (most recent call last)",
      "Cell \u001b[1;32mIn[1], line 1\u001b[0m\n\u001b[1;32m----> 1\u001b[0m F, V \u001b[39m=\u001b[39m disease_progression_matrices(ode, \u001b[39m'\u001b[39m\u001b[39mI\u001b[39m\u001b[39m'\u001b[39m)\n\u001b[0;32m      3\u001b[0m e \u001b[39m=\u001b[39m R0_from_matrix(F, V)\n\u001b[0;32m      5\u001b[0m \u001b[39mprint\u001b[39m(e)\n",
      "\u001b[1;31mNameError\u001b[0m: name 'disease_progression_matrices' is not defined"
     ]
    }
   ],
   "source": [
    "F, V = disease_progression_matrices(ode, 'I')\n",
    "\n",
    "e = R0_from_matrix(F, V)\n",
    "\n",
    "print(e)\n"
   ]
  },
  {
   "cell_type": "markdown",
   "id": "a8c270b9",
   "metadata": {},
   "source": [
    "To replicate the output before, we have to find the values where the\n",
    "disease-free equilibrium will be achieved. Substitution can then be\n",
    "performed to retrieve $R_{0}$ in pure parameters."
   ]
  },
  {
   "cell_type": "code",
   "execution_count": null,
   "id": "fa0cc36c",
   "metadata": {
    "vscode": {
     "languageId": "javascript"
    }
   },
   "outputs": [],
   "source": [
    "dfe = DFE(ode, ['I'])\n",
    "\n",
    "print(dfe)\n",
    "\n",
    "print(e[0].subs(dfe))"
   ]
  }
 ],
 "metadata": {
  "kernelspec": {
   "display_name": "Python 3.9.15 ('sphinx-doc')",
   "language": "python",
   "name": "python3"
  },
  "language_info": {
   "codemirror_mode": {
    "name": "ipython",
    "version": 3
   },
   "file_extension": ".py",
   "mimetype": "text/x-python",
   "name": "python",
   "nbconvert_exporter": "python",
   "pygments_lexer": "ipython3",
   "version": "3.9.15"
  },
  "vscode": {
   "interpreter": {
    "hash": "4dc1e323c80fe09539c74ad5c5a7c7d8d9ff99e04f7b3dbd3680daf878629d6e"
   }
  }
 },
 "nbformat": 4,
 "nbformat_minor": 5
}
