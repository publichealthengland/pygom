{
 "cells": [
  {
   "cell_type": "markdown",
   "metadata": {},
   "source": [
    "# Finding ODE solutions\n",
    "\n",
    "PyGOM allows the user to evaluate both the **deterministic** and **stochastic** time evolution of their ODE system using the class methods `solve_determ` and `solve_stochast` respectively. These methods work with fixed and random parameters as introduced in the {doc}`previous section <../notebooks/model_params>`.\n",
    "\n",
    "We begin by defining the series of ODEs and parameters which define our SIR system."
   ]
  },
  {
   "cell_type": "code",
   "execution_count": null,
   "id": "1679a48a",
   "metadata": {
    "tags": [
     "hide-input"
    ]
   },
   "outputs": [],
   "source": [
    "from pygom import SimulateOde, Transition, TransitionType\n",
    "import matplotlib.pyplot as plt\n",
    "import numpy as np\n",
    "\n",
    "###################\n",
    "# ODE specification\n",
    "###################\n",
    "\n",
    "# Define SIR model\n",
    "stateList = ['S', 'I', 'R']\n",
    "paramList = ['beta', 'gamma', 'N']\n",
    "transitionList = [Transition(origin='S', destination='I', equation='beta*S*I/N', transition_type=TransitionType.T),\n",
    "                  Transition(origin='I', destination='R', equation='gamma*I', transition_type=TransitionType.T)]\n",
    "\n",
    "# Total population is fixed\n",
    "n_pop=1e4\n",
    "\n",
    "############\n",
    "# Parameters\n",
    "############\n",
    "\n",
    "beta_mn=0.35   # infectivity, beta. Gives the actual value for fixed params and mean for random distribution.\n",
    "gamma_mn=0.25  # recovery rate, gamma.\n",
    "\n",
    "#######\n",
    "# Fixed\n",
    "#######\n",
    "fixed_param_set=[('beta', beta_mn), ('gamma', gamma_mn), ('N', n_pop)]\n",
    "\n",
    "########\n",
    "# Random\n",
    "########\n",
    "\n",
    "# Recovery rate, gamma\n",
    "gamma_var=(gamma_mn/10)**2  # Set the standard deviation to be 1/10th of the mean value\n",
    "gamma_shape=(gamma_mn**2)/gamma_var\n",
    "gamma_rate=gamma_mn/gamma_var\n",
    "\n",
    "# Infectivity parameter, beta\n",
    "beta_var=(beta_mn/10)**2  # Set the standard deviation to be 1/10th of the mean value\n",
    "beta_shape=(beta_mn**2)/beta_var\n",
    "beta_rate=beta_mn/beta_var\n",
    "\n",
    "from pygom.utilR import rgamma\n",
    "random_param_set = dict()  # container for random param set\n",
    "random_param_set['gamma'] = (rgamma,{'shape':gamma_shape, 'rate':gamma_rate})\n",
    "random_param_set['beta'] = (rgamma,{'shape':beta_shape, 'rate':beta_rate})\n",
    "random_param_set['N'] = n_pop"
   ]
  },
  {
   "cell_type": "markdown",
   "id": "e976c853",
   "metadata": {},
   "source": [
    "In order to determine the time evolution of the system, we must supply initial conditions as well as the desired time points for the numerical solver.\n",
    "It is generally a good idea to have the timestep an order of magnitude smaller than the fastest timescale of the system, in this case...."
   ]
  },
  {
   "cell_type": "code",
   "execution_count": null,
   "id": "9e31cc4f",
   "metadata": {},
   "outputs": [],
   "source": [
    "# Initial conditions\n",
    "i0=10\n",
    "x0 = [n_pop-i0, i0, 0]\n",
    "\n",
    "# Time range and increments\n",
    "tmax=200                              # maximum time over which to run solver\n",
    "dt=0.1                                # timestep\n",
    "n_timestep=int(tmax/dt)               # number of iterations\n",
    "t = np.linspace(0, tmax, n_timestep)  # times at which solution will be evaluated"
   ]
  },
  {
   "cell_type": "markdown",
   "id": "ecd39e70",
   "metadata": {},
   "source": [
    "## Deterministic time evolution\n",
    "\n",
    "To solve for the deterministic time evolution of the system, PyGOM uses `scipy.integrate.odeint`.\n",
    "We begin with the simple (and likely familiar) case of fixed parameters.\n",
    "\n",
    "### Fixed parameters\n",
    "\n",
    "First, we initialise a `SimulateOde` object with our fixed parameters, `fixed_param_set`:"
   ]
  },
  {
   "cell_type": "code",
   "execution_count": null,
   "id": "657a7646",
   "metadata": {},
   "outputs": [],
   "source": [
    "# Set up pygom object (D_F suffix implies Deterministic_Fixed)\n",
    "ode_D_F = SimulateOde(stateList, paramList, transition=transitionList)\n",
    "ode_D_F.initial_values = (x0, t[0])\n",
    "ode_D_F.parameters=fixed_param_set"
   ]
  },
  {
   "cell_type": "markdown",
   "id": "801dbfd6",
   "metadata": {},
   "source": [
    "The solution is then found via `solve_determ`, specifying the required time steps not including the initial one."
   ]
  },
  {
   "cell_type": "code",
   "execution_count": null,
   "id": "9f612095",
   "metadata": {},
   "outputs": [],
   "source": [
    "solution_D_F = ode_D_F.solve_determ(t[1::])"
   ]
  },
  {
   "cell_type": "markdown",
   "id": "a4d12509",
   "metadata": {},
   "source": [
    "Plotting the output yields the familiar result, where infecteds initially increase in number exponentially until critical depletion of susceptibles sends the epidemic into decline."
   ]
  },
  {
   "cell_type": "code",
   "execution_count": null,
   "id": "2668b8ad",
   "metadata": {
    "tags": [
     "hide-input"
    ]
   },
   "outputs": [],
   "source": [
    "f, axarr = plt.subplots(1,3, layout='constrained', figsize=(10, 2.5))\n",
    "\n",
    "axarr[0].plot(t, solution_D_F[:,0], color='C1')\n",
    "axarr[1].plot(t, solution_D_F[:,1], color='C0')\n",
    "axarr[2].plot(t, solution_D_F[:,2], color='C2')\n",
    "\n",
    "for idx, state in enumerate(stateList):\n",
    "    axarr[idx].set_title(state)\n"
   ]
  },
  {
   "cell_type": "markdown",
   "id": "0e516f09",
   "metadata": {},
   "source": [
    "### Random parameters\n",
    "\n",
    "<!-- We now specify that the parameters $\\beta$ and $\\gamma$ are to be randomly drawn from a gamma distribution.\n",
    "This choice of distribution ensures that both parameters are positive as required.\n",
    "We make use of the familiar syntax from [R](http://www.r-project.org/) to define our distribution.\n",
    "Unfortunately, we have to define it via a tuple, where the first item is the function handle (name) and the second the parameters. \n",
    "\n",
    "```{note}\n",
    "The parameters can be defined as either a dictionary or as the same sequence\n",
    "as [R](http://www.r-project.org/) (without specifying the arguments), which for the [Gamma distribution](https://stat.ethz.ch/R-manual/R-devel/library/stats/html/GammaDist.html) is the shape followed by the rate.\n",
    "``` -->"
   ]
  },
  {
   "cell_type": "markdown",
   "id": "bb53913b",
   "metadata": {},
   "source": [
    "We now solve the same system, but for 1000 repetitions using randomly drawn parameters for each simulation.\n",
    "This time we initialise the parameters with`random_param_set` and solve using `solve_determ` as before"
   ]
  },
  {
   "cell_type": "code",
   "execution_count": null,
   "id": "e7f1ee87",
   "metadata": {},
   "outputs": [],
   "source": [
    "# Set up pygom object\n",
    "ode_D_R = SimulateOde(stateList, paramList, transition=transitionList)\n",
    "ode_D_R.initial_values = (x0, t[0])\n",
    "\n",
    "n_param_draws=1000  # number of parameters to draw\n",
    "ode_D_R.parameters=random_param_set\n",
    "Ymean, solution_D_R = ode_D_R.solve_determ(t[1::], n_param_draws, full_output=True)"
   ]
  },
  {
   "cell_type": "markdown",
   "id": "2221479d",
   "metadata": {},
   "source": [
    "```{note}\n",
    "Note that a message may be printed above where PyGOM is trying to connect to an\n",
    "mpi backend, as our module has the capability to compute in parallel\n",
    "using the IPython. We have simulated a total of 10 different solutions\n",
    "using different parameters, the plots can be seen below.\n",
    "```"
   ]
  },
  {
   "cell_type": "markdown",
   "id": "9bb7c942",
   "metadata": {},
   "source": [
    "We visualise the output in 2 ways, first by viewing 50 randomly selected trajectories and also by viewing the confidence intervals (here 95% and 50%) and median calculated over the full 1000 solutions."
   ]
  },
  {
   "cell_type": "code",
   "execution_count": null,
   "id": "8849566b",
   "metadata": {
    "tags": [
     "hide-input"
    ]
   },
   "outputs": [],
   "source": [
    "y_D_R=np.dstack(solution_D_R)  # unpack the data\n",
    "\n",
    "#########################\n",
    "# Individual trajectories\n",
    "#########################\n",
    "f, axarr = plt.subplots(1,3, layout='constrained', figsize=(10, 2.5))\n",
    "\n",
    "# Select 50 simulations to plot\n",
    "import random\n",
    "random.seed(10)\n",
    "i_rand=random.sample(range(n_param_draws), 50)\n",
    "\n",
    "# Plot colours\n",
    "colours=[\"C1\", \"C0\", \"C2\"]\n",
    "\n",
    "for i in i_rand:\n",
    "    for j in range(y_D_R.shape[1]):\n",
    "        axarr[j].plot(t, y_D_R[:,j,i], color=colours[j], alpha=0.2)\n",
    "\n",
    "for idx, state in enumerate(stateList):\n",
    "    axarr[idx].set_title(state)\n",
    "\n",
    "######################\n",
    "# Confidence intervals\n",
    "######################\n",
    "\n",
    "# Calculate 95%, 50% CIs and median.\n",
    "y_D_R_lolo=np.percentile(y_D_R, 2.5, axis=2)\n",
    "y_D_R_lo=np.percentile(y_D_R, 25, axis=2)\n",
    "y_D_R_hi=np.percentile(y_D_R, 75, axis=2)\n",
    "y_D_R_hihi=np.percentile(y_D_R, 97.5, axis=2)\n",
    "y_D_R_md=np.percentile(y_D_R, 50, axis=2)\n",
    "\n",
    "f, axarr = plt.subplots(1,3, layout='constrained', figsize=(10, 2.5))\n",
    " \n",
    "for i in range(0,3):\n",
    "    axarr[i].fill_between(t, y_D_R_lolo[:,i], y_D_R_hihi[:,i], alpha=0.2, facecolor=colours[i])\n",
    "    axarr[i].fill_between(t, y_D_R_lo[:,i], y_D_R_hi[:,i], alpha=0.4, facecolor=colours[i])\n",
    "    axarr[i].plot(t, y_D_R_md[:,i], color=colours[i])\n",
    "\n",
    "for idx, state in enumerate(stateList):\n",
    "    axarr[idx].set_title(state)\n"
   ]
  },
  {
   "cell_type": "markdown",
   "id": "39d66f12",
   "metadata": {},
   "source": [
    "<!-- ```{tip}\n",
    "In addition to using the built-in functions to represent stochasticity,\n",
    "we can also use standard frozen distributions from scipy. Note that it\n",
    "must be a frozen distribution as that is the only for the parameters of\n",
    "the distributions to propagate through the model.\n",
    "import scipy.stats as st\n",
    "d = dict()\n",
    "d['beta'] = st.gamma(a=100.0, scale=1.0/200.0)\n",
    "d['gamma'] = st.gamma(a=100.0, scale=1.0/300.0)\n",
    "odeS.parameters = d\n",
    "``` -->"
   ]
  },
  {
   "cell_type": "markdown",
   "id": "2f01a3d9",
   "metadata": {},
   "source": [
    "## Stochastic evolution\n",
    "\n",
    "In a continuous Markov representation, each movement in the system is a result of a jump process.\n",
    "More concretely, the probabilty of a move for transition $j$ is governed\n",
    "by an exponential distribution such that\n",
    "\n",
    "$$\\Pr(\\text{process $j$ jump within time } \\tau) = \\lambda_{j} e^{-\\lambda_{j} \\tau},$$\n",
    "\n",
    "where $\\lambda_{j}$ is the rate of transition for process $j$ and $\\tau$\n",
    "the time elapsed after current time $t$.\n",
    "\n",
    "Two of the commmon algorithms for the jump process have been\n",
    "implemented for use during simulation; the reaction method [\\[Gillespie1977\\]]() and the $\\tau$-Leap method\n",
    "[\\[Cao2006\\]](). The two change interactively depending on the size of the states.\n",
    "\n",
    "### Fixed parameters\n",
    "\n",
    "As previously, we define a model and pass our fixed parameters `fixed_param_set`.\n",
    "However, this time we employ the function `solve_stochast`"
   ]
  },
  {
   "cell_type": "code",
   "execution_count": null,
   "id": "118a869b",
   "metadata": {},
   "outputs": [],
   "source": [
    "# Set up pygom object\n",
    "ode_S_F = SimulateOde(stateList, paramList, transition=transitionList)\n",
    "ode_S_F.initial_values = (x0, t[0])\n",
    "\n",
    "n_sim=1000  # number of simulations\n",
    "ode_S_F.parameters = fixed_param_set\n",
    "solution_S_F, simT = ode_S_F.solve_stochast(t, n_sim, full_output=True)"
   ]
  },
  {
   "cell_type": "markdown",
   "id": "920d3a0b",
   "metadata": {},
   "source": [
    "Before we inspect the epidemic time series, we plot the distribution of final epidemic sizes."
   ]
  },
  {
   "cell_type": "code",
   "execution_count": null,
   "id": "a3698023",
   "metadata": {
    "tags": [
     "hide-input"
    ]
   },
   "outputs": [],
   "source": [
    "y_S_F=np.dstack(solution_S_F)  # unpack the data\n",
    "final_size_S_F=y_S_F[-1, 2, :]\n",
    "\n",
    "plt.figure(figsize=(3, 2.5))\n",
    "plt.hist(final_size_S_F, bins=100, color=\"C0\")\n",
    "\n",
    "# Plot failed epidemics\n",
    "i_success_S_F=np.where(final_size_S_F>2000)\n",
    "y_fail_S_F=np.delete(y_S_F, obj=i_success_S_F, axis=2) \n",
    "f, ax = plt.subplots(figsize=(3, 2.5))\n",
    "\n",
    "for i in range(min(y_fail_S_F.shape[2], 3)):\n",
    "    ax.plot(t[0:300], y_fail_S_F[0:300,1,i], color=\"C0\", alpha=0.5)"
   ]
  },
  {
   "cell_type": "markdown",
   "id": "39f93f66",
   "metadata": {},
   "source": [
    "We see that a fraction, perhaps 4%, of the simulations have final sizes very close to zero.\n",
    "In these cases, the chain of infecteds reaches stochastic extinction before an epidemic is able to take off.\n",
    "We proceed to eliminate these when plotting our simulation outputs"
   ]
  },
  {
   "cell_type": "code",
   "execution_count": null,
   "id": "f82a87ea",
   "metadata": {
    "tags": [
     "hide-input"
    ]
   },
   "outputs": [],
   "source": [
    "# Delete failed epidemics\n",
    "i_fail_S_F=np.where(final_size_S_F<2000)\n",
    "y_success_S_F=np.delete(y_S_F, obj=i_fail_S_F, axis=2) \n",
    "\n",
    "#########################\n",
    "# Individual trajectories\n",
    "#########################\n",
    "f, axarr = plt.subplots(1,3, layout='constrained', figsize=(10, 2.5))\n",
    "\n",
    "# Select 50 simulations to plot\n",
    "i_rand=random.sample(range(y_success_S_F.shape[2]), 50)\n",
    "\n",
    "# Plot colours\n",
    "colours=[\"C1\", \"C0\", \"C2\"]\n",
    "\n",
    "for i in i_rand:\n",
    "    for j in range(y_S_F.shape[1]):\n",
    "        axarr[j].plot(t, y_success_S_F[:,j,i], color=colours[j], alpha=0.2)\n",
    "\n",
    "for idx, state in enumerate(stateList):\n",
    "    axarr[idx].set_title(state)\n",
    "\n",
    "######################\n",
    "# Confidence intervals\n",
    "######################\n",
    "\n",
    "# Calculate 95%, 50% CIs and median.\n",
    "y_S_F_lolo=np.percentile(y_success_S_F, 2.5, axis=2)\n",
    "y_S_F_lo=np.percentile(y_success_S_F, 25, axis=2)\n",
    "y_S_F_hi=np.percentile(y_success_S_F, 75, axis=2)\n",
    "y_S_F_hihi=np.percentile(y_success_S_F, 97.5, axis=2)\n",
    "y_S_F_md=np.percentile(y_success_S_F, 50, axis=2)\n",
    "\n",
    "f, axarr = plt.subplots(1,3, layout='constrained', figsize=(10, 2.5))\n",
    " \n",
    "for i in range(0,3):\n",
    "    axarr[i].fill_between(t, y_S_F_lolo[:,i], y_S_F_hihi[:,i], alpha=0.2, facecolor=colours[i])\n",
    "    axarr[i].fill_between(t, y_S_F_lo[:,i], y_S_F_hi[:,i], alpha=0.4, facecolor=colours[i])\n",
    "    axarr[i].plot(t, y_S_F_md[:,i], color=colours[i])\n",
    "\n",
    "for idx, state in enumerate(stateList):\n",
    "    axarr[idx].set_title(state)\n",
    "\n"
   ]
  },
  {
   "cell_type": "markdown",
   "id": "e2b6b36b",
   "metadata": {},
   "source": [
    "### Random parameters\n",
    "\n",
    "Finally, we explore a scenario where we wish to solve for a stochastic system with parameters drawn randomly from some distributions.\n",
    "Using the random parameter set, `random_param_set`, defined previously"
   ]
  },
  {
   "cell_type": "code",
   "execution_count": null,
   "id": "f0c270ea",
   "metadata": {},
   "outputs": [],
   "source": [
    "# Set up pygom object\n",
    "ode_S_R = SimulateOde(stateList, paramList, transition=transitionList)\n",
    "ode_S_R.initial_values = (x0, t[0])\n",
    "\n",
    "# In this case n_sim and n_param_draw mean the same thing since we have new parameter set per simulation\n",
    "ode_S_R.parameters = random_param_set\n",
    "solution_S_R, simT = ode_S_R.solve_stochast(t, n_sim, full_output=True)"
   ]
  },
  {
   "cell_type": "markdown",
   "id": "035eac47",
   "metadata": {},
   "source": [
    "Again, we begin our analysis by inspecting the final size distribution."
   ]
  },
  {
   "cell_type": "code",
   "execution_count": null,
   "id": "91cb77b0",
   "metadata": {
    "tags": [
     "hide-input"
    ]
   },
   "outputs": [],
   "source": [
    "y_S_R=np.dstack(solution_S_R)\n",
    "\n",
    "final_size_S_R=y_S_R[-1, 2, :]\n",
    "plt.figure(figsize=(3, 2.5))\n",
    "plt.hist(final_size_S_R, bins=100)\n",
    "plt.show()"
   ]
  },
  {
   "cell_type": "markdown",
   "id": "c54b61c9",
   "metadata": {},
   "source": [
    "We see that the final size distribution is much more spread out, owing to increased variation in the parameters.\n",
    "The cut off between failed and successful epidemics is less clear cut in this case and we set this by eye to be 2000.\n",
    "Again, eliminating the failed epidemics we plot the model output"
   ]
  },
  {
   "cell_type": "code",
   "execution_count": null,
   "id": "a072686d",
   "metadata": {
    "tags": [
     "hide-input"
    ]
   },
   "outputs": [],
   "source": [
    "# Delete failed epidemics\n",
    "i_fail_S_R=np.where(final_size_S_R<2000)\n",
    "y_success_S_R=np.delete(y_S_R, obj=i_fail_S_R, axis=2) \n",
    "\n",
    "#########################\n",
    "# Individual trajectories\n",
    "#########################\n",
    "f, axarr = plt.subplots(1,3, layout='constrained', figsize=(10, 2.5))\n",
    "\n",
    "# Select 50 simulations to plot\n",
    "i_rand=random.sample(range(y_success_S_R.shape[2]), 50)\n",
    "\n",
    "# Plot colours\n",
    "colours=[\"C1\", \"C0\", \"C2\"]\n",
    "\n",
    "for i in i_rand:\n",
    "    for j in range(y_S_R.shape[1]):\n",
    "        axarr[j].plot(t, y_success_S_R[:,j,i], color=colours[j], alpha=0.2)\n",
    "\n",
    "for idx, state in enumerate(stateList):\n",
    "    axarr[idx].set_title(state)\n",
    "\n",
    "######################\n",
    "# Confidence intervals\n",
    "######################\n",
    "\n",
    "# Calculate 95%, 50% CIs and median.\n",
    "y_S_R_lolo=np.percentile(y_success_S_R, 2.5, axis=2)\n",
    "y_S_R_lo=np.percentile(y_success_S_R, 25, axis=2)\n",
    "y_S_R_hi=np.percentile(y_success_S_R, 75, axis=2)\n",
    "y_S_R_hihi=np.percentile(y_success_S_R, 97.5, axis=2)\n",
    "y_S_R_md=np.percentile(y_success_S_R, 50, axis=2)\n",
    "\n",
    "f, axarr = plt.subplots(1,3, layout='constrained', figsize=(10, 2.5))\n",
    " \n",
    "for i in range(0,3):\n",
    "    axarr[i].fill_between(t, y_S_R_lolo[:,i], y_S_R_hihi[:,i], alpha=0.2, facecolor=colours[i])\n",
    "    axarr[i].fill_between(t, y_S_R_lo[:,i], y_S_R_hi[:,i], alpha=0.4, facecolor=colours[i])\n",
    "    axarr[i].plot(t, y_S_R_md[:,i], color=colours[i])\n",
    "\n",
    "for idx, state in enumerate(stateList):\n",
    "    axarr[idx].set_title(state)"
   ]
  },
  {
   "cell_type": "markdown",
   "id": "57d2bc06",
   "metadata": {},
   "source": [
    "## Summary\n",
    "\n",
    "With two possible simulation methods and two possible parameter types, we have explored the four total model configurations.\n",
    "We plot these results side by side for the infected compartment so we can observe the key differences."
   ]
  },
  {
   "cell_type": "code",
   "execution_count": null,
   "id": "2b69ea71",
   "metadata": {
    "tags": [
     "hide-input"
    ]
   },
   "outputs": [],
   "source": [
    "ymax=1250\n",
    "\n",
    "#fig, axarr = plt.subplots(2,2, layout='constrained')\n",
    "\n",
    "# axarr[0][0].plot(t, solution_D_F[:,1], color=\"black\")\n",
    "# axarr[0][0].set_ylim(bottom=0, top=ymax)\n",
    "\n",
    "# axarr[0][1].fill_between(t, y_S_F_lolo[:,j], y_S_F_hihi[:,j], alpha=0.3, facecolor='blue')\n",
    "# axarr[0][1].fill_between(t, y_S_F_lo[:,j], y_S_F_hi[:,j], alpha=0.4, facecolor='blue')\n",
    "# axarr[0][1].plot(t, y_S_F_md[:,j], color=\"black\")\n",
    "# axarr[0][1].set_ylim(bottom=0, top=ymax)\n",
    "\n",
    "# axarr[1][0].fill_between(t, y_D_R_lolo[:,j], y_D_R_hihi[:,j], alpha=0.3, facecolor='blue')\n",
    "# axarr[1][0].fill_between(t, y_D_R_lo[:,j], y_D_R_hi[:,j], alpha=0.4, facecolor='blue')\n",
    "# axarr[1][0].plot(t, y_D_R_md[:,j], color=\"black\")\n",
    "# axarr[1][0].set_ylim(bottom=0, top=ymax)\n",
    "\n",
    "# axarr[1][1].fill_between(t, y_S_R_lolo[:,j], y_S_R_hihi[:,j], alpha=0.3, facecolor='blue')\n",
    "# axarr[1][1].fill_between(t, y_S_R_lo[:,j], y_S_R_hi[:,j], alpha=0.4, facecolor='blue')\n",
    "# axarr[1][1].plot(t, y_S_R_md[:,j], color=\"black\")\n",
    "# axarr[1][1].set_ylim(bottom=0, top=ymax)\n",
    "\n",
    "\n",
    "fig, axarr2 = plt.subplots(2,2, layout='constrained', figsize=(10, 6))\n",
    "\n",
    "axarr2[0][0].plot(t, solution_D_F[:,1], color=\"C0\")\n",
    "axarr2[0][0].set_ylim(bottom=0, top=ymax)\n",
    "\n",
    "i_rand=random.sample(range(n_param_draws), 50)\n",
    "\n",
    "for i in i_rand:\n",
    "    axarr2[0][1].plot(t, y_S_F[:,1,i], color=\"C0\", alpha=0.3)\n",
    "    axarr2[0][1].set_ylim(bottom=0, top=ymax)\n",
    "\n",
    "    axarr2[1][0].plot(t, y_D_R[:,1,i], color=\"C0\", alpha=0.3)\n",
    "    axarr2[1][0].set_ylim(bottom=0, top=ymax)\n",
    "\n",
    "    axarr2[1][1].plot(t, y_S_R[:,1,i], color=\"C0\", alpha=0.3)\n",
    "    axarr2[1][1].set_ylim(bottom=0, top=ymax)\n",
    "\n",
    "plt.show()"
   ]
  },
  {
   "cell_type": "markdown",
   "id": "e1fe54a8",
   "metadata": {},
   "source": [
    "<!-- ## Repeatable Simulation\n",
    "\n",
    "One of the possible uses of compartmental models is to generate\n",
    "forecasts. Although most of the time the requirement would be to have\n",
    "(at least point-wise) convergence in the limit, reproducibility is also\n",
    "important. For both types of interpretation explained above, we have\n",
    "given the package the capability to repeat the simulations by setting a\n",
    "seed. When the assumption is that the parameters follows some sort of\n",
    "distribution, we can set the seed which governs the global state of\n",
    "the random number generator.\n",
    "\n",
    "\n",
    "\n",
    "\n",
    "x0 = [2362206.0, 3.0, 0.0]\n",
    "\n",
    "odeS = SimulateOde(stateList, paramList, transition=transitionList)\n",
    "\n",
    "d = {'beta': st.gamma(a=100.0, scale=1.0/200.0), 'gamma':st.gamma(a=100.0, scale=1.0/300.0), 'N': x0[0]}\n",
    "\n",
    "odeS.parameters = d\n",
    "\n",
    "odeS.initial_values = (x0, t[0])\n",
    "\n",
    "Ymean, Yall = odeS.simulate_param(t[1::], 10, full_output=True)\n",
    "\n",
    "\n",
    "\n",
    "np.random.seed(1)\n",
    "\n",
    "Ymean1, Yall1 = odeS.simulate_param(t[1::], 10, full_output=True)\n",
    "\n",
    "np.random.seed(1)\n",
    "\n",
    "Ymean2, Yall2 = odeS.simulate_param(t[1::], 10, full_output=True)\n",
    "\n",
    "sim_diff = [np.linalg.norm(Yall[i] - yi) for i, yi in enumerate(Yall1)]\n",
    "\n",
    "sim_diff12 = [np.linalg.norm(Yall2[i] - yi) for i, yi in enumerate(Yall1)]\n",
    "\n",
    "print(\"Different in the simulations and the mean: (%s, %s) \" %(np.sum(sim_diff), np.sum(np.abs(Ymean1 - Ymean))))\n",
    "\n",
    "print(\"Different in the simulations and the mean using same seed: (%s, %s) \" % (np.sum(sim_diff12), np.sum(np.abs(Ymean2 - Ymean1))))\n",
    "\n",
    "\n",
    "In the alternative interpretation, setting the global seed is\n",
    "insufficient. Unlike simulation based on the parameters, where we can\n",
    "pre-generate all the parameter values and send them off to individual\n",
    "processes in the parallel backend, this is prohibitive here. In a\n",
    "nutshell, the seed does not propagate when using a parallel backend\n",
    "because each *integration* requires an unknown number of random samples.\n",
    "Therefore, we have an additional flag **parallel** in the function\n",
    "signature. By ensuring that the computation runs in serial, we can make\n",
    "use of the global seed and generate identical runs.\n",
    "\n",
    "\n",
    "x0 = [2362206.0, 3.0, 0.0]\n",
    "\n",
    "odeS = SimulateOde(stateList, paramList, transition=transitionList)\n",
    "\n",
    "odeS.parameters = [0.5, 1.0/3.0, x0[0]]\n",
    "\n",
    "odeS.initial_values = (x0, t[0])\n",
    "\n",
    "simX, simT = odeS.simulate_jump(t[1:10], 10, parallel=False, full_output=True)\n",
    "\n",
    "np.random.seed(1)\n",
    "\n",
    "simX1, simT1 = odeS.simulate_jump(t[1:10], 10, parallel=False, full_output=True)\n",
    "\n",
    "np.random.seed(1)\n",
    "\n",
    "simX2, simT2 = odeS.simulate_jump(t[1:10], 10, parallel=False, full_output=True)\n",
    "\n",
    "sim_diff = [np.linalg.norm(simX[i] - x1) for i, x1 in enumerate(simX1)]\n",
    "\n",
    "sim_diff12 = [np.linalg.norm(simX2[i] - x1) for i, x1 in enumerate(simX1)]\n",
    "\n",
    "print(\"Difference in simulation: %s\" %np.sum(np.abs(sim_diff)))\n",
    "\n",
    "print(\"Difference in simulation using same seed: %s\" %np.sum(np.abs(sim_diff12))) -->"
   ]
  }
 ],
 "metadata": {
  "kernelspec": {
   "display_name": "Python 3.9.15 ('sphinx-doc')",
   "language": "python",
   "name": "python3"
  },
  "language_info": {
   "codemirror_mode": {
    "name": "ipython",
    "version": 3
   },
   "file_extension": ".py",
   "mimetype": "text/x-python",
   "name": "python",
   "nbconvert_exporter": "python",
   "pygments_lexer": "ipython3",
   "version": "3.9.19"
  },
  "vscode": {
   "interpreter": {
    "hash": "4dc1e323c80fe09539c74ad5c5a7c7d8d9ff99e04f7b3dbd3680daf878629d6e"
   }
  }
 },
 "nbformat": 4,
 "nbformat_minor": 5
}
