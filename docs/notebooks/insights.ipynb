{
 "cells": [
  {
   "cell_type": "markdown",
   "id": "e395ad9b",
   "metadata": {},
   "source": [
    "# ODE Insights\n",
    "\n",
    "As mentioned previously, once our ODE system is encapsulated in the `SimulateOde` class, it is ready to be studied using PyGOM's simulation and parameter estimation methods.\n",
    "However, we can also take advantage of several useful features of PyGOM which provide us with more analytical insights which we might commonly need pen and paper to find for ourselves.\n",
    "\n",
    "In this chapter we outline some of these methods which allow us to quickly obtain algebraic results which we frequently find ourselves calculating."
   ]
  }
 ],
 "metadata": {
  "kernelspec": {
   "display_name": "Python 3.9.15 ('sphinx-doc')",
   "language": "python",
   "name": "python3"
  },
  "language_info": {
   "codemirror_mode": {
    "name": "ipython",
    "version": 3
   },
   "file_extension": ".py",
   "mimetype": "text/x-python",
   "name": "python",
   "nbconvert_exporter": "python",
   "pygments_lexer": "ipython3",
   "version": "3.9.19"
  },
  "vscode": {
   "interpreter": {
    "hash": "4dc1e323c80fe09539c74ad5c5a7c7d8d9ff99e04f7b3dbd3680daf878629d6e"
   }
  }
 },
 "nbformat": 4,
 "nbformat_minor": 5
}
