{
 "cells": [
  {
   "cell_type": "markdown",
   "metadata": {},
   "source": [
    "# Reading and using EpiJSON data\n",
    "\n",
    "Epidemiology data is complicated due to the many different stages a\n",
    "patient can go through and whether a modeling technique is applicable\n",
    "depends heavily on the recording of data. [EpiJSON](https://github.com/Hackout2/EpiJSON) is a framework which\n",
    "tries to captures all the information in a JSON format {cite}`Finnie2016`.\n",
    "\n",
    "PyGOM provides the functionality to process EpiJSON data. Due to\n",
    "the nature of this package, modeling of ODEs, data files are processed with this in mind. The output is therefore in the cumulative form as\n",
    "default, shown below, in a [`pandas.DataFrame`](https://pandas.pydata.org/docs/reference/api/pandas.DataFrame.html) format. \n",
    "\n",
    "#TODO unsure what this means\n",
    "\n",
    "\n",
    "The input can be\n",
    "in a string format, a file or already a `dict`."
   ]
  },
  {
   "cell_type": "code",
   "execution_count": null,
   "id": "cea94b62",
   "metadata": {},
   "outputs": [],
   "source": [
    "from pygom.loss.read_epijson import epijson_to_data_frame\n",
    "\n",
    "import pkgutil\n",
    "\n",
    "data = pkgutil.get_data('pygom', 'data/eg1.json')\n",
    "\n",
    "df = epijson_to_data_frame(data)\n",
    "\n",
    "print(df)"
   ]
  },
  {
   "cell_type": "markdown",
   "id": "04004708",
   "metadata": {},
   "source": [
    "\n",
    "Given that the aim of loading the data is usually for model fitting, we\n",
    "allow EpiJSON as an input directly to the loss class\n",
    "{class}`.EpijsonLoss` which uses the Poisson loss under the hood."
   ]
  },
  {
   "cell_type": "code",
   "execution_count": null,
   "id": "5a3cfb9b",
   "metadata": {},
   "outputs": [],
   "source": [
    "from pygom.model import common_models\n",
    "\n",
    "from pygom.loss.epijson_loss import EpijsonLoss\n",
    "\n",
    "ode = common_models.SIR([0.5, 0.3])\n",
    "\n",
    "obj = EpijsonLoss([0.005, 0.03], ode, data, 'Death', 'R', [300, 2, 0])\n",
    "\n",
    "print(obj.cost())"
   ]
  },
  {
   "cell_type": "code",
   "execution_count": null,
   "id": "09c0cfcd",
   "metadata": {},
   "outputs": [],
   "source": [
    "print(obj._df)"
   ]
  },
  {
   "cell_type": "markdown",
   "id": "a5ac54c8",
   "metadata": {},
   "source": [
    "Given an initialized object, all the operations are inherited from\n",
    "{class}`.BaseLoss`. We demonstrated above how to calculate the cost\n",
    "and the rest will not be shown for brevity. The data frame is stored\n",
    "inside of the loss object and can be retrieved for inspection at any\n",
    "time point.\n",
    "\n",
    "```{note}\n",
    "Initial values for the states are required,\n",
    "but the time is not. When the time is not supplied, then the first time\n",
    "point in the data will be treated as $t0$. The input <span\n",
    "class=\"title-ref\">Death</span> indicates which column of the data is used\n",
    "and $R$ the corresponding state the data belongs to.\n",
    "```"
   ]
  },
  {
   "cell_type": "markdown",
   "id": "caa1d2f1",
   "metadata": {},
   "source": [
    "```{footbibliography}\n",
    "```"
   ]
  }
 ],
 "metadata": {
  "kernelspec": {
   "display_name": "Python 3.9.15 ('sphinx-doc')",
   "language": "python",
   "name": "python3"
  },
  "language_info": {
   "name": "python",
   "version": "3.9.15"
  },
  "vscode": {
   "interpreter": {
    "hash": "4dc1e323c80fe09539c74ad5c5a7c7d8d9ff99e04f7b3dbd3680daf878629d6e"
   }
  }
 },
 "nbformat": 4,
 "nbformat_minor": 5
}
