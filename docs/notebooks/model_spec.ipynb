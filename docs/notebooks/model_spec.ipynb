{
 "cells": [
  {
   "cell_type": "markdown",
   "id": "5d9ccebd",
   "metadata": {},
   "source": [
    "# Defining an ODE system\n",
    "\n",
    "The starting point in using PyGOM to study an ODE system is to encapsulate the relevant information about the system into a class {class}`SimulateOde`.\n",
    "When set up in this object, the system is prepared for application of the various features of PyGOM such as simulation and model fitting.\n",
    "\n",
    "<!-- To ODE system into a class {class}`Transition` -->\n",
    "## Equations vs Transitions\n",
    "\n",
    "Firstly, we outline the two main ways we might think about defining our ODE system.\n",
    "Typically, we may already know the set of equations which describes the rates of change of the dependent variables:\n",
    "\n",
    "$$\\frac{\\mathrm{d} \\mathbf{y}}{\\mathrm{d} t} = f(\\mathbf{y},\\boldsymbol{\\theta}, t)$$\n",
    "\n",
    "where $\\mathbf{y} = \\left(y_{1},\\ldots,y_{n}\\right)$ is the state vector, $\\boldsymbol{\\theta} = \\left(\\theta_{1},\\ldots, \\theta_{p}\\right)$ is the set of parameters and $f$ is a vector function giving the rates of change of each state.\n",
    "\n",
    "Compartmental models, whereby the variables represent categories, have another interpretation in which we may instead consider transitions between the different groups\n",
    "\n",
    "$$\\begin{aligned}\n",
    "y_i \\rightarrow y_j = f_{i,j}(\\mathbf{y},\\boldsymbol{\\theta}) \\\\\n",
    "\\end{aligned}$$\n",
    "\n",
    "where $i, j = \\{1,\\ldots, n\\}$ and $f_{i,j}$ are functions governing the rate at which members of group $i$ transition to $j$.\n",
    "\n",
    "PyGOM allows the user flexibility to choose which of these perspectives to use, or indeed combine, in order to build their models.\n",
    "If given transitions, Pygom will automatically convert these into equations and, as we'll see later, it can also attempt to reverse engineer transitions from equations.\n",
    "\n",
    "## Example: SIR model\n",
    "\n",
    "Here we use a Susceptible-Infected-Recovered epidemic model (an SIR model, for short) to demonstrate the two different ways PyGOM supports model specification.\n",
    "Since we will frequently rely on the SIR model in examples throughout the tutorial, we take a moment here to outline its key features.\n",
    "\n",
    "Firstly, there is some ambiguity in the naming of the Recovered class which is also commonly referred to as Removed.\n",
    "In the latter sense, there is no distinction made between those who can no longer be infected due to infection acquired immunity and infection induced death.\n",
    "However, for more complex models, the recovered class may become susceptible again due to immune waning and number of deaths is typically important to distinguish.\n",
    "Thus, we make the distinction clear from the outset so that when we talk about deaths in this tutorial it will have its own class, Dead, separate from Recovered. \n",
    "\n",
    "The assumptions of the SIR model:\n",
    "1) An average member of the population makes contact sufficient to transmit infection with $\\beta$ others per unit time (*standard* as opposed to *mass-action* incidence, where this would be $\\beta N$).\n",
    "2) Contacts are well mixed throughout the population, so that the probability that a given contact is with an infected person is $\\frac{I}{N}$ where $N$ is the total population size.\n",
    "3) The infective class is depleted through recovery at a rate $\\gamma I$.\n",
    "4) No births, deaths (natural or from disease) or migration mean there is no entry into or departure from the population: $S(t)+I(t)+R(t)=N$.\n",
    "\n",
    "Under these assumptions, the rates of change of the population in each compartment (**S**usceptible, **I**nfected and **R**ecovered) are given by the following equations:\n",
    "\n",
    "$$\\begin{aligned}\n",
    "\\frac{\\mathrm{d} S}{\\mathrm{d} t} &= -\\frac{\\beta SI}{N} \\\\\n",
    "\\frac{\\mathrm{d} I}{\\mathrm{d} t} &= \\frac{\\beta SI}{N} - \\gamma I \\\\\n",
    "\\frac{\\mathrm{d} R}{\\mathrm{d} t} &= \\gamma I.\n",
    "\\end{aligned}$$\n",
    "\n",
    "However, it is equally valid to view this system as the result of two transitions; infection, which takes subjects from susceptible to infected and recovery, which takes them from infected to recovered.\n",
    "\n",
    "$$\\begin{aligned}\n",
    "S \\rightarrow I &= \\frac{\\beta SI}{N} \\\\\n",
    "I \\rightarrow R &= \\gamma I\n",
    "\\end{aligned}$$\n",
    "\n",
    "Advantages of specifying our system using the transition approach are firstly that transitions are a more intuitive language when thinking about building compartmental models.\n",
    "Perhaps more beneficial, though, is that it enables the computer to do our book-keeping when converting transitions to ODE equations.\n",
    "This reduces the error of, for example, including a flow out of one state, but forgetting to include it in the recipient state.\n",
    "In this case, we had to remember to include $-\\frac{\\beta SI}{N}$ in the $S$ equation and the opposite sign in the $I$ equation, for example.\n",
    "\n",
    "## Defining the model with PyGOM\n",
    "\n",
    "Defining the system is handled by feeding classes of {class}`Transition` into the main class we referred to at the start, {class}`SimulateOde`.\n",
    "The {class}`Transition` class has 4 types, which are specified by the `transition_type` argument.\n",
    "This lets `SimulateOde` know in which format we are inputting our information.\n",
    "This could be as transitions or ODEs as we've just been discussing, or as the other two available options which are birth and death processes.\n",
    "The {class}`Transition` class accepts 3 or 4 parameters depending on which type is being defined as summarised in the below table:\n",
    "\n",
    "|                 |          Transition             |            Equation               |                  Birth                 |                  Death                 |\n",
    "|:---------------:|:-------------------------------:|:---------------------------------:|:--------------------------------------:|:--------------------------------------:|\n",
    "| transition_type | T                               | ODE                               | B                                      | D                                      |\n",
    "| origin          | State transition is from, $y_i$ | State equation pertains to, $y_i$ | State birth process populates, $y_i$   | State death process depletes, $y_i$    |\n",
    "| destination     | State transition is to, $y_j$   | n/a                               | n/a                                    | n/a                                    |\n",
    "| equation        | $f_{i,j}$                       | $\\frac{dy_i}{dt}$                 | $\\frac{dy_i}{dt}$ due to birth process | $\\frac{dy_i}{dt}$ due to death process |\n",
    "\n",
    "```{note}\n",
    "Arguably the state which the birth process populates could be defined as a destination rather than an origin, but this is the convention adopted here.\n",
    "\n",
    "Also, the {class}`Transition` class may have been better named.\n",
    "Firstly, one of the four possible input types is also called \"transition\", which would imply that it has a special place within the class given that it shares its name.\n",
    "However, all other forms of input (ODE, birth and death) are equally valid.\n",
    "```\n",
    "\n",
    "Let's see how this is implemented for our example SIR system."
   ]
  },
  {
   "cell_type": "code",
   "execution_count": null,
   "id": "4c80a36a",
   "metadata": {},
   "outputs": [],
   "source": [
    "from pygom import Transition, TransitionType\n",
    "\n",
    "# Define SIR model through a list of ODEs\n",
    "odeList = [\n",
    "    Transition(transition_type=TransitionType.ODE, origin='S', equation='-beta*S*I'),\n",
    "    Transition(transition_type=TransitionType.ODE, origin='I', equation='beta*S*I - gamma*I'),\n",
    "    Transition(transition_type=TransitionType.ODE, origin='R', equation='gamma*I') \n",
    "]\n",
    "\n",
    "# Define SIR model through a list of transitions\n",
    "transList = [\n",
    "    Transition(transition_type=TransitionType.T, origin='S', destination='I', equation='beta*S*I'),\n",
    "    Transition(transition_type=TransitionType.T, origin='I', destination='R', equation='gamma*I')\n",
    "]"
   ]
  },
  {
   "cell_type": "markdown",
   "id": "bc7ee766",
   "metadata": {},
   "source": [
    "We now initialise two `SimulateODE` objects using these different approaches.\n",
    "In addition to the ODE or transition information, we must specify which variables are parameters and which refer to states."
   ]
  },
  {
   "cell_type": "code",
   "execution_count": null,
   "id": "511317c9",
   "metadata": {},
   "outputs": [],
   "source": [
    "stateList = ['S', 'I', 'R']\n",
    "paramList = ['beta', 'gamma']"
   ]
  },
  {
   "cell_type": "markdown",
   "id": "b6a2bec7",
   "metadata": {},
   "source": [
    "We define the model in two different ways"
   ]
  },
  {
   "cell_type": "code",
   "execution_count": null,
   "id": "aceb211a",
   "metadata": {},
   "outputs": [],
   "source": [
    "from pygom import SimulateOde\n",
    "model_ode = SimulateOde(state=stateList, param=paramList, ode=odeList)           # model defined via equations\n",
    "model_tra = SimulateOde(state=stateList, param=paramList, transition=transList)  # model defined via transitions"
   ]
  },
  {
   "cell_type": "markdown",
   "id": "8e38d76b",
   "metadata": {},
   "source": [
    "We can use the `get_ode_eqn` function to verify that the models are equivalent"
   ]
  },
  {
   "cell_type": "code",
   "execution_count": null,
   "id": "d0fb6c20",
   "metadata": {},
   "outputs": [],
   "source": [
    "model_ode.get_ode_eqn()"
   ]
  },
  {
   "cell_type": "code",
   "execution_count": null,
   "id": "4e8ec9a3",
   "metadata": {},
   "outputs": [],
   "source": [
    "model_tra.get_ode_eqn()"
   ]
  },
  {
   "cell_type": "markdown",
   "id": "205dec3d",
   "metadata": {},
   "source": [
    "## Modifying models\n",
    "\n",
    "Once a `SimulateODE` object has been defined, it may be modified.\n",
    "For example, let's say we wish to add birth and death processes to the the previously defined SIR model of `model_ode`.\n",
    "We must update the parameters of the class to reflect any additions."
   ]
  },
  {
   "cell_type": "code",
   "execution_count": null,
   "id": "0923151d",
   "metadata": {},
   "outputs": [],
   "source": [
    "model_ode.param_list = model_ode.param_list + ['mu', 'B']"
   ]
  },
  {
   "cell_type": "markdown",
   "id": "f9236e77",
   "metadata": {},
   "source": [
    "We must also add in the new processes"
   ]
  },
  {
   "cell_type": "code",
   "execution_count": null,
   "id": "9b1546f8",
   "metadata": {},
   "outputs": [],
   "source": [
    "birthDeathList = [Transition(origin='S', equation='B', transition_type=TransitionType.B),  \n",
    "                  Transition(origin='S', equation='mu*S', transition_type=TransitionType.D), \n",
    "                  Transition(origin='I', equation='mu*I', transition_type=TransitionType.D), \n",
    "                  Transition(origin='R', equation='mu*R', transition_type=TransitionType.D)]\n",
    "\n",
    "model_ode.birth_death_list = birthDeathList"
   ]
  },
  {
   "cell_type": "markdown",
   "id": "3685b2e1",
   "metadata": {},
   "source": [
    "We can again use `get_ode_eqn` to verify that the equations are updated"
   ]
  },
  {
   "cell_type": "code",
   "execution_count": null,
   "id": "6cc2ba1a",
   "metadata": {},
   "outputs": [],
   "source": [
    "model_ode.get_ode_eqn()"
   ]
  }
 ],
 "metadata": {
  "kernelspec": {
   "display_name": "Python 3.9.15 ('sphinx-doc')",
   "language": "python",
   "name": "python3"
  },
  "language_info": {
   "codemirror_mode": {
    "name": "ipython",
    "version": 3
   },
   "file_extension": ".py",
   "mimetype": "text/x-python",
   "name": "python",
   "nbconvert_exporter": "python",
   "pygments_lexer": "ipython3",
   "version": "3.9.15"
  },
  "vscode": {
   "interpreter": {
    "hash": "4dc1e323c80fe09539c74ad5c5a7c7d8d9ff99e04f7b3dbd3680daf878629d6e"
   }
  }
 },
 "nbformat": 4,
 "nbformat_minor": 5
}
