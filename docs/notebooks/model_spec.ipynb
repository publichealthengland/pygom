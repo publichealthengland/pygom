{
 "cells": [
  {
   "cell_type": "markdown",
   "id": "5d9ccebd",
   "metadata": {},
   "source": [
    "# Defining a system of differential equations\n",
    "\n",
    "The starting point, when using PyGOM to study a system of differential equations (DE's), is to encapsulate the relevant information into a class {class}`.SimulateOde`.\n",
    "Once defined as an instance of this class, the system is ready for the application of PyGOM's various features such as simulation and parameter fitting.\n",
    "\n",
    "```{note}\n",
    "Whilst the following section is quite long and involves some mathematics, we recommend not skipping it since there can be subtleties when it comes to correctly defining a model and these need to be precisely communicated to PyGOM.\n",
    "```\n",
    "\n",
    "## Continuous time Markov chains\n",
    "\n",
    "We first introduce a particular kind of system called a continuous time Markov chain (CTMC).\n",
    "These commonly appear in the study of chemically reacting systems and epidemiology, where the quantities of interest typically refer to counts of something (be that molecules or people) in different compartments.\n",
    "In general, and this will be the case we consider here, the variables may not only refer to discrete quantities but could take continuous values too.\n",
    "\n",
    "In a CTMC, $n$ variables, $\\mathbf{y}(t) = \\left(y_{1}(t),\\ldots,y_{n}(t)\\right)$, describe the state of the system at time, $t$.\n",
    "There are $T$ different types of event (which PyGOM refers to as **Transitions**) and the effect of an event occurring is to change the state by some amount.\n",
    "Mathematically speaking, if event $j$ occurs then the variable $y_i$ changes by $\\mathcal{D}_{ij}$, which may depend on the current state, time and parameters, $\\boldsymbol{\\theta} = \\left(\\theta_{1},\\ldots, \\theta_{p}\\right)$:\n",
    "\n",
    "$$\\begin{aligned}\n",
    "\\Delta y_i \\text{ due to event of transition type, j } = \\mathcal{D}_{ij}(\\mathbf{y}, \\boldsymbol{\\theta}, t)\n",
    "\\end{aligned}$$\n",
    "\n",
    "where $\\mathcal{D}$ is a $n \\times T$ matrix.\n",
    "These events occur randomly in time and independently of each other at rates (also possibly dependent on the state of the system):\n",
    "\n",
    "$$\\begin{aligned}\n",
    "\\boldsymbol{\\lambda}(\\mathbf{y}, \\boldsymbol{\\theta}, t) = \\left(\\lambda_{1}(\\mathbf{y}, \\boldsymbol{\\theta}, t),\\ldots, \\lambda_{T}(\\mathbf{y}, \\boldsymbol{\\theta}, t)\\right)\n",
    "\\end{aligned}$$\n",
    "\n",
    "To demonstrate how this works with an example, consider a Susceptible-Infected-Recovered (SIR) epidemic model.\n",
    "```{note}\n",
    "For those unfamiliar with the SIR model, an outline can be found in the {doc}`common models <common_models/SIR>` section.\n",
    "```\n",
    "In this case, the state of the system is specified by 3 variables: $S$, $I$ and $R$.\n",
    "There are 2 types of event, infection and recovery, which occur at rates $\\frac{\\beta S I}{N}$ and $\\gamma I$ respectively.\n",
    "The result of an infection event happening is to reduce $S$ by 1, increment $I$ by 1 and leave $R$ unchanged. \n",
    "Recovery reduces $I$ by 1 and increments $R$ by 1, leaving $S$ unchanged.\n",
    "This information can be encapsulated in the framework above by the objects $\\mathbf{y}$, $\\boldsymbol{\\lambda}$ and $\\mathcal{D}$ as:\n",
    "\n",
    "$$\\begin{aligned}\n",
    "\\mathbf{y}=\n",
    "\\begin{pmatrix}\n",
    "S\\\\\n",
    "I\\\\\n",
    "R\n",
    "\\end{pmatrix}\n",
    "\\text{, } \\boldsymbol{\\lambda} =\n",
    "\\begin{pmatrix}\n",
    "\\frac{\\beta S I}{N}\\\\\n",
    "\\gamma I\n",
    "\\end{pmatrix}\n",
    "\\text{, } \\mathcal{D} =\n",
    "\\begin{pmatrix}\n",
    "-1 & 0\\\\\n",
    "1 & -1\\\\\n",
    "0 & 1\n",
    "\\end{pmatrix}\n",
    "\\text{, } \\boldsymbol{\\theta} =\n",
    "\\Big( \\beta, \\gamma, N\\Big)\n",
    "\\end{aligned}$$\n",
    "\n",
    "To fully specify the CTMC, this must be accompanied by a master equation which describes the probability that the system moves from the current state to the next.\n",
    "We omit this information here and instead just note that the system evolves according to the two independent stochastic processes: infection and recovery.\n",
    "Our SIR example is a special case in which the events involve transitions of individuals from one compartment to another, thus conserving the total number of individuals (note that the column sums of $\\mathcal{D}$ are all 0).\n",
    "However, in general:\n",
    "\n",
    "- Each event need not effect only 2 variables.\n",
    "- Each event doesn't have to change variables by $\\pm 1$, or even by a constant amount.\n",
    "- Variables don't have to be discrete and/or positive.\n",
    "\n",
    "For example, let's introduce the variable, $E$, which tracks the net economic impact of the epidemic (negative for loss and positive for gain).\n",
    "Let's assume that each infection costs a time dependent amount, $c_i=c_0 e^{-\\frac{t}{\\tau}}$, so that treatment becomes less expensive with time. In this case:\n",
    "\n",
    "- An infection event now causes a change in 3 variables ($S$, $I$ and $E$). These are correlated, despite not having direct flows between all of them.\n",
    "- Upon an infection, $E$ decreases by a time varying, continuous amount.\n",
    "- $E$ is not discrete and will take a negative value if any infections occur.\n",
    "\n",
    "The final kinds of processes we should account for are births and deaths.\n",
    "If individuals are born in a susceptible state at a rate proportional to the total fixed population, $\\mu N$, this represents a flow of people with no explicit origin in the model.\n",
    "Similarly, deaths occurring in each compartment ($S$, $I$, $R$) at rates ($\\mu S$, $\\mu I$, $\\mu R$) are flows with no explicit destination (unless we add an ``afterlife'' compartment).\n",
    "Just to increase the scope of our example model, let's further assume (rather unrealistically) that each birth contributes an amount $c_b$ to the economy.\n",
    "Including the economic modelling plus births and deaths in our model:\n",
    "\n",
    "$$\\begin{aligned}\n",
    "\\mathbf{y}=\n",
    "\\begin{pmatrix}\n",
    "S\\\\\n",
    "I\\\\\n",
    "R\\\\\n",
    "E\n",
    "\\end{pmatrix}\n",
    "\\text{, } \\boldsymbol{\\lambda} =\n",
    "\\begin{pmatrix}\n",
    "\\frac{\\beta S I}{N}\\\\\n",
    "\\gamma I\\\\\n",
    "\\mu N\\\\\n",
    "\\mu S\\\\\n",
    "\\mu I\\\\\n",
    "\\mu R\n",
    "\\end{pmatrix}\n",
    "\\text{, } \\mathcal{D} =\n",
    "\\begin{pmatrix}\n",
    "-1 & 0 & 1 & -1 & 0 & 0\\\\\n",
    "1 & -1 & 0 & 0 & -1 & 0\\\\\n",
    "0 & 1 & 0 & 0 & 0 & -1\\\\\n",
    "-c_i(t) & 0 & c_b & 0 & 0 & 0\n",
    "\\end{pmatrix}\n",
    "\\text{, } \\boldsymbol{\\theta} =\n",
    "\\Big( \\beta, \\gamma, N, \\mu, c_0, \\tau, c_b, \\mu \\Big)\n",
    "\\end{aligned}$$\n",
    "\n",
    "It is worth noting that in the infection process (first column of $\\mathcal{D}$), the pair of states, $S$ and $I$, do still have a special status in that they are involved in a ``true'' transition of individuals.\n",
    "This is also true for the recovery process (second column of $\\mathcal{D}$), where people flow between $I$ and $R$. \n",
    "We can further claim a similar status for births and deaths, which represent real flows in and out of the system.\n",
    "The other changes which occur during an event might be viewed as correlated side-effects (which PyGOM will call **secondary effects**).\n",
    "We can preserve this information by separating the matrix $\\mathcal{D}$ into the explicit origins, $\\mathbf{o}$, destinations, $\\mathbf{d}$ (where $o_k$ and $d_k$ are the respective origin and destination of transition $k$) and secondary effects, $\\mathcal{S}$: \n",
    "\n",
    "$$\\begin{aligned}\n",
    "\\mathbf{y}=\n",
    "\\begin{pmatrix}\n",
    "S\\\\\n",
    "I\\\\\n",
    "R\\\\\n",
    "E\n",
    "\\end{pmatrix}\n",
    "\\text{, } \\boldsymbol{\\lambda} =\n",
    "\\begin{pmatrix}\n",
    "\\frac{\\beta S I}{N}\\\\\n",
    "\\gamma I\\\\\n",
    "\\mu N\\\\\n",
    "\\mu S\\\\\n",
    "\\mu I\\\\\n",
    "\\mu R\n",
    "\\end{pmatrix}\n",
    "\\text{, } \\mathbf{o}=\n",
    "\\begin{pmatrix}\n",
    "S\\\\\n",
    "I\\\\\n",
    "\\text{None}\\\\\n",
    "S\\\\\n",
    "I\\\\\n",
    "R\n",
    "\\end{pmatrix}\n",
    "\\text{, } \\mathbf{d}=\n",
    "\\begin{pmatrix}\n",
    "I\\\\\n",
    "R\\\\\n",
    "S\\\\\n",
    "\\text{None}\\\\\n",
    "\\text{None}\\\\\n",
    "\\text{None}\n",
    "\\end{pmatrix}\n",
    "\\text{, } \\mathcal{S} =\n",
    "\\begin{pmatrix}\n",
    "0 & 0 & 0 & 0 & 0 & 0\\\\\n",
    "0 & 0 & 0 & 0 & 0 & 0\\\\\n",
    "0 & 0 & 0 & 0 & 0 & 0\\\\\n",
    "-c_i(t) & 0 & c_b & 0 & 0 & 0\n",
    "\\end{pmatrix}\n",
    "\\text{, } \\boldsymbol{\\theta} =\n",
    "\\Big( \\beta, \\gamma, N, \\mu, c_0, \\tau, c_b, \\mu \\Big)\n",
    "\\end{aligned}$$\n",
    "\n",
    "Note that the \"None\" indicates that births have no origin and deaths no destination.\n",
    "How PyGOM can solve for the time evolution of such a set of stochastic differential equations (SDE's) is a subject for later in this documentation [LINK].\n",
    "The focus of the current section is how to successfully communicate all of the above details to PyGOM.\n",
    "Before we get to this, we now consider the case where knowledge of the underlying transitions is either not necessary, or the system is not characterised by transitions in the first place.\n",
    "\n",
    "### Ordinary Differential Equations\n",
    "\n",
    "If we instead wish to study how the SIR (plus $E$) model evolves on average and are in a regime where non-integer population counts are not an issue, we can write a set of equations:\n",
    "\n",
    "$$\\begin{aligned}\n",
    "\\frac{\\mathrm{d} S}{\\mathrm{d} t} &= -\\frac{\\beta SI}{N} + \\mu (N - S) \\\\\n",
    "\\frac{\\mathrm{d} I}{\\mathrm{d} t} &= \\frac{\\beta SI}{N} - (\\gamma+\\mu) I \\\\\n",
    "\\frac{\\mathrm{d} R}{\\mathrm{d} t} &= (\\gamma-\\mu) I \\\\\n",
    "\\frac{\\mathrm{d} E}{\\mathrm{d} t} &= c_b \\mu S - c_i(t) \\frac{\\beta SI}{N}\n",
    "\\end{aligned}$$\n",
    "\n",
    "These are examples of a type of equation known as Ordinary Differential Equations (ODE's):\n",
    "a relationship between quantities and their rates of change with respect to one independent variable - in this case, time.\n",
    "In general, a set of ODE's has the form:\n",
    "\n",
    "$$\\begin{aligned}\n",
    "\\frac{\\mathrm{d} \\mathbf{y}}{\\mathrm{d} t} = f(\\mathbf{y},\\boldsymbol{\\theta}, t)\n",
    "\\end{aligned}$$\n",
    "\n",
    "where $\\mathbf{y}$ and $\\boldsymbol{\\theta}$ denote dependent variables and parameters respectively, as previously, and $f$ is a vector function giving the rates of change of each dependent variable.\n",
    "In converting the CTMC model, these equations can be found via:\n",
    "\n",
    "$$\\begin{aligned}\n",
    "\\frac{\\mathrm{d} y_i}{\\mathrm{d} t}=f_i=\\sum_{\\text{transitions, }j} \\mathcal{D}_{ij}\\lambda_j\n",
    "\\end{aligned}$$\n",
    "\n",
    "Therefore, the familiar set of ODE's describing the SIR model are, in fact, an approximation of an underlying CTMC.\n",
    "However, not all ODE's are necessarily the result of a CTMC.\n",
    "In the table below we provide 2 examples of models which can be described through and ODE or a CTMC perspective and 2 models which only have an ODE interpretation:\n",
    "\n",
    "| Name | ODE | CTMC |\n",
    "|----|---------|:------------------------:|\n",
    "| Hooke's law | $\\begin{aligned} \\frac{\\mathrm{d}x}{\\mathrm{d}t}&=v\\\\ \\frac{\\mathrm{d}v}{\\mathrm{d}t}&= -\\frac{k}{m}x \\end{aligned}$ | NA|\n",
    "| Newton's law of cooling | $\\begin{aligned} \\frac{\\mathrm{d}T}{\\mathrm{d}t}=-\\frac{1}{\\tau} \\left( T-T_{\\text{env}} \\right) \\end{aligned}$ | NA|\n",
    "| Lotka-Volterra | $\\begin{aligned} \\frac{\\mathrm{d} n_1}{\\mathrm{d}t}&=\\alpha n_1 - \\beta n_1 n_2\\\\ \\frac{\\mathrm{d}n_2}{\\mathrm{d}t}&= -\\gamma n_2 + \\delta n_1 n_2 \\end{aligned}$ | $\\begin{aligned} \\boldsymbol{\\lambda} = \\begin{pmatrix} \\alpha n_1\\\\ \\beta n_1 n_2 \\\\ \\gamma n_2 \\\\ \\delta n_1 n_2 \\end{pmatrix} \\text{, } \\mathcal{D} = \\begin{pmatrix} 1 & -1 & 0 & 0\\\\ 0 & 0 & -1 & 1 \\end{pmatrix} \\end{aligned}$             |\n",
    "| SIR | $\\begin{aligned} \\frac{\\mathrm{d} S}{\\mathrm{d}t}&=-\\frac{\\beta S I}{N}\\\\ \\frac{\\mathrm{d}I}{\\mathrm{d}t}&= \\frac{\\beta S I}{N} - \\gamma I\\\\ \\frac{\\mathrm{d}R}{\\mathrm{d}t}&= \\gamma I \\end{aligned}$ | $\\begin{aligned} \\boldsymbol{\\lambda} = \\begin{pmatrix} \\frac{\\beta S I}{N}\\\\ \\gamma I \\end{pmatrix} \\text{, } \\mathcal{D} = \\begin{pmatrix} -1 & 0\\\\ 1 & -1\\\\ 0 & 1 \\end{pmatrix} \\end{aligned}$ |\n",
    "\n",
    "The first, Hooke's law, describes the dynamics the position, $x$, and velocity, $v$, of a mass attached to a spring.\n",
    "Whilst it is possible to introduce stochasticity to this system, perhaps due to random fluctuations in the spring properties, this will not take the form of a CTMC.\n",
    "There is actually nothing to mathematically prevent one from modelling the system as a CTMC with $\\boldsymbol{\\lambda}= \\begin{pmatrix} 1\\\\ 1 \\end{pmatrix}$, $\\mathcal{D}=\\begin{pmatrix} v & 0 \\\\ 0 & -\\frac{k}{m} x \\end{pmatrix}$, the result just has no basis in reality.\n",
    "The same story applies for Newton's law of cooling, where an object which is warmer than the environment approaches thermal equilibrium with its surroundings.\n",
    "\n",
    "As we have seen, an SIR is amenable to both a CTMC or an ODE approach.\n",
    "Also included in the table is the Lotka-Volterra predator-prey model where we see that a CTMC implementation acts through 2 birth and 2 death processes.\n",
    "\n",
    "## ODE vs CTMC Definition in PyGOM\n",
    "\n",
    "PyGOM allows the user flexibility in choosing which of these perspectives to use, or indeed combine if possible, in order to build their models.\n",
    "If stochastic solutions are required, however, then PyGOM *must* know the underlying transitions.\n",
    "The easiest way is to supply this information directly, however, {doc}`in some cases <unroll/unrollSimple>`, it can also attempt to reverse engineer transitions if ODE's are instead supplied.\n",
    "If stochastic solutions are not required (or, indeed, the system has no underlying CTMC), then the system can be specified either in terms of ODE's or transitions (if possible).\n",
    "\n",
    "One advantage of specifying our system using the transition approach is that many will find transitions a more intuitive language when thinking about compartmental models.\n",
    "Perhaps more beneficial, though, is that when building models with transitions using PyGOM, it enables the computer to do our book-keeping when converting transitions to ODE equations.\n",
    "This reduces the error of, for example, including a flow out of one state, but forgetting to include it in the recipient state.\n",
    "For example, in the case above, when indicating infections with $-\\frac{\\beta SI}{N}$ in the $\\frac{\\mathrm{d}S}{\\mathrm{d}t}$ equation, we had to remember to include the opposite sign in the $\\frac{\\mathrm{d}I}{\\mathrm{d}t}$ equation.\n",
    "\n",
    "## Defining the model with PyGOM\n",
    "\n",
    "Defining the system is handled by feeding {class}`.Transition` objects into the central class, {class}`.SimulateOde`.\n",
    "An instance of the {class}`.Transition` class takes one of four types, which are specified by the `transition_type` argument, letting {class}`.SimulateOde` know which type of information it is being given.\n",
    "This type could be `Transition` or `ODE`, as we've just been discussing, or one of two other available options, namely `Birth` and `Death` processes, which are essentially of the transition `Transition` type too, but without a destination state.\n",
    "The {class}`.Transition` class accepts 3 or 4 parameters depending on which type is being defined, as summarised in the below table:\n",
    "\n",
    "|                 |          Transition             |            Equation               |                  Birth                 |                  Death                 |\n",
    "|:---------------:|:-------------------------------:|:---------------------------------:|:--------------------------------------:|:--------------------------------------:|\n",
    "| transition_type | T                               | ODE                               | B                                      | D                                      |\n",
    "| origin          | $o_k$ | State equation pertains to, $y_i$ | State birth process populates, $y_i$   | State death process depletes, $y_i$    |\n",
    "| destination     | $d_k$  | n/a                               | n/a                                    | n/a                                    |\n",
    "| equation        | Rate of transition, $\\lambda_k$ | $\\frac{dy_i}{dt}$                 | Birth rate, $\\lambda_k$ | Death rate, $\\lambda_k$ |\n",
    "| secondary_effects | $\\mathcal{S}_k$                       | n/a                 | $\\mathcal{S}_k$  | $\\mathcal{S}_k$  |\n",
    "\n",
    "```{note}\n",
    "Arguably, the state which the birth process populates could be defined as a destination rather than an origin, but this is not the convention adopted here.\n",
    "\n",
    "Furthermore, the {class}`.Transition` class may have been better named.\n",
    "One of the four possible input types is also called \"transition\", which would incorrectly imply that it has a special place within the class, given that it shares its name.\n",
    "```\n",
    "\n",
    "Let's see how this is implemented for our example SIR(E) system without births and deaths.\n",
    "We import the relevant modules and then define our transitions:"
   ]
  },
  {
   "cell_type": "markdown",
   "id": "60510dec",
   "metadata": {},
   "source": [
    "# Defining with pygom\n",
    "\n",
    "Depends on if you want to solve ODE's. Indeed PyGOM can be used for non-ode systems.\n",
    "\n",
    "## Simple SIR\n",
    "\n",
    "By the book we should do:"
   ]
  },
  {
   "cell_type": "code",
   "execution_count": null,
   "id": "5a4393cc",
   "metadata": {},
   "outputs": [],
   "source": [
    "from pygom import Event, Transition, SimulateOde\n",
    "\n",
    "#TODO: Birth/Death/Between is now obvious from origin/destination\n",
    "\n",
    "# 1) Infection\n",
    "## Transition\n",
    "transition_infection=Transition(origin='S', destination='I', transition_type='T', magnitude='1')\n",
    "## Event\n",
    "event_infection=Event(transition_list=[transition_infection],\n",
    "                      rate='beta*S*I/N')\n",
    "\n",
    "# 2) Recovery\n",
    "## Transition\n",
    "transition_recovery=Transition(origin='I', destination='R', transition_type='T', magnitude='1')\n",
    "## Event\n",
    "event_recovery=Event(transition_list=transition_recovery,\n",
    "                     rate='gamma*I')\n",
    "\n",
    "# We specify states and parameters\n",
    "params=['beta', 'gamma', 'N']\n",
    "states=[('S', (0, None)), ('I', (0, None)), ('R', (0, None))]\n",
    "\n",
    "model=SimulateOde(state=states, param=params, event=[event_infection, event_recovery])\n",
    "\n",
    "model.get_ode_eqn()"
   ]
  },
  {
   "cell_type": "markdown",
   "id": "2797d647",
   "metadata": {},
   "source": [
    "Since it is fairly common to have change $\\pm 1$ and only one transition involved in an Event\n",
    "\n",
    "We can actually get away with:"
   ]
  },
  {
   "cell_type": "code",
   "execution_count": null,
   "id": "0a6854a9",
   "metadata": {},
   "outputs": [],
   "source": [
    "transition_infection=Transition(origin='S', destination='I', transition_type='T', equation='beta*S*I/N')\n",
    "transition_recovery=Transition(origin='I', destination='R', transition_type='T', equation='gamma*I')\n",
    "\n",
    "# We specify states and parameters\n",
    "params=['beta', 'gamma', 'N']\n",
    "states=[('S', (0, None)), ('I', (0, None)), ('R', (0, None))]\n",
    "\n",
    "model=SimulateOde(state=states, param=params, event=[transition_infection, transition_recovery])\n",
    "\n",
    "model.get_ode_eqn()"
   ]
  },
  {
   "cell_type": "code",
   "execution_count": 1,
   "id": "4c80a36a",
   "metadata": {},
   "outputs": [],
   "source": [
    "from pygom import Transition, TransitionType\n",
    "\n",
    "# Define SIR model through a list of ODEs\n",
    "# odeList = [\n",
    "#     Transition(transition_type=TransitionType.ODE, origin='S', equation='-beta*S*I/N + mu*N - mu*S'),\n",
    "#     Transition(transition_type=TransitionType.ODE, origin='I', equation='beta*S*I/N - gamma*I - mu*I'),\n",
    "#     Transition(transition_type=TransitionType.ODE, origin='R', equation='gamma*I- mu*I') \n",
    "# ]\n",
    "\n",
    "odeList = [\n",
    "    Transition(transition_type=TransitionType.ODE, origin='S', equation='-beta*S*I/N'),\n",
    "    Transition(transition_type=TransitionType.ODE, origin='I', equation='beta*S*I/N - gamma*I'),\n",
    "    Transition(transition_type=TransitionType.ODE, origin='R', equation='gamma*I'),\n",
    "    Transition(transition_type=TransitionType.ODE, origin='E', equation='-ci*beta*S*I/N') \n",
    "]\n",
    "\n",
    "# Define SIR model through a list of transitions\n",
    "transList = [\n",
    "    Transition(transition_type=TransitionType.T, origin='S', destination='I', equation='beta*S*I/N', secondary_effects=[('E', '-ci')]),\n",
    "    Transition(transition_type=TransitionType.T, origin='I', destination='R', equation='gamma*I')\n",
    "]"
   ]
  },
  {
   "cell_type": "markdown",
   "id": "bc7ee766",
   "metadata": {},
   "source": [
    "We now initialise two {class}`.SimulateOde` objects using these different approaches.\n",
    "In addition to the ODE or transition information, we must specify which variables are parameters and which refer to states:"
   ]
  },
  {
   "cell_type": "code",
   "execution_count": 2,
   "id": "511317c9",
   "metadata": {},
   "outputs": [],
   "source": [
    "stateList = ['S', 'I', 'R', 'E']\n",
    "paramList = ['beta', 'gamma', 'N', 'ci']"
   ]
  },
  {
   "cell_type": "markdown",
   "id": "b6a2bec7",
   "metadata": {},
   "source": [
    "We import the relevant module and define the model in two different ways:"
   ]
  },
  {
   "cell_type": "code",
   "execution_count": 3,
   "id": "aceb211a",
   "metadata": {},
   "outputs": [],
   "source": [
    "from pygom import SimulateOde\n",
    "model_ode = SimulateOde(state=stateList, param=paramList, ode=odeList)           # model defined via equations\n",
    "model_tra = SimulateOde(state=stateList, param=paramList, transition=transList)  # model defined via transitions"
   ]
  },
  {
   "cell_type": "markdown",
   "id": "8e38d76b",
   "metadata": {},
   "source": [
    "We can use the {func}`.get_ode_eqn` function to verify that the models are equivalent:"
   ]
  },
  {
   "cell_type": "code",
   "execution_count": 4,
   "id": "d0fb6c20",
   "metadata": {},
   "outputs": [
    {
     "data": {
      "text/latex": [
       "$\\displaystyle \\left[\\begin{matrix}- \\frac{I S \\beta}{N}\\\\- I \\gamma + \\frac{I S \\beta}{N}\\\\I \\gamma\\\\- \\frac{I S \\beta ci}{N}\\end{matrix}\\right]$"
      ],
      "text/plain": [
       "Matrix([\n",
       "[          -I*S*beta/N],\n",
       "[-I*gamma + I*S*beta/N],\n",
       "[              I*gamma],\n",
       "[       -I*S*beta*ci/N]])"
      ]
     },
     "execution_count": 4,
     "metadata": {},
     "output_type": "execute_result"
    }
   ],
   "source": [
    "model_ode.get_ode_eqn()"
   ]
  },
  {
   "cell_type": "code",
   "execution_count": 5,
   "id": "4e8ec9a3",
   "metadata": {},
   "outputs": [
    {
     "data": {
      "text/latex": [
       "$\\displaystyle \\left[\\begin{matrix}- \\frac{I S \\beta}{N}\\\\- I \\gamma + \\frac{I S \\beta}{N}\\\\I \\gamma\\\\- \\frac{I S \\beta ci}{N}\\end{matrix}\\right]$"
      ],
      "text/plain": [
       "Matrix([\n",
       "[          -I*S*beta/N],\n",
       "[-I*gamma + I*S*beta/N],\n",
       "[              I*gamma],\n",
       "[       -I*S*beta*ci/N]])"
      ]
     },
     "execution_count": 5,
     "metadata": {},
     "output_type": "execute_result"
    }
   ],
   "source": [
    "model_tra.get_ode_eqn()"
   ]
  },
  {
   "cell_type": "markdown",
   "id": "205dec3d",
   "metadata": {},
   "source": [
    "## Modifying models\n",
    "\n",
    "Once an instance of {class}`.SimulateOde` has been defined it may be modified.\n",
    "For example, let's now add birth and death processes to the the previously defined SIR model of `model_ode`.\n",
    "We must update the parameters of the class to reflect any additions:"
   ]
  },
  {
   "cell_type": "code",
   "execution_count": 6,
   "id": "0923151d",
   "metadata": {},
   "outputs": [],
   "source": [
    "model_tra.param_list = model_tra.param_list + ['mu', 'cb']"
   ]
  },
  {
   "cell_type": "markdown",
   "id": "f9236e77",
   "metadata": {},
   "source": [
    "We then include the additional processes, where we assume that all new births enter the population as susceptibles:"
   ]
  },
  {
   "cell_type": "code",
   "execution_count": 7,
   "id": "9b1546f8",
   "metadata": {},
   "outputs": [],
   "source": [
    "birthDeathList = [Transition(origin='S', equation='mu*N', transition_type=TransitionType.B, secondary_effects=[('E', 'cb')]),  \n",
    "                  Transition(origin='S', equation='mu*S', transition_type=TransitionType.D), \n",
    "                  Transition(origin='I', equation='mu*I', transition_type=TransitionType.D), \n",
    "                  Transition(origin='R', equation='mu*R', transition_type=TransitionType.D)]\n",
    "\n",
    "model_tra.birth_death_list = birthDeathList"
   ]
  },
  {
   "cell_type": "markdown",
   "id": "3685b2e1",
   "metadata": {},
   "source": [
    "We can again use {func}`.get_ode_eqn` to verify that the equations are updated correctly:"
   ]
  },
  {
   "cell_type": "code",
   "execution_count": 9,
   "id": "6cc2ba1a",
   "metadata": {},
   "outputs": [
    {
     "data": {
      "text/latex": [
       "$\\displaystyle \\left[\\begin{matrix}- \\frac{I S \\beta}{N} + N \\mu - S \\mu\\\\- I \\gamma - I \\mu + \\frac{I S \\beta}{N}\\\\I \\gamma - R \\mu\\\\- \\frac{I S \\beta ci}{N}\\end{matrix}\\right]$"
      ],
      "text/plain": [
       "Matrix([\n",
       "[   -I*S*beta/N + N*mu - S*mu],\n",
       "[-I*gamma - I*mu + I*S*beta/N],\n",
       "[              I*gamma - R*mu],\n",
       "[              -I*S*beta*ci/N]])"
      ]
     },
     "execution_count": 9,
     "metadata": {},
     "output_type": "execute_result"
    }
   ],
   "source": [
    "model_tra.get_ode_eqn()"
   ]
  },
  {
   "cell_type": "code",
   "execution_count": null,
   "id": "357e133e",
   "metadata": {},
   "outputs": [],
   "source": [
    "class Transition:\n",
    "    rate='beta*S*I'\n",
    "    type='Transition'\n",
    "    origin='S'\n",
    "    destination='I'\n",
    "    secondary_effects=[('I_tot', '1'), ('B', 'i_cost')]\n",
    "\n",
    "\n",
    "\n",
    "\n",
    "class Transition:\n",
    "    type='Transition'\n",
    "    origin='S'\n",
    "    destination='I'\n",
    "\n",
    "class Transition:\n",
    "    type='birth'\n",
    "    destination='I_tot'\n",
    "    change='1'\n",
    "\n",
    "class Transition:\n",
    "    type='death'\n",
    "    origin='B'\n",
    "    change='i_cost'\n",
    "\n",
    "class Event:\n",
    "    rate='beta*S*I'\n",
    "    transitions=[T1, T2, T3]"
   ]
  }
 ],
 "metadata": {
  "kernelspec": {
   "display_name": "pygom",
   "language": "python",
   "name": "python3"
  },
  "language_info": {
   "codemirror_mode": {
    "name": "ipython",
    "version": 3
   },
   "file_extension": ".py",
   "mimetype": "text/x-python",
   "name": "python",
   "nbconvert_exporter": "python",
   "pygments_lexer": "ipython3",
   "version": "3.11.10"
  }
 },
 "nbformat": 4,
 "nbformat_minor": 5
}
