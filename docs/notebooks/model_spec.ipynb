{
 "cells": [
  {
   "cell_type": "markdown",
   "id": "5d9ccebd",
   "metadata": {},
   "source": [
    "# Defining an ODE system\n",
    "\n",
    "There are 2 ways to encapsulate an ODE system.\n",
    "\n",
    "We first demonstrate how to encapsulate the relevant equations in a class which will eventually be used to solve them.\n",
    "\n",
    "One useful feature of PyGom is the ability to define the system in a variety of intuitive ways.\n",
    "\n",
    "In compartmental models, where the states represent counts of certain categories, the changes in these quantities\n",
    "\n",
    "## Example: SIR model\n",
    "\n",
    "Here we use a Susceptible-Infected-Removed epidemic model (an SIR model, for short) to demonstrate the different ways to specify a system.\n",
    "The rates of change of each compartment are defined by the following equations\n",
    "\n",
    "$$\\begin{aligned}\n",
    "\\frac{\\mathrm{d} S}{\\mathrm{d} t} &= -\\beta SI \\\\\n",
    "\\frac{\\mathrm{d} I}{\\mathrm{d} t} &= \\beta SI- \\gamma I \\\\\n",
    "\\frac{\\mathrm{d} R}{\\mathrm{d} t} &= \\gamma I.\n",
    "\\end{aligned}$$\n",
    "\n",
    "However, it is also true that this is the result of two transitions:\n",
    "\n",
    "$$\\begin{aligned}\n",
    "S \\rightarrow I &= \\beta SI \\\\\n",
    "I \\rightarrow R &= \\gamma I\n",
    "\\end{aligned}$$\n",
    "\n",
    "\n",
    "We can set this up as follows:"
   ]
  },
  {
   "cell_type": "markdown",
   "id": "586834ab",
   "metadata": {},
   "source": [
    "1. Import the classes required to define the transitions"
   ]
  },
  {
   "cell_type": "code",
   "execution_count": null,
   "id": "4c80a36a",
   "metadata": {},
   "outputs": [],
   "source": [
    "from pygom import Transition, TransitionType"
   ]
  },
  {
   "cell_type": "markdown",
   "id": "0ec4c9d0",
   "metadata": {},
   "source": [
    "2. Define our states, in this case the population states of **S**usceptible, **I**nfected and **R**emoved"
   ]
  },
  {
   "cell_type": "code",
   "execution_count": null,
   "id": "3ce016f2",
   "metadata": {},
   "outputs": [],
   "source": [
    "stateList = ['S', 'I', 'R']"
   ]
  },
  {
   "cell_type": "markdown",
   "id": "021a1927",
   "metadata": {},
   "source": [
    "3. Define the set of parameters for our model"
   ]
  },
  {
   "cell_type": "code",
   "execution_count": null,
   "id": "441e2287",
   "metadata": {},
   "outputs": [],
   "source": [
    "paramList = ['beta', 'gamma']"
   ]
  },
  {
   "cell_type": "markdown",
   "id": "dfd736b2",
   "metadata": {},
   "source": [
    "4. \n",
    "  i. Specify the transitions of the modelled states; this will form our ODE system"
   ]
  },
  {
   "cell_type": "code",
   "execution_count": null,
   "id": "b5f80ab0",
   "metadata": {},
   "outputs": [],
   "source": [
    "odeList = [\n",
    "    Transition(origin='S', equation='-beta*S*I', transition_type=TransitionType.ODE),\n",
    "    Transition(origin='I',equation='beta*S*I - gamma*I', transition_type=TransitionType.ODE),\n",
    "    Transition(origin='R', equation='gamma*I', transition_type=TransitionType.ODE) \n",
    "]"
   ]
  },
  {
   "cell_type": "markdown",
   "id": "18c7fbac",
   "metadata": {},
   "source": [
    "ii. Specify the transitions of the modelled states; this will form our ODE system"
   ]
  },
  {
   "cell_type": "code",
   "execution_count": null,
   "id": "a2761de1",
   "metadata": {},
   "outputs": [],
   "source": [
    "odeList2 = [\n",
    "    Transition(origin='S', destination='I', equation='beta*S*I', transition_type=TransitionType.T),\n",
    "    Transition(origin='I', destination='R', equation='gamma*I', transition_type=TransitionType.T)\n",
    "]"
   ]
  },
  {
   "cell_type": "markdown",
   "id": "21629e7b",
   "metadata": {},
   "source": [
    "```{note}\n",
    "Here, we have invoked a class from {class}`.Transition` to define the ODE object. We proceed here and ignore the details for now. The details of defining a transition object will be covered later in {doc}`transition`. Both the set of states and parameters should be defined when constructing the object, even though not explicitly enforced, to help clarify what we are trying to model. Similarly, this holds for the rest, such as the derived parameters and transitions, where we force the end user to input the different type of transition/process via the correct argument. See {ref}`transition:defining-the-equations` for an example when the input is wrong.\n",
    "```"
   ]
  }
 ],
 "metadata": {
  "kernelspec": {
   "display_name": "Python 3.9.15 ('sphinx-doc')",
   "language": "python",
   "name": "python3"
  },
  "language_info": {
   "codemirror_mode": {
    "name": "ipython",
    "version": 3
   },
   "file_extension": ".py",
   "mimetype": "text/x-python",
   "name": "python",
   "nbconvert_exporter": "python",
   "pygments_lexer": "ipython3",
   "version": "3.9.15"
  },
  "vscode": {
   "interpreter": {
    "hash": "4dc1e323c80fe09539c74ad5c5a7c7d8d9ff99e04f7b3dbd3680daf878629d6e"
   }
  }
 },
 "nbformat": 4,
 "nbformat_minor": 5
}
