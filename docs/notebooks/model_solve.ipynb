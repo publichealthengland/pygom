{
 "cells": [
  {
   "cell_type": "code",
   "execution_count": null,
   "id": "06b092c7",
   "metadata": {},
   "outputs": [],
   "source": [
    "from pygom import DeterministicOde"
   ]
  },
  {
   "cell_type": "markdown",
   "id": "46f1fc79",
   "metadata": {},
   "source": [
    "6. And then initialize the model, which constructs our ODE system from all the information we have provided"
   ]
  },
  {
   "cell_type": "code",
   "execution_count": null,
   "id": "d2d00708",
   "metadata": {},
   "outputs": [],
   "source": [
    "model = DeterministicOde(stateList, paramList, ode=odeList)"
   ]
  },
  {
   "cell_type": "markdown",
   "id": "db3a166f",
   "metadata": {},
   "source": [
    "That is all the information required to define a simple SIR model. We can verify the model using"
   ]
  },
  {
   "cell_type": "code",
   "execution_count": null,
   "id": "39171530",
   "metadata": {},
   "outputs": [],
   "source": [
    "model.get_ode_eqn()"
   ]
  },
  {
   "cell_type": "markdown",
   "id": "bc3f2c5c",
   "metadata": {},
   "source": [
    "where we can see the equations corresponding to their respective $S,I$ and $R$ state. "
   ]
  },
  {
   "cell_type": "markdown",
   "id": "ff37e8ad",
   "metadata": {},
   "source": [
    "```{note}\n",
    "The ordering of the equations is in the standard $S,I,R$ sequence because of how we defined the states initially. \n",
    "```"
   ]
  },
  {
   "cell_type": "markdown",
   "id": "574a50f3",
   "metadata": {},
   "source": [
    "We can rearrange the state list,"
   ]
  },
  {
   "cell_type": "code",
   "execution_count": null,
   "id": "11304d48",
   "metadata": {},
   "outputs": [],
   "source": [
    "# now we are going to define in a different order. note that the output ode changed with the input state\n",
    "stateList = ['R', 'S', 'I']\n",
    "\n",
    "model = DeterministicOde(stateList, paramList, ode=odeList)\n",
    "\n",
    "model.get_ode_eqn()\n"
   ]
  },
  {
   "cell_type": "markdown",
   "id": "ed5aa20f",
   "metadata": {},
   "source": [
    "and find that the set of ODEs comes out in the order that we specified. "
   ]
  },
  {
   "cell_type": "markdown",
   "id": "0d06bdf9",
   "metadata": {},
   "source": [
    "```{tip}\n",
    "In addition to showing the equation form of the ODEs, we can also display them as either symbols or latex code, which can save some extra typing when porting the equations to another document.\n",
    "```"
   ]
  },
  {
   "cell_type": "code",
   "execution_count": null,
   "id": "83ea4dcb",
   "metadata": {},
   "outputs": [],
   "source": [
    "model.print_ode()"
   ]
  },
  {
   "cell_type": "code",
   "execution_count": null,
   "id": "6c05b408",
   "metadata": {},
   "outputs": [],
   "source": [
    "model.print_ode(True)"
   ]
  },
  {
   "cell_type": "markdown",
   "id": "3e7b28f3",
   "metadata": {},
   "source": [
    "Here the SIR model was provided to PyGOM as a set ODEs by using the {class}`.Transition` to define them.  \n",
    "We have also provided the capability to obtain a *best guess* transition matrix when only the ODEs are available. See the section {doc}`unrollOde` for more information, and in particular {doc}`unrollSimple` for the continuing demonstration of the SIR model."
   ]
  },
  {
   "cell_type": "markdown",
   "id": "bdcecb64",
   "metadata": {},
   "source": [
    "## Extracting model information\n",
    "\n",
    "We may wish to determine if the set of ODEs are linear. "
   ]
  },
  {
   "cell_type": "code",
   "execution_count": null,
   "id": "472627da",
   "metadata": {},
   "outputs": [],
   "source": [
    "model.linear_ode()"
   ]
  },
  {
   "cell_type": "markdown",
   "id": "0c24bd4d",
   "metadata": {},
   "source": [
    "Since we know that the SIR model is not linear, we may want to have a look at the Jacobian.\n"
   ]
  },
  {
   "cell_type": "code",
   "execution_count": null,
   "id": "281970f1",
   "metadata": {},
   "outputs": [],
   "source": [
    "model.get_jacobian_eqn()"
   ]
  },
  {
   "cell_type": "markdown",
   "id": "189c4547",
   "metadata": {},
   "source": [
    "Or maybe we want to know the gradient."
   ]
  },
  {
   "cell_type": "code",
   "execution_count": null,
   "id": "e5440ae5",
   "metadata": {},
   "outputs": [],
   "source": [
    "model.get_grad_eqn()"
   ]
  },
  {
   "cell_type": "markdown",
   "id": "5971ef84",
   "metadata": {},
   "source": [
    "```{Warning}\n",
    "Invoking the functions that compute the derivatives, $f(x)$, `model.ode()` or `model.jacobian()`, will return an error\n",
    "\n",
    "These functions are used to solve the ODEs numerically, and require values of initial state values, time, and parameter values.\n",
    "```"
   ]
  },
  {
   "cell_type": "markdown",
   "id": "2d52e99d",
   "metadata": {},
   "source": [
    "For setting initial conditions, the numeric values of the states **must** be set in the same order that list of states appear. We can use the following to check the state ordering, as well as displaying all of the states that we have included."
   ]
  },
  {
   "cell_type": "code",
   "execution_count": null,
   "id": "fbf0da5a",
   "metadata": {},
   "outputs": [],
   "source": [
    "model.state_list"
   ]
  },
  {
   "cell_type": "markdown",
   "id": "32ce2410",
   "metadata": {},
   "source": [
    "#TODO unsure if this is needed\n",
    "\n",
    "There is currently no mechanism to set the numeric initial conditions the states when the states are defined. This is because of an implementation issue with external package, such as solving an initial value problem."
   ]
  },
  {
   "cell_type": "markdown",
   "id": "7b7f8220",
   "metadata": {},
   "source": [
    "## Initial value problem\n",
    "\n",
    "By setting the state initial conditions, time, and parameters, we can evaluate our model."
   ]
  },
  {
   "cell_type": "markdown",
   "id": "f6f00b34",
   "metadata": {},
   "source": [
    "1. Define the model parameters. (We can call the parameters to check what we must provide.)"
   ]
  },
  {
   "cell_type": "code",
   "execution_count": null,
   "id": "c163aa2f",
   "metadata": {},
   "outputs": [],
   "source": [
    "model.parameters"
   ]
  },
  {
   "cell_type": "code",
   "execution_count": null,
   "id": "696476fb",
   "metadata": {},
   "outputs": [],
   "source": [
    "paramEval = [('beta',0.5), ('gamma',1.0/3.0)]\n",
    "\n",
    "model.parameters = paramEval\n",
    "\n",
    "model.parameters"
   ]
  },
  {
   "cell_type": "markdown",
   "id": "e80ac7f8",
   "metadata": {},
   "source": [
    "2. Provide initial conditions for the states."
   ]
  },
  {
   "cell_type": "code",
   "execution_count": null,
   "id": "2b45e43c",
   "metadata": {},
   "outputs": [],
   "source": [
    "initialState = [0, 1, 1.27e-6]\n",
    "    \n",
    "model.ode(state=initialState, t=1)"
   ]
  },
  {
   "cell_type": "markdown",
   "id": "105524d4",
   "metadata": {},
   "source": [
    "\n",
    "3. Implement an ODE solver.\n",
    "\n",
    "We are well equipped to solve an initial value problem, using the standard numerical integrator such as `odeint <scipy.integrate.odeint>` from `scipy.integrate`. We also used `matplotlib.pyplot` for plotting and `linspace <numpy.linspace>` to create the time vector."
   ]
  },
  {
   "cell_type": "code",
   "execution_count": null,
   "id": "6c9e662c",
   "metadata": {},
   "outputs": [],
   "source": [
    "import scipy.integrate\n",
    "import numpy\n",
    "\n",
    "t = numpy.linspace(0, 150, 100)\n",
    "\n",
    "solution = scipy.integrate.odeint(model.ode, initialState, t)"
   ]
  },
  {
   "cell_type": "markdown",
   "id": "75ccb76e",
   "metadata": {},
   "source": [
    "We can plot our solution to observe a standard SIR shape."
   ]
  },
  {
   "cell_type": "code",
   "execution_count": null,
   "id": "5badfc50",
   "metadata": {},
   "outputs": [],
   "source": [
    "import matplotlib.pyplot as plt\n",
    "\n",
    "plt.figure()\n",
    "\n",
    "plt.plot(t, solution[:,0], label='R')\n",
    "\n",
    "plt.plot(t, solution[:,1], label='S')\n",
    "\n",
    "plt.plot(t, solution[:,2], label='I')\n",
    "\n",
    "plt.xlabel('Time')\n",
    "\n",
    "plt.ylabel('Population proportion')\n",
    "\n",
    "plt.title('Standard SIR model')\n",
    "\n",
    "plt.legend(loc=0)\n",
    "\n",
    "#@savefig sir_plot.png In \n",
    "\n",
    "plt.show()\n",
    "\n",
    "#plt.close()\n"
   ]
  },
  {
   "cell_type": "markdown",
   "id": "2caa261e",
   "metadata": {},
   "source": [
    "Alternatively, we can integrate and plot via the **ode** object which we initialized earlier."
   ]
  },
  {
   "cell_type": "code",
   "execution_count": null,
   "id": "b71d2931",
   "metadata": {},
   "outputs": [],
   "source": [
    "model.initial_values = (initialState, t[0])\n",
    "\n",
    "model.parameters = paramEval\n",
    "\n",
    "solution = model.integrate(t[1::])\n",
    "\n",
    "model.plot()"
   ]
  },
  {
   "cell_type": "markdown",
   "id": "58b41bf9",
   "metadata": {},
   "source": [
    "We could solve the ODEs above using the Jacobian as well. Unfortunately, it does not help because the number of times the Jacobian was evaluated was zero, as expected given that our set of equations are not stiff."
   ]
  },
  {
   "cell_type": "code",
   "execution_count": null,
   "id": "e887ac3e",
   "metadata": {},
   "outputs": [],
   "source": [
    "#TODO what does this show?\n",
    "%timeit solution1, output1 = scipy.integrate.odeint(model.ode, initialState, t, full_output=True)\n"
   ]
  },
  {
   "cell_type": "code",
   "execution_count": null,
   "id": "5d3c7ddd",
   "metadata": {},
   "outputs": [],
   "source": [
    "\n",
    "%timeit solution2, output2 = scipy.integrate.odeint(model.ode, initialState, t, Dfun=model.jacobian, mu=None, ml=None, full_output=True)\n"
   ]
  },
  {
   "cell_type": "code",
   "execution_count": null,
   "id": "2de91b9e",
   "metadata": {},
   "outputs": [],
   "source": [
    "\n",
    "%timeit solution3, output3 = model.integrate(t, full_output=True)"
   ]
  },
  {
   "cell_type": "markdown",
   "id": "f4707964",
   "metadata": {},
   "source": [
    "It is important to note that we return our Jacobian as a dense square matrix. Hence, the two argument (mu,ml) for the ODE solver was set to `None` to let it know the output explicitly."
   ]
  },
  {
   "cell_type": "markdown",
   "id": "a0e384cc",
   "metadata": {},
   "source": [
    "## Solving the forward sensitivity equation\n",
    "\n",
    "The sensitivity equations are also solved as an initial value problem. Let us redefine the model in the standard SIR order and we solve it with the sensitivity all set at zero, i.e. we do not wish to infer the initial value of the states."
   ]
  },
  {
   "cell_type": "code",
   "execution_count": null,
   "id": "5b637cee",
   "metadata": {},
   "outputs": [],
   "source": [
    "stateList = ['S', 'I', 'R']\n",
    "\n",
    "model = DeterministicOde(stateList, paramList, ode=odeList)\n",
    "\n",
    "initialState = [1, 1.27e-6, 0]\n",
    "\n",
    "paramEval = [('beta', 0.5), ('gamma', 1.0/3.0)]\n",
    "\n",
    "model.parameters = paramEval\n",
    "\n",
    "solution = scipy.integrate.odeint(model.ode_and_sensitivity, numpy.append(initialState, numpy.zeros(6)), t)"
   ]
  },
  {
   "cell_type": "code",
   "execution_count": null,
   "id": "8b63ba62",
   "metadata": {
    "tags": [
     "hide-output"
    ]
   },
   "outputs": [],
   "source": [
    "{\n",
    "    \"tags\": [\n",
    "        \"hide-input\",\n",
    "    ]\n",
    "}\n",
    "f,axarr = plt.subplots(3,3);\n",
    "\n",
    "f.text(0.5,0.975,'SIR with forward sensitivity solved via ode',fontsize=16,horizontalalignment='center',verticalalignment='top')\n",
    "\n",
    "axarr[0,0].plot(t, solution[:,0])\n",
    "\n",
    "axarr[0,0].set_title('S')\n",
    "\n",
    "axarr[0,1].plot(t, solution[:,1])\n",
    "\n",
    "axarr[0,1].set_title('I')\n",
    "\n",
    "axarr[0,2].plot(t, solution[:,2]);\n",
    "\n",
    "axarr[0,2].set_title('R')\n",
    "\n",
    "axarr[1,0].plot(t, solution[:,3])\n",
    "\n",
    "axarr[1,0].set_title(r'state S parameter $beta$')\n",
    "\n",
    "axarr[2,0].plot(t, solution[:,4])\n",
    "\n",
    "axarr[2,0].set_title(r'state S parameter $gamma$')\n",
    "\n",
    "axarr[1,1].plot(t, solution[:,5])\n",
    "\n",
    "axarr[1,1].set_title(r'state I parameter $beta$')\n",
    "\n",
    "axarr[2,1].plot(t, solution[:,6])\n",
    "\n",
    "axarr[2,1].set_title(r'state I parameter $gamma$')\n",
    "\n",
    "axarr[1,2].plot(t, solution[:,7])\n",
    "\n",
    "axarr[1,2].set_title(r'state R parameter $beta$')\n",
    "\n",
    "axarr[2,2].plot(t, solution[:,8])\n",
    "\n",
    "axarr[2,2].set_title(r'state R parameter $gamma$')\n",
    "\n",
    "plt.tight_layout()\n",
    "\n",
    "plt.show()"
   ]
  },
  {
   "cell_type": "markdown",
   "id": "2f64d869",
   "metadata": {},
   "source": [
    "This concludes the introductory example and we will be moving on to look at parameter estimation next in {doc}`estimate1` and the most important part in terms of setting up the ODE object; defining the equations in various different ways in {doc}`transition`."
   ]
  }
 ],
 "metadata": {
  "kernelspec": {
   "display_name": "Python 3.9.15 ('sphinx-doc')",
   "language": "python",
   "name": "python3"
  },
  "language_info": {
   "codemirror_mode": {
    "name": "ipython",
    "version": 3
   },
   "file_extension": ".py",
   "mimetype": "text/x-python",
   "name": "python",
   "nbconvert_exporter": "python",
   "pygments_lexer": "ipython3",
   "version": "3.9.15"
  },
  "vscode": {
   "interpreter": {
    "hash": "4dc1e323c80fe09539c74ad5c5a7c7d8d9ff99e04f7b3dbd3680daf878629d6e"
   }
  }
 },
 "nbformat": 4,
 "nbformat_minor": 5
}
