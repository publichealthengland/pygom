{
 "cells": [
  {
   "cell_type": "markdown",
   "id": "e69f436b",
   "metadata": {},
   "source": [
    "# Extracting model information\n",
    "\n",
    "In the study of ODE systems, there are many calculations which are commonly performed and PyGOM has some functionality to make these easier.\n",
    "We will again use the SIR model (REF) as our model system, but this time we will make use of the common_models feature, where many predefined models are stored.\n",
    "This means we can avoid having to define the model from scratch again."
   ]
  },
  {
   "cell_type": "code",
   "execution_count": 1,
   "id": "d499587e",
   "metadata": {},
   "outputs": [],
   "source": [
    "from pygom import common_models\n",
    "ode = common_models.SIR_N_stochastic()"
   ]
  },
  {
   "cell_type": "markdown",
   "id": "5defac16",
   "metadata": {},
   "source": [
    "## Verification\n",
    "\n",
    "As seen previously, the `get_ode_eqn` function allows us to check our system of ODEs."
   ]
  },
  {
   "cell_type": "code",
   "execution_count": null,
   "id": "5a2be3c1",
   "metadata": {},
   "outputs": [],
   "source": [
    "ode.get_ode_eqn()"
   ]
  },
  {
   "cell_type": "markdown",
   "id": "d9f4249d",
   "metadata": {},
   "source": [
    "```{tip}\n",
    "In addition to showing the equation form of the ODEs, we can also display them as either symbols or latex code, which can save some extra typing when porting the equations to another document.```"
   ]
  },
  {
   "cell_type": "code",
   "execution_count": null,
   "id": "2089ef15",
   "metadata": {},
   "outputs": [],
   "source": [
    "ode.print_ode()\n",
    "ode.print_ode(True)"
   ]
  },
  {
   "cell_type": "markdown",
   "id": "d9d71015",
   "metadata": {},
   "source": [
    "We can also check in terms of transitions"
   ]
  },
  {
   "cell_type": "code",
   "execution_count": null,
   "id": "0ea90388",
   "metadata": {},
   "outputs": [],
   "source": [
    "ode.get_transition_matrix()"
   ]
  },
  {
   "cell_type": "markdown",
   "id": "9c7b5c60",
   "metadata": {},
   "source": [
    "And even inspect the transition diagram"
   ]
  },
  {
   "cell_type": "code",
   "execution_count": null,
   "id": "e04194ea",
   "metadata": {},
   "outputs": [],
   "source": [
    "ode.get_transition_graph();"
   ]
  },
  {
   "cell_type": "markdown",
   "id": "f77cfefa",
   "metadata": {},
   "source": [
    "## Algebraic insights\n",
    "\n",
    "We briefly outline some of the algebraic results which can be quickly accessed by PyGOM.\n",
    "\n",
    "Firstly, we can check if our system is linear"
   ]
  },
  {
   "cell_type": "code",
   "execution_count": null,
   "id": "1d55ef11",
   "metadata": {},
   "outputs": [],
   "source": [
    "ode.linear_ode()"
   ]
  },
  {
   "cell_type": "markdown",
   "id": "c3fa0e62",
   "metadata": {},
   "source": [
    "For stability analysis and speeding up numerical integrators, it may be useful to know the Jacobian, Hessian or gradient"
   ]
  },
  {
   "cell_type": "code",
   "execution_count": null,
   "id": "9c6ec971",
   "metadata": {},
   "outputs": [],
   "source": [
    "ode.get_jacobian_eqn()"
   ]
  },
  {
   "cell_type": "code",
   "execution_count": null,
   "id": "0a8b4ff6",
   "metadata": {},
   "outputs": [],
   "source": [
    "ode.get_hessian_eqn()"
   ]
  },
  {
   "cell_type": "code",
   "execution_count": null,
   "id": "5e1c7dfb",
   "metadata": {},
   "outputs": [],
   "source": [
    "ode.get_grad_eqn()"
   ]
  },
  {
   "cell_type": "markdown",
   "id": "3f572e7c",
   "metadata": {},
   "source": [
    "## Epidemiology specific insights\n",
    "\n",
    "The {func}`.R0` function may be used to obtain the basic reproduction number $R_{0}$.\n",
    "We must specify which state represents the *disease state*, which in this case is the state **I**.\n",
    "#TODO is this the disease state, or the infectious state?"
   ]
  },
  {
   "cell_type": "code",
   "execution_count": 2,
   "id": "b6eeb070",
   "metadata": {},
   "outputs": [
    {
     "name": "stdout",
     "output_type": "stream",
     "text": [
      "Matrix([[S*beta/N]])\n",
      "Matrix([[gamma]])\n",
      "[S*beta/(N*gamma)]\n",
      "{S: 0, R: 0}\n",
      "[0]\n",
      "[0]\n"
     ]
    }
   ],
   "source": [
    "from pygom.model.epi_analysis import *\n",
    "\n",
    "R_0=R0(ode, 'I')\n",
    "print(R_0)"
   ]
  },
  {
   "cell_type": "markdown",
   "id": "290ce7ec",
   "metadata": {},
   "source": [
    "We may also wish to get the $R_{0}$ in pure algebraic terms.\n",
    "This can be achieved by the following few lines of code. Note that the result below is slightly different from the one above.\n",
    "The difference is due to the internal working of the functions, where {func}`.getR0` computes the disease-free equilibrium value for the states and substitutes them back into the equation."
   ]
  },
  {
   "cell_type": "code",
   "execution_count": null,
   "id": "d099d92b",
   "metadata": {},
   "outputs": [],
   "source": [
    "F, V = disease_progression_matrices(ode, 'I')\n",
    "\n",
    "e = R0_from_matrix(F, V)\n",
    "print(e)"
   ]
  },
  {
   "cell_type": "markdown",
   "id": "94980c72",
   "metadata": {},
   "source": [
    "To replicate the output before, we have to find the values where the\n",
    "disease-free equilibrium will be achieved. Substitution can then be\n",
    "performed to retrieve $R_{0}$ in pure parameters."
   ]
  },
  {
   "cell_type": "code",
   "execution_count": null,
   "id": "68ea8f68",
   "metadata": {},
   "outputs": [],
   "source": [
    "dfe = DFE(ode, ['I'])\n",
    "\n",
    "print(dfe)\n",
    "print(e[0].subs(dfe))"
   ]
  }
 ],
 "metadata": {
  "kernelspec": {
   "display_name": "Python 3.9.15 ('sphinx-doc')",
   "language": "python",
   "name": "python3"
  },
  "language_info": {
   "codemirror_mode": {
    "name": "ipython",
    "version": 3
   },
   "file_extension": ".py",
   "mimetype": "text/x-python",
   "name": "python",
   "nbconvert_exporter": "python",
   "pygments_lexer": "ipython3",
   "version": "3.9.19"
  },
  "vscode": {
   "interpreter": {
    "hash": "4dc1e323c80fe09539c74ad5c5a7c7d8d9ff99e04f7b3dbd3680daf878629d6e"
   }
  }
 },
 "nbformat": 4,
 "nbformat_minor": 5
}
