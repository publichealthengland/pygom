{
 "cells": [
  {
   "cell_type": "markdown",
   "metadata": {},
   "source": [
    "# SIS\n",
    "{func}`.SIS`\n",
    "\n",
    "A standard SIS model without the total population $N$. We assume here\n",
    "that $S + I = N$ so we can always normalize to 1. The state\n",
    "$S$ is not required for understanding the model because it is a\n",
    "deterministic function of state $I$.\n",
    "\n",
    "$$\\begin{aligned}\n",
    "\\frac{dS}{dt} &=  -\\beta S I + \\gamma I \\\\\n",
    "\\frac{dI}{dt} &= \\beta S I - \\gamma I.\n",
    "\\end{aligned}$$\n",
    "\n",
    "An example of an implementation is given below.\n"
   ]
  },
  {
   "cell_type": "code",
   "execution_count": null,
   "id": "438844b8",
   "metadata": {},
   "outputs": [],
   "source": [
    "from pygom import common_models\n",
    "\n",
    "import matplotlib.pyplot as plt\n",
    "\n",
    "import numpy\n",
    "\n",
    "ode = common_models.SIS({'beta':0.5,'gamma':0.2})\n",
    "\n",
    "t = numpy.linspace(0, 20, 101)\n",
    "\n",
    "x0 = [1.0, 0.1]\n",
    "\n",
    "ode.initial_values = (x0, t[0])\n",
    "\n",
    "solution = ode.integrate(t[1::])\n",
    "\n",
    "ode.plot()\n"
   ]
  }
 ],
 "metadata": {
  "language_info": {
   "name": "python"
  }
 },
 "nbformat": 4,
 "nbformat_minor": 5
}
