{
 "cells": [
  {
   "cell_type": "markdown",
   "metadata": {},
   "source": [
    "# SIR, birth and death \n",
    "{func}`.SIR_Birth_Death`\n",
    "\n",
    "Next, we look at an SIR model with birth and death processes, where populations are added (birth) or removed (death).\n",
    "\n",
    "$$\\begin{aligned}\n",
    "\\frac{dS}{dt} &= B -\\beta SI - \\mu S \\\\\n",
    "\\frac{dI}{dt} &= \\beta SI - \\gamma I - \\mu I \\\\\n",
    "\\frac{dR}{dt} &= \\gamma I\n",
    "\\end{aligned}$$\n",
    "\n",
    "Continuing from the example above, but now with a much longer time\n",
    "frame. Note that the birth and death rate are the same to maintain a constant population.\n"
   ]
  },
  {
   "cell_type": "code",
   "execution_count": null,
   "id": "1e5a8099",
   "metadata": {},
   "outputs": [],
   "source": [
    "from pygom import common_models\n",
    "\n",
    "import numpy\n",
    "\n",
    "B = 126372.0/365.0\n",
    "\n",
    "N = 7781984.0\n",
    "\n",
    "ode = common_models.SIR_Birth_Death({'beta':3.6, 'gamma':0.2, 'B':B/N, 'mu':B/N})\n",
    "\n",
    "t = numpy.linspace(0, 35*365, 10001)\n",
    "\n",
    "x0 = [0.065, 123.0*(5.0/30.0)/N, 0.0]\n",
    "\n",
    "ode.initial_values = (x0, t[0])\n",
    "\n",
    "solution = ode.integrate(t[1::])\n",
    "\n",
    "ode.plot()"
   ]
  }
 ],
 "metadata": {
  "language_info": {
   "name": "python"
  }
 },
 "nbformat": 4,
 "nbformat_minor": 5
}
