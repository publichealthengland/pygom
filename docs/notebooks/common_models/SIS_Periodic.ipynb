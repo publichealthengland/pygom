{
 "cells": [
  {
   "cell_type": "markdown",
   "metadata": {},
   "source": [
    "# SIS, periodic\n",
    "{func}`.SIS_Periodic`\n",
    "\n",
    "Now we look at an extension of the SIS model by incorporating a periodic\n",
    "contact rate. Note how our equation is defined by a single ODE for state\n",
    "**I**.\n",
    "\n",
    "$$\\frac{dI}{dt} = (\\beta(t)N - \\alpha) I - \\beta(t)I^{2}$$\n",
    "\n",
    "where $\\beta(t) = 2 - 1.8 \\cos(5t)$. As the name suggests, it achieves a\n",
    "(stable) periodic solution. Note how the plots have two sub-graphs,\n",
    "where $\\tau$ is in fact our time component which we have taken out of\n",
    "the original equation when converting it to a autonomous system.\n",
    "\n"
   ]
  },
  {
   "cell_type": "code",
   "execution_count": null,
   "id": "e7321259",
   "metadata": {},
   "outputs": [],
   "source": [
    "from pygom import common_models\n",
    "\n",
    "import matplotlib.pyplot as plt\n",
    "\n",
    "import numpy\n",
    "\n",
    "ode = common_models.SIS_Periodic({'alpha':1.0})\n",
    "\n",
    "t = numpy.linspace(0, 10, 101)\n",
    "\n",
    "x0 = [0.1,0.]\n",
    "\n",
    "ode.initial_values = (x0, t[0])\n",
    "\n",
    "solution = ode.integrate(t[1::])\n",
    "\n",
    "ode.plot()"
   ]
  }
 ],
 "metadata": {
  "kernelspec": {
   "display_name": "Python 3.9.15 ('sphinx-doc')",
   "language": "python",
   "name": "python3"
  },
  "language_info": {
   "name": "python",
   "version": "3.9.15"
  },
  "vscode": {
   "interpreter": {
    "hash": "4dc1e323c80fe09539c74ad5c5a7c7d8d9ff99e04f7b3dbd3680daf878629d6e"
   }
  }
 },
 "nbformat": 4,
 "nbformat_minor": 5
}
