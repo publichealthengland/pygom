{
 "cells": [
  {
   "cell_type": "markdown",
   "metadata": {},
   "source": [
    "# Deducing transitions from equations\n",
    "\n",
    "Given a set of equations, PyGOM is able to attempt to distinguish the implied flows between compartments.\n",
    "It may be that multiple underlying flow configurations can separately explain a given ODE system, so this functionality should be used with caution.\n",
    "Here we demonstrate how this works in practice for two potentially tricky problems.\n",
    "The first of which is a system where the total population count is not conserved and the second is a system where a flow out of compartment is split.\n",
    "\n",
    "## SIR with births and deaths\n",
    "\n",
    "Let's consider the SIR model with standard incidence mixing and births and deaths proportional to the total population count.\n",
    "\n",
    "$$\\begin{aligned}\n",
    "\\frac{\\mathrm{d} S}{\\mathrm{d} t} &= -\\frac{\\beta SI}{N} + B N - \\mu S \\\\\n",
    "\\frac{\\mathrm{d} I}{\\mathrm{d} t} &= \\frac{\\beta SI}{N} - \\gamma I - \\mu I \\\\\n",
    "\\frac{\\mathrm{d} R}{\\mathrm{d} t} &= \\gamma I - \\mu R \\\\\n",
    "\\frac{\\mathrm{d} N}{\\mathrm{d} t} &= (B-\\mu)N\n",
    "\\end{aligned}$$\n",
    "\n",
    "Given that the force of infection, $\\frac{\\beta SI}{N}$, depends on N(t) it is necessary to keep a track of its time development in the final equation. \n",
    "\n",
    "Here we encounter an issue when thinking in terms of compartments.\n",
    "The total number of living individuals, $N$, is not a distinct category, rather, $S$, $I$ and $R$ are a subset of it.\n",
    "Thus, whilst valid to define system of ODEs as we have done above, PyGOM will run into difficulties as it will try to treat $N$ as a compartment.\n",
    "One solution could be to define $N$ as a time dependent parameter, however PyGOM does not have this functionality.\n",
    "\n",
    "Instead, we have to be careful in ensuring that what we pass to PyGOM's transition calculating function, `get_unrolled_obj()`, consists only of state equations.\n",
    "The implication for the current example is that we eliminate the final equation and substitute $N=S+I+R$ everywhere else.\n",
    "\n",
    "Let's set up the PyGOM model as usual."
   ]
  },
  {
   "cell_type": "code",
   "execution_count": 14,
   "id": "52daed16",
   "metadata": {},
   "outputs": [],
   "source": [
    "from pygom import SimulateOde, Transition, TransitionType\n",
    "\n",
    "odeList = [\n",
    "    Transition(transition_type=TransitionType.ODE, origin='S', equation='-beta*S*I/(S+I+R) + B*(S+I+R) - mu*S'),\n",
    "    Transition(transition_type=TransitionType.ODE, origin='I', equation='beta*S*I/(S+I+R) - gamma*I - mu*I'),\n",
    "    Transition(transition_type=TransitionType.ODE, origin='R', equation='gamma*I - mu*R') \n",
    "]\n",
    "\n",
    "stateList = ['S', 'I', 'R']\n",
    "paramList = ['beta', 'gamma', 'B', 'mu']\n",
    "\n",
    "model = SimulateOde(state=stateList, param=paramList, ode=odeList)"
   ]
  },
  {
   "cell_type": "markdown",
   "id": "d712e654",
   "metadata": {},
   "source": [
    "If we now inspect the transition matrix"
   ]
  },
  {
   "cell_type": "code",
   "execution_count": 2,
   "id": "16280343",
   "metadata": {},
   "outputs": [
    {
     "data": {
      "text/latex": [
       "$\\displaystyle \\left[\\begin{matrix}0 & 0 & 0\\\\0 & 0 & 0\\\\0 & 0 & 0\\end{matrix}\\right]$"
      ],
      "text/plain": [
       "Matrix([\n",
       "[0, 0, 0],\n",
       "[0, 0, 0],\n",
       "[0, 0, 0]])"
      ]
     },
     "execution_count": 2,
     "metadata": {},
     "output_type": "execute_result"
    }
   ],
   "source": [
    "model.get_transition_matrix()"
   ]
  },
  {
   "cell_type": "markdown",
   "id": "669529c7",
   "metadata": {},
   "source": [
    "we see that it is empty. This is because {class}`.SimulateOde` was not initialized using transitions, but by ODEs.\n",
    "TODO: perhaps this should be done automatically?\n",
    "\n",
    "We can populate the transition matrix by calling an algorithm to extract the flow information:"
   ]
  },
  {
   "cell_type": "code",
   "execution_count": 15,
   "id": "768a4cd0",
   "metadata": {},
   "outputs": [],
   "source": [
    "model = model.get_unrolled_obj()"
   ]
  },
  {
   "cell_type": "markdown",
   "id": "5e3c78c4",
   "metadata": {},
   "source": [
    "and can verify that the calculated transition matrix now matches what we would expect."
   ]
  },
  {
   "cell_type": "code",
   "execution_count": 16,
   "id": "5750fc80",
   "metadata": {},
   "outputs": [
    {
     "data": {
      "text/latex": [
       "$\\displaystyle \\left[\\begin{matrix}0 & \\frac{I S \\beta}{I + R + S} & 0\\\\0 & 0 & I \\gamma\\\\0 & 0 & 0\\end{matrix}\\right]$"
      ],
      "text/plain": [
       "Matrix([\n",
       "[0, I*S*beta/(I + R + S),       0],\n",
       "[0,                    0, I*gamma],\n",
       "[0,                    0,       0]])"
      ]
     },
     "execution_count": 16,
     "metadata": {},
     "output_type": "execute_result"
    }
   ],
   "source": [
    "model.get_transition_matrix()"
   ]
  },
  {
   "cell_type": "markdown",
   "id": "a373d4c1",
   "metadata": {},
   "source": [
    "Birth and death processes are not between states, rather into and  out of the system and so do not appear in the transition matrix.\n",
    "We could always get around this by defining another class (perhaps **U**nliving) as a limitless reservoir where births may come from and deaths may flow into.\n",
    "Instead, we can view the birth and death processes by inspecting a graph of the transitions."
   ]
  },
  {
   "cell_type": "code",
   "execution_count": 17,
   "id": "8251b87f",
   "metadata": {},
   "outputs": [
    {
     "data": {
      "image/png": "[encoded data removed]",
      "text/plain": [
       "<Figure size 640x480 with 1 Axes>"
      ]
     },
     "metadata": {},
     "output_type": "display_data"
    },
    {
     "data": {
      "image/svg+xml": [
       "<?xml version=\"1.0\" encoding=\"UTF-8\" standalone=\"no\"?>\n",
       "<!DOCTYPE svg PUBLIC \"-//W3C//DTD SVG 1.1//EN\"\n",
       " \"http://www.w3.org/Graphics/SVG/1.1/DTD/svg11.dtd\">\n",
       "<!-- Generated by graphviz version 2.50.0 (0)\n",
       " -->\n",
       "<!-- Pages: 1 -->\n",
       "<svg width=\"481pt\" height=\"120pt\"\n",
       " viewBox=\"0.00 0.00 481.00 119.50\" xmlns=\"http://www.w3.org/2000/svg\" xmlns:xlink=\"http://www.w3.org/1999/xlink\">\n",
       "<g id=\"graph0\" class=\"graph\" transform=\"scale(1 1) rotate(0) translate(4 115.5)\">\n",
       "<polygon fill=\"white\" stroke=\"transparent\" points=\"-4,4 -4,-115.5 477,-115.5 477,4 -4,4\"/>\n",
       "<!-- S -->\n",
       "<g id=\"node1\" class=\"node\">\n",
       "<title>S</title>\n",
       "<ellipse fill=\"none\" stroke=\"black\" cx=\"89\" cy=\"-40.5\" rx=\"27\" ry=\"18\"/>\n",
       "<text text-anchor=\"middle\" x=\"89\" y=\"-36.8\" font-family=\"Times New Roman,serif\" font-size=\"14.00\">S</text>\n",
       "</g>\n",
       "<!-- I -->\n",
       "<g id=\"node2\" class=\"node\">\n",
       "<title>I</title>\n",
       "<ellipse fill=\"none\" stroke=\"black\" cx=\"277\" cy=\"-68.5\" rx=\"27\" ry=\"18\"/>\n",
       "<text text-anchor=\"middle\" x=\"277\" y=\"-64.8\" font-family=\"Times New Roman,serif\" font-size=\"14.00\">I</text>\n",
       "</g>\n",
       "<!-- S&#45;&gt;I -->\n",
       "<g id=\"edge1\" class=\"edge\">\n",
       "<title>S&#45;&gt;I</title>\n",
       "<path fill=\"none\" stroke=\"black\" d=\"M115.47,-44.33C147.8,-49.2 203.75,-57.62 240.32,-63.13\"/>\n",
       "<polygon fill=\"black\" stroke=\"black\" points=\"240.13,-66.64 250.54,-64.67 241.17,-59.72 240.13,-66.64\"/>\n",
       "<text text-anchor=\"middle\" x=\"183\" y=\"-65.3\" font-family=\"Times New Roman,serif\" font-size=\"14.00\">I*S*β/(I + R + S)</text>\n",
       "</g>\n",
       "<!-- S*&mu; -->\n",
       "<g id=\"node4\" class=\"node\">\n",
       "<title>S*&mu;</title>\n",
       "<text text-anchor=\"middle\" x=\"277\" y=\"-20.8\" font-family=\"Times New Roman,serif\" font-size=\"14.00\">S*μ</text>\n",
       "</g>\n",
       "<!-- S&#45;&gt;S*&mu; -->\n",
       "<g id=\"edge3\" class=\"edge\">\n",
       "<title>S&#45;&gt;S*&mu;</title>\n",
       "<path fill=\"none\" stroke=\"black\" d=\"M115.86,-38.28C153.17,-35.07 221.34,-29.2 255.44,-26.27\"/>\n",
       "<polygon fill=\"black\" stroke=\"black\" points=\"255.94,-29.74 265.6,-25.39 255.34,-22.76 255.94,-29.74\"/>\n",
       "</g>\n",
       "<!-- R -->\n",
       "<g id=\"node3\" class=\"node\">\n",
       "<title>R</title>\n",
       "<ellipse fill=\"none\" stroke=\"black\" cx=\"385\" cy=\"-93.5\" rx=\"27\" ry=\"18\"/>\n",
       "<text text-anchor=\"middle\" x=\"385\" y=\"-89.8\" font-family=\"Times New Roman,serif\" font-size=\"14.00\">R</text>\n",
       "</g>\n",
       "<!-- I&#45;&gt;R -->\n",
       "<g id=\"edge2\" class=\"edge\">\n",
       "<title>I&#45;&gt;R</title>\n",
       "<path fill=\"none\" stroke=\"black\" d=\"M302.58,-74.3C316.4,-77.56 333.87,-81.68 349.08,-85.26\"/>\n",
       "<polygon fill=\"black\" stroke=\"black\" points=\"348.64,-88.76 359.18,-87.65 350.25,-81.94 348.64,-88.76\"/>\n",
       "<text text-anchor=\"middle\" x=\"331\" y=\"-85.3\" font-family=\"Times New Roman,serif\" font-size=\"14.00\">I*γ</text>\n",
       "</g>\n",
       "<!-- I*&mu; -->\n",
       "<g id=\"node8\" class=\"node\">\n",
       "<title>I*&mu;</title>\n",
       "<text text-anchor=\"middle\" x=\"385\" y=\"-45.8\" font-family=\"Times New Roman,serif\" font-size=\"14.00\">I*μ</text>\n",
       "</g>\n",
       "<!-- I&#45;&gt;I*&mu; -->\n",
       "<g id=\"edge7\" class=\"edge\">\n",
       "<title>I&#45;&gt;I*&mu;</title>\n",
       "<path fill=\"none\" stroke=\"black\" d=\"M303.39,-63.95C322.48,-60.53 348.21,-55.92 365.41,-52.83\"/>\n",
       "<polygon fill=\"black\" stroke=\"black\" points=\"366.1,-56.26 375.33,-51.05 364.87,-49.37 366.1,-56.26\"/>\n",
       "</g>\n",
       "<!-- R*&mu; -->\n",
       "<g id=\"node9\" class=\"node\">\n",
       "<title>R*&mu;</title>\n",
       "<text text-anchor=\"middle\" x=\"461\" y=\"-89.8\" font-family=\"Times New Roman,serif\" font-size=\"14.00\">R*μ</text>\n",
       "</g>\n",
       "<!-- R&#45;&gt;R*&mu; -->\n",
       "<g id=\"edge8\" class=\"edge\">\n",
       "<title>R&#45;&gt;R*&mu;</title>\n",
       "<path fill=\"none\" stroke=\"black\" d=\"M412.3,-93.5C420.87,-93.5 430.27,-93.5 438.45,-93.5\"/>\n",
       "<polygon fill=\"black\" stroke=\"black\" points=\"438.65,-97 448.65,-93.5 438.65,-90 438.65,-97\"/>\n",
       "</g>\n",
       "<!-- B*S -->\n",
       "<g id=\"node5\" class=\"node\">\n",
       "<title>B*S</title>\n",
       "<text text-anchor=\"middle\" x=\"12.5\" y=\"-69.8\" font-family=\"Times New Roman,serif\" font-size=\"14.00\">B*S</text>\n",
       "</g>\n",
       "<!-- B*S&#45;&gt;S -->\n",
       "<g id=\"edge4\" class=\"edge\">\n",
       "<title>B*S&#45;&gt;S</title>\n",
       "<path fill=\"none\" stroke=\"black\" d=\"M24.81,-68.49C33.34,-64.71 45.46,-59.34 56.8,-54.32\"/>\n",
       "<polygon fill=\"black\" stroke=\"black\" points=\"58.33,-57.47 66.06,-50.22 55.5,-51.07 58.33,-57.47\"/>\n",
       "</g>\n",
       "<!-- B*I -->\n",
       "<g id=\"node6\" class=\"node\">\n",
       "<title>B*I</title>\n",
       "<text text-anchor=\"middle\" x=\"12.5\" y=\"-36.8\" font-family=\"Times New Roman,serif\" font-size=\"14.00\">B*I</text>\n",
       "</g>\n",
       "<!-- B*I&#45;&gt;S -->\n",
       "<g id=\"edge5\" class=\"edge\">\n",
       "<title>B*I&#45;&gt;S</title>\n",
       "<path fill=\"none\" stroke=\"black\" d=\"M23.24,-40.5C30.58,-40.5 41.13,-40.5 51.59,-40.5\"/>\n",
       "<polygon fill=\"black\" stroke=\"black\" points=\"51.9,-44 61.9,-40.5 51.9,-37 51.9,-44\"/>\n",
       "</g>\n",
       "<!-- B*R -->\n",
       "<g id=\"node7\" class=\"node\">\n",
       "<title>B*R</title>\n",
       "<text text-anchor=\"middle\" x=\"12.5\" y=\"-3.8\" font-family=\"Times New Roman,serif\" font-size=\"14.00\">B*R</text>\n",
       "</g>\n",
       "<!-- B*R&#45;&gt;S -->\n",
       "<g id=\"edge6\" class=\"edge\">\n",
       "<title>B*R&#45;&gt;S</title>\n",
       "<path fill=\"none\" stroke=\"black\" d=\"M25.14,-12.66C33.65,-16.42 45.6,-21.72 56.81,-26.68\"/>\n",
       "<polygon fill=\"black\" stroke=\"black\" points=\"55.39,-29.88 65.95,-30.73 58.22,-23.48 55.39,-29.88\"/>\n",
       "</g>\n",
       "</g>\n",
       "</svg>\n"
      ],
      "text/plain": [
       "<graphviz.graphs.Digraph at 0x22fb6fecc70>"
      ]
     },
     "execution_count": 17,
     "metadata": {},
     "output_type": "execute_result"
    }
   ],
   "source": [
    "model.get_transition_graph()"
   ]
  },
  {
   "cell_type": "markdown",
   "id": "98da24d0",
   "metadata": {},
   "source": [
    "## SLIAR model\n",
    "\n",
    "Now we turn to a problem that does not have a one to one mapping between all the transitions and the terms in the ODEs. In this model, **S**usceptible individuals may be infected and enter a **L**atent phase. The rate at which individuals leave this state is $\\kappa$, after which a fraction $p$ become **I**nfective and the remaining $(1-p)$ become **A**symptomatic. Both these classes are capable of onward transmission, however, those in the **A** class have infectivity reduced by a factor $\\delta$ relative to the **I** class.  All **A**symptomatics eventually become **R**emoved at a rate $\\eta$, whereas a fraction, $f$, of the infectives recover, the remaining $(1-f)$ going on to die (both at a rate $\\alpha$).\n",
    "\n",
    "The equations are as follows:\n",
    "\n",
    "$$\\begin{aligned}\n",
    "\\frac{\\mathrm{d}S}{\\mathrm{d}t} &= -\\beta S (I + \\delta A) \\\\    \n",
    "\\frac{\\mathrm{d}L}{\\mathrm{d}t} &= \\beta S (I + \\delta A) - \\kappa L \\\\  \n",
    "\\frac{\\mathrm{d}I}{\\mathrm{d}t} &= p \\kappa L - \\alpha I \\\\\n",
    "\\frac{\\mathrm{d}A}{\\mathrm{d}t} &= (1 - p) \\kappa L - \\eta A \\\\\n",
    "\\frac{\\mathrm{d}R}{\\mathrm{d}t} &= f \\alpha I + \\eta A \\\\\n",
    "\\end{aligned}$$\n",
    "\n",
    "In this case, the potential difficulty comes from the outflows of state **L** and **I**.\n",
    "For **L**, this is composed of two transitions, one to **I** and the other to **A** but the ODE of **L** only reflects the total flow going out of the state.\n",
    "Similarly for **I**, the outflow, $\\alpha I$, is partitioned as $f \\alpha I$ into state **R** with the rest assumed dead, though not explicitly stated in the equations.\n",
    "\n",
    "We define out PyGOM model"
   ]
  },
  {
   "cell_type": "code",
   "execution_count": 19,
   "id": "280c4be4",
   "metadata": {},
   "outputs": [
    {
     "data": {
      "text/latex": [
       "$\\displaystyle \\left[\\begin{matrix}- S \\beta \\left(A \\delta + I\\right)\\\\- L \\kappa + S \\beta \\left(A \\delta + I\\right)\\\\- I \\alpha + L \\kappa p\\\\- A \\epsilon + L \\kappa \\left(1 - p\\right)\\\\A \\epsilon + I \\alpha f\\end{matrix}\\right]$"
      ],
      "text/plain": [
       "Matrix([\n",
       "[          -S*beta*(A*delta + I)],\n",
       "[-L*kappa + S*beta*(A*delta + I)],\n",
       "[           -I*alpha + L*kappa*p],\n",
       "[   -A*epsilon + L*kappa*(1 - p)],\n",
       "[          A*epsilon + I*alpha*f]])"
      ]
     },
     "execution_count": 19,
     "metadata": {},
     "output_type": "execute_result"
    }
   ],
   "source": [
    "from pygom import SimulateOde, Transition, TransitionType\n",
    "\n",
    "stateList = ['S', 'L', 'I', 'A', 'R']\n",
    "paramList = ['beta', 'p', 'kappa', 'alpha', 'f', 'delta', 'epsilon']\n",
    "odeList = [Transition(origin='S', equation='- beta*S*(I + delta*A)', transition_type=TransitionType.ODE), \n",
    "           Transition(origin='L', equation='beta*S*(I + delta*A) - kappa*L', transition_type=TransitionType.ODE),\n",
    "           Transition(origin='I', equation='p*kappa*L - alpha*I', transition_type=TransitionType.ODE),\n",
    "           Transition(origin='A', equation='(1 - p)*kappa*L - epsilon*A', transition_type=TransitionType.ODE),\n",
    "           Transition(origin='R', equation='f*alpha*I + epsilon*A', transition_type=TransitionType.ODE)]\n",
    "model = SimulateOde(stateList, paramList, ode=odeList)"
   ]
  },
  {
   "cell_type": "markdown",
   "id": "690b0785",
   "metadata": {},
   "source": [
    "Inspecting the transition graph"
   ]
  },
  {
   "cell_type": "code",
   "execution_count": 20,
   "id": "1b6cb187",
   "metadata": {},
   "outputs": [
    {
     "data": {
      "text/latex": [
       "$\\displaystyle \\left[\\begin{matrix}0 & A S \\beta \\delta + I S \\beta & 0 & 0 & 0\\\\0 & 0 & L \\kappa p & - L \\kappa p + L \\kappa & 0\\\\0 & 0 & 0 & 0 & 0\\\\0 & 0 & 0 & 0 & A \\epsilon\\\\0 & 0 & 0 & 0 & 0\\end{matrix}\\right]$"
      ],
      "text/plain": [
       "Matrix([\n",
       "[0, A*S*beta*delta + I*S*beta,         0,                    0,         0],\n",
       "[0,                         0, L*kappa*p, -L*kappa*p + L*kappa,         0],\n",
       "[0,                         0,         0,                    0,         0],\n",
       "[0,                         0,         0,                    0, A*epsilon],\n",
       "[0,                         0,         0,                    0,         0]])"
      ]
     },
     "execution_count": 20,
     "metadata": {},
     "output_type": "execute_result"
    }
   ],
   "source": [
    "model = model.get_unrolled_obj()\n",
    "model.get_transition_graph()"
   ]
  },
  {
   "cell_type": "markdown",
   "id": "00742616",
   "metadata": {},
   "source": [
    "we notice that the $L$ outflow has been captured, but the outflow from $I$ is assumed to be a full death process of which a fraction are born into the recovered state.\n",
    "This demonstrates the difficulty in such calculations.\n",
    "One work-around is if we explicitly introduce a dead state"
   ]
  },
  {
   "cell_type": "code",
   "execution_count": 25,
   "id": "59ce2a8a",
   "metadata": {},
   "outputs": [
    {
     "data": {
      "image/png": "[encoded data removed]",
      "text/plain": [
       "<Figure size 640x480 with 1 Axes>"
      ]
     },
     "metadata": {},
     "output_type": "display_data"
    },
    {
     "data": {
      "image/svg+xml": [
       "<?xml version=\"1.0\" encoding=\"UTF-8\" standalone=\"no\"?>\n",
       "<!DOCTYPE svg PUBLIC \"-//W3C//DTD SVG 1.1//EN\"\n",
       " \"http://www.w3.org/Graphics/SVG/1.1/DTD/svg11.dtd\">\n",
       "<!-- Generated by graphviz version 2.50.0 (0)\n",
       " -->\n",
       "<!-- Pages: 1 -->\n",
       "<svg width=\"580pt\" height=\"120pt\"\n",
       " viewBox=\"0.00 0.00 580.00 120.00\" xmlns=\"http://www.w3.org/2000/svg\" xmlns:xlink=\"http://www.w3.org/1999/xlink\">\n",
       "<g id=\"graph0\" class=\"graph\" transform=\"scale(1 1) rotate(0) translate(4 116)\">\n",
       "<polygon fill=\"white\" stroke=\"transparent\" points=\"-4,4 -4,-116 576,-116 576,4 -4,4\"/>\n",
       "<!-- S -->\n",
       "<g id=\"node1\" class=\"node\">\n",
       "<title>S</title>\n",
       "<ellipse fill=\"none\" stroke=\"black\" cx=\"27\" cy=\"-45\" rx=\"27\" ry=\"18\"/>\n",
       "<text text-anchor=\"middle\" x=\"27\" y=\"-41.3\" font-family=\"Times New Roman,serif\" font-size=\"14.00\">S</text>\n",
       "</g>\n",
       "<!-- L -->\n",
       "<g id=\"node2\" class=\"node\">\n",
       "<title>L</title>\n",
       "<ellipse fill=\"none\" stroke=\"black\" cx=\"217\" cy=\"-45\" rx=\"27\" ry=\"18\"/>\n",
       "<text text-anchor=\"middle\" x=\"217\" y=\"-41.3\" font-family=\"Times New Roman,serif\" font-size=\"14.00\">L</text>\n",
       "</g>\n",
       "<!-- S&#45;&gt;L -->\n",
       "<g id=\"edge1\" class=\"edge\">\n",
       "<title>S&#45;&gt;L</title>\n",
       "<path fill=\"none\" stroke=\"black\" d=\"M54.14,-45C86.74,-45 142.65,-45 179.47,-45\"/>\n",
       "<polygon fill=\"black\" stroke=\"black\" points=\"179.78,-48.5 189.78,-45 179.78,-41.5 179.78,-48.5\"/>\n",
       "<text text-anchor=\"middle\" x=\"122\" y=\"-48.8\" font-family=\"Times New Roman,serif\" font-size=\"14.00\">A*S*β*δ + I*S*β</text>\n",
       "</g>\n",
       "<!-- I -->\n",
       "<g id=\"node3\" class=\"node\">\n",
       "<title>I</title>\n",
       "<ellipse fill=\"none\" stroke=\"black\" cx=\"385\" cy=\"-72\" rx=\"27\" ry=\"18\"/>\n",
       "<text text-anchor=\"middle\" x=\"385\" y=\"-68.3\" font-family=\"Times New Roman,serif\" font-size=\"14.00\">I</text>\n",
       "</g>\n",
       "<!-- L&#45;&gt;I -->\n",
       "<g id=\"edge2\" class=\"edge\">\n",
       "<title>L&#45;&gt;I</title>\n",
       "<path fill=\"none\" stroke=\"black\" d=\"M243.57,-49.16C271.68,-53.73 317.02,-61.11 348.55,-66.23\"/>\n",
       "<polygon fill=\"black\" stroke=\"black\" points=\"348.24,-69.73 358.67,-67.88 349.36,-62.82 348.24,-69.73\"/>\n",
       "<text text-anchor=\"middle\" x=\"301\" y=\"-67.8\" font-family=\"Times New Roman,serif\" font-size=\"14.00\">L*κ*p</text>\n",
       "</g>\n",
       "<!-- A -->\n",
       "<g id=\"node4\" class=\"node\">\n",
       "<title>A</title>\n",
       "<ellipse fill=\"none\" stroke=\"black\" cx=\"385\" cy=\"-18\" rx=\"27\" ry=\"18\"/>\n",
       "<text text-anchor=\"middle\" x=\"385\" y=\"-14.3\" font-family=\"Times New Roman,serif\" font-size=\"14.00\">A</text>\n",
       "</g>\n",
       "<!-- L&#45;&gt;A -->\n",
       "<g id=\"edge3\" class=\"edge\">\n",
       "<title>L&#45;&gt;A</title>\n",
       "<path fill=\"none\" stroke=\"black\" d=\"M242.06,-37.77C248.49,-36.02 255.47,-34.28 262,-33 290.64,-27.37 323.49,-23.47 347.89,-21.06\"/>\n",
       "<polygon fill=\"black\" stroke=\"black\" points=\"348.5,-24.52 358.12,-20.09 347.84,-17.55 348.5,-24.52\"/>\n",
       "<text text-anchor=\"middle\" x=\"301\" y=\"-36.8\" font-family=\"Times New Roman,serif\" font-size=\"14.00\">&#45;L*κ*p + L*κ</text>\n",
       "</g>\n",
       "<!-- R -->\n",
       "<g id=\"node5\" class=\"node\">\n",
       "<title>R</title>\n",
       "<ellipse fill=\"none\" stroke=\"black\" cx=\"545\" cy=\"-29\" rx=\"27\" ry=\"18\"/>\n",
       "<text text-anchor=\"middle\" x=\"545\" y=\"-25.3\" font-family=\"Times New Roman,serif\" font-size=\"14.00\">R</text>\n",
       "</g>\n",
       "<!-- I&#45;&gt;R -->\n",
       "<g id=\"edge4\" class=\"edge\">\n",
       "<title>I&#45;&gt;R</title>\n",
       "<path fill=\"none\" stroke=\"black\" d=\"M410.17,-64.72C416.6,-62.82 423.56,-60.8 430,-59 456.67,-51.55 486.98,-43.6 509.65,-37.75\"/>\n",
       "<polygon fill=\"black\" stroke=\"black\" points=\"510.67,-41.11 519.48,-35.23 508.92,-34.33 510.67,-41.11\"/>\n",
       "<text text-anchor=\"middle\" x=\"465\" y=\"-62.8\" font-family=\"Times New Roman,serif\" font-size=\"14.00\">I*α*f</text>\n",
       "</g>\n",
       "<!-- D -->\n",
       "<g id=\"node6\" class=\"node\">\n",
       "<title>D</title>\n",
       "<ellipse fill=\"none\" stroke=\"black\" cx=\"545\" cy=\"-94\" rx=\"27\" ry=\"18\"/>\n",
       "<text text-anchor=\"middle\" x=\"545\" y=\"-90.3\" font-family=\"Times New Roman,serif\" font-size=\"14.00\">D</text>\n",
       "</g>\n",
       "<!-- I&#45;&gt;D -->\n",
       "<g id=\"edge5\" class=\"edge\">\n",
       "<title>I&#45;&gt;D</title>\n",
       "<path fill=\"none\" stroke=\"black\" d=\"M411.74,-75.58C437.9,-79.23 478.67,-84.9 508.02,-88.99\"/>\n",
       "<polygon fill=\"black\" stroke=\"black\" points=\"507.89,-92.51 518.27,-90.42 508.85,-85.57 507.89,-92.51\"/>\n",
       "<text text-anchor=\"middle\" x=\"465\" y=\"-90.8\" font-family=\"Times New Roman,serif\" font-size=\"14.00\">&#45;I*α*f + I*α</text>\n",
       "</g>\n",
       "<!-- A&#45;&gt;R -->\n",
       "<g id=\"edge6\" class=\"edge\">\n",
       "<title>A&#45;&gt;R</title>\n",
       "<path fill=\"none\" stroke=\"black\" d=\"M412.36,-16.64C435.53,-15.82 470.12,-15.51 500,-19 503.09,-19.36 506.28,-19.85 509.47,-20.42\"/>\n",
       "<polygon fill=\"black\" stroke=\"black\" points=\"509,-23.9 519.49,-22.45 510.39,-17.04 509,-23.9\"/>\n",
       "<text text-anchor=\"middle\" x=\"465\" y=\"-22.8\" font-family=\"Times New Roman,serif\" font-size=\"14.00\">A*ε</text>\n",
       "</g>\n",
       "</g>\n",
       "</svg>\n"
      ],
      "text/plain": [
       "<graphviz.graphs.Digraph at 0x22fb7c460a0>"
      ]
     },
     "execution_count": 25,
     "metadata": {},
     "output_type": "execute_result"
    }
   ],
   "source": [
    "stateList = ['S', 'L', 'I', 'A', 'R', 'D']\n",
    "paramList = ['beta', 'p', 'kappa', 'alpha', 'f', 'delta', 'epsilon']\n",
    "odeList = [Transition(origin='S', equation='- beta*S*(I + delta*A)', transition_type=TransitionType.ODE), \n",
    "           Transition(origin='L', equation='beta*S*(I + delta*A) - kappa*L', transition_type=TransitionType.ODE),\n",
    "           Transition(origin='I', equation='p*kappa*L - alpha*I', transition_type=TransitionType.ODE),\n",
    "           Transition(origin='A', equation='(1 - p)*kappa*L - epsilon*A', transition_type=TransitionType.ODE),\n",
    "           Transition(origin='R', equation='f*alpha*I + epsilon*A', transition_type=TransitionType.ODE),\n",
    "           Transition(origin='D', equation='(1-f)*alpha*I', transition_type=TransitionType.ODE)]\n",
    "model = SimulateOde(stateList, paramList, ode=odeList)\n",
    "model = model.get_unrolled_obj()\n",
    "model.get_transition_graph()"
   ]
  }
 ],
 "metadata": {
  "kernelspec": {
   "display_name": "Python 3.9.15 ('sphinx-doc')",
   "language": "python",
   "name": "python3"
  },
  "language_info": {
   "codemirror_mode": {
    "name": "ipython",
    "version": 3
   },
   "file_extension": ".py",
   "mimetype": "text/x-python",
   "name": "python",
   "nbconvert_exporter": "python",
   "pygments_lexer": "ipython3",
   "version": "3.9.19"
  },
  "vscode": {
   "interpreter": {
    "hash": "4dc1e323c80fe09539c74ad5c5a7c7d8d9ff99e04f7b3dbd3680daf878629d6e"
   }
  }
 },
 "nbformat": 4,
 "nbformat_minor": 5
}
