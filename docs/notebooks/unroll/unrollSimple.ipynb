{
 "cells": [
  {
   "cell_type": "markdown",
   "metadata": {},
   "source": [
    "# A simple problem\n",
    "\n",
    "For a simple problem, where we can clearly distinguish the flows from one compartment to another, we consider the SIR model defined by\n",
    "\n",
    "$$\\begin{aligned}\n",
    "\\frac{dS}{dt} &= -\\beta SI \\\\\n",
    "\\frac{dI}{dt} &= \\beta SI - \\gamma I \\\\\n",
    "\\frac{dR}{dt} &= \\gamma I.\n",
    "\\end{aligned}$$\n",
    "\n",
    "which consists of two transitions"
   ]
  },
  {
   "cell_type": "markdown",
   "id": "336381fa",
   "metadata": {},
   "source": [
    "\n",
    "digraph SIR_Model {  \n",
    "rankdir=LR; size=\"8\" node \\[shape = circle\\]; S -\\> I \\[ label = \"βSI\"\n",
    "\\]; I -\\> R \\[ label = \"γI\" \\];\n",
    "}"
   ]
  },
  {
   "cell_type": "markdown",
   "id": "160f9040",
   "metadata": {},
   "source": [
    "We can define this as an ODE, as seen in {doc}`sir`."
   ]
  },
  {
   "cell_type": "code",
   "execution_count": 1,
   "id": "52daed16",
   "metadata": {},
   "outputs": [
    {
     "data": {
      "text/latex": [
       "$\\displaystyle \\left[\\begin{matrix}0 & 0 & 0\\\\0 & 0 & 0\\\\0 & 0 & 0\\end{matrix}\\right]$"
      ],
      "text/plain": [
       "Matrix([\n",
       "[0, 0, 0],\n",
       "[0, 0, 0],\n",
       "[0, 0, 0]])"
      ]
     },
     "execution_count": 1,
     "metadata": {},
     "output_type": "execute_result"
    }
   ],
   "source": [
    "from pygom import SimulateOde, Transition, TransitionType\n",
    "\n",
    "ode1 = Transition(origin='S', equation='-beta*S*I', transition_type=TransitionType.ODE)\n",
    "\n",
    "ode2 = Transition(origin='I', equation='beta*S*I - gamma*I', transition_type=TransitionType.ODE)\n",
    "\n",
    "ode3 = Transition(origin='R', equation='gamma*I', transition_type=TransitionType.ODE)\n",
    "\n",
    "stateList = ['S', 'I', 'R']\n",
    "\n",
    "paramList = ['beta', 'gamma']\n",
    "\n",
    "ode = SimulateOde(stateList, paramList, ode=[ode1, ode2, ode3])\n",
    "\n",
    "ode.get_transition_matrix()"
   ]
  },
  {
   "cell_type": "markdown",
   "id": "d712e654",
   "metadata": {},
   "source": [
    "\n",
    "and the last line shows that the transition matrix is empty. This is the\n",
    "expected result because {class}`.SimulateOdeModel` was not initialized using\n",
    "transitions. We can populate the transition matrix by calling an algorithm to extract the flow information, and can see that the output matches that from {ref}`transition:defining-the-equations`."
   ]
  },
  {
   "cell_type": "code",
   "execution_count": 2,
   "id": "768a4cd0",
   "metadata": {},
   "outputs": [
    {
     "data": {
      "text/latex": [
       "$\\displaystyle \\left[\\begin{matrix}0 & I S \\beta & 0\\\\0 & 0 & I \\gamma\\\\0 & 0 & 0\\end{matrix}\\right]$"
      ],
      "text/plain": [
       "Matrix([\n",
       "[0, I*S*beta,       0],\n",
       "[0,        0, I*gamma],\n",
       "[0,        0,       0]])"
      ]
     },
     "execution_count": 2,
     "metadata": {},
     "output_type": "execute_result"
    }
   ],
   "source": [
    "ode = ode.get_unrolled_obj()\n",
    "\n",
    "ode.get_transition_matrix()"
   ]
  }
 ],
 "metadata": {
  "kernelspec": {
   "display_name": "Python 3.9.15 ('sphinx-doc')",
   "language": "python",
   "name": "python3"
  },
  "language_info": {
   "codemirror_mode": {
    "name": "ipython",
    "version": 3
   },
   "file_extension": ".py",
   "mimetype": "text/x-python",
   "name": "python",
   "nbconvert_exporter": "python",
   "pygments_lexer": "ipython3",
   "version": "3.9.15"
  },
  "vscode": {
   "interpreter": {
    "hash": "4dc1e323c80fe09539c74ad5c5a7c7d8d9ff99e04f7b3dbd3680daf878629d6e"
   }
  }
 },
 "nbformat": 4,
 "nbformat_minor": 5
}
