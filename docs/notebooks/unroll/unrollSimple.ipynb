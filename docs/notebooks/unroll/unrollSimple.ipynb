{
 "cells": [
  {
   "cell_type": "markdown",
   "metadata": {},
   "source": [
    "# Deducing transitions from equations\n",
    "\n",
    "Deducing ODEs from transitions is as simple as adding up all the different flows in and out of each state.\n",
    "In this process, information is lost regarding the nature (origin and destination) of the constituent transitions and so the reverse problem, deducing transitions from ODEs, is more difficult.\n",
    "PyGOM includes some tools to attempt to distinguish the implied flows between compartments given a set of equations, but given that multiple underlying flow configurations can separately explain an ODE system, this functionality should be used with caution.\n",
    "Here we demonstrate how this works in practice for two potentially tricky problems, the first of which is a system where the total population count is not conserved and the second is a system where a flow out of some of the compartments is split between multiple destinations.\n",
    "\n",
    "## SIR with births and deaths\n",
    "\n",
    "For our first example, let's consider the SIR model with standard incidence mixing and births and deaths proportional to the total population count, but not necessarily balanced:\n",
    "\n",
    "$$\\begin{aligned}\n",
    "\\frac{\\mathrm{d} S}{\\mathrm{d} t} &= -\\frac{\\beta SI}{N} + B N - \\mu S \\\\\n",
    "\\frac{\\mathrm{d} I}{\\mathrm{d} t} &= \\frac{\\beta SI}{N} - \\gamma I - \\mu I \\\\\n",
    "\\frac{\\mathrm{d} R}{\\mathrm{d} t} &= \\gamma I - \\mu R \\\\\n",
    "\\frac{\\mathrm{d} N}{\\mathrm{d} t} &= (B-\\mu)N\n",
    "\\end{aligned}$$\n",
    "\n",
    "Given that the infection rate, $\\frac{\\beta SI}{N}$, depends on the total population, it is necessary to keep track of $N(t)$ in the final equation. \n",
    "Here we encounter an issue when thinking in terms of compartments:\n",
    "The total number of living individuals, $N$, is not a distinct category, rather, $S$, $I$ and $R$ are a subset of it.\n",
    "Thus, whilst valid to define a system of ODEs as we have done above, PyGOM will run into difficulties as it will interpret $N$ as a compartment.\n",
    "One solution could be to define $N$ as a time dependent parameter, however PyGOM does not currently have this functionality.\n",
    "\n",
    "Instead, we must be careful to ensure that we only pass state equations to PyGOM's transition calculating function, {func}`.get_unrolled_obj()`.\n",
    "The implication for the current example is that we eliminate the final equation and substitute $N=S+I+R$ everywhere else.\n",
    "\n",
    "Let's set up the {class}`.SimulateOde` object as usual:"
   ]
  },
  {
   "cell_type": "code",
   "execution_count": 1,
   "id": "52daed16",
   "metadata": {},
   "outputs": [],
   "source": [
    "from pygom import SimulateOde, Transition, TransitionType\n",
    "\n",
    "odeList = [\n",
    "    Transition(transition_type=TransitionType.ODE, origin='S', equation='-beta*S*I/(S+I+R) + B*(S+I+R) - mu*S'),\n",
    "    Transition(transition_type=TransitionType.ODE, origin='I', equation='beta*S*I/(S+I+R) - gamma*I - mu*I'),\n",
    "    Transition(transition_type=TransitionType.ODE, origin='R', equation='gamma*I - mu*R') \n",
    "]\n",
    "\n",
    "stateList = ['S', 'I', 'R']\n",
    "paramList = ['beta', 'gamma', 'B', 'mu']\n",
    "\n",
    "model = SimulateOde(state=stateList, param=paramList, ode=odeList)"
   ]
  },
  {
   "cell_type": "markdown",
   "id": "d712e654",
   "metadata": {},
   "source": [
    "If we now inspect the transition matrix:"
   ]
  },
  {
   "cell_type": "code",
   "execution_count": null,
   "id": "16280343",
   "metadata": {},
   "outputs": [],
   "source": [
    "model.get_transition_matrix()"
   ]
  },
  {
   "cell_type": "markdown",
   "id": "669529c7",
   "metadata": {},
   "source": [
    "we see that it is empty.\n",
    "This is because {class}`.SimulateOde` was not initialized using transitions, but by ODEs.\n",
    "We can populate the transition matrix by calling an algorithm to extract the flow information:"
   ]
  },
  {
   "cell_type": "code",
   "execution_count": 2,
   "id": "768a4cd0",
   "metadata": {},
   "outputs": [
    {
     "name": "stdout",
     "output_type": "stream",
     "text": [
      "Generate Transition Matrix\n",
      "Matrix([[B*(I + R + S) - I*S*beta/(I + R + S) - S*mu], [I*S*beta/(I + R + S) - I*gamma - I*mu], [I*gamma - R*mu]])\n",
      "Get unmatched\n",
      "Matrix([[B*(I + R + S) - I*S*beta/(I + R + S) - S*mu], [I*S*beta/(I + R + S) - I*gamma - I*mu], [I*gamma - R*mu]])\n",
      "Get unmatched\n",
      "Matrix([[-I*S*beta/(I + R + S)], [I*S*beta/(I + R + S) - I*gamma], [I*gamma]])\n",
      "get_bd_from_ode\n",
      "Get unmatched\n",
      "Matrix([[B*(I + R + S) - I*S*beta/(I + R + S) - S*mu], [I*S*beta/(I + R + S) - I*gamma - I*mu], [I*gamma - R*mu]])\n",
      "[-S*mu, B*R, -R*mu, B*I, -I*mu, B*S]\n",
      "Matrix([[B*(I + R + S) - I*S*beta/(I + R + S) - S*mu], [I*S*beta/(I + R + S) - I*gamma - I*mu], [I*gamma - R*mu]])\n",
      "Generate Transition Matrix\n",
      "None\n",
      "Get unmatched\n",
      "None\n"
     ]
    },
    {
     "ename": "AssertionError",
     "evalue": "Expecting a vector of expressions",
     "output_type": "error",
     "traceback": [
      "\u001b[1;31m---------------------------------------------------------------------------\u001b[0m",
      "\u001b[1;31mAssertionError\u001b[0m                            Traceback (most recent call last)",
      "Cell \u001b[1;32mIn[2], line 1\u001b[0m\n\u001b[1;32m----> 1\u001b[0m model \u001b[38;5;241m=\u001b[39m \u001b[43mmodel\u001b[49m\u001b[38;5;241;43m.\u001b[39;49m\u001b[43mget_unrolled_obj\u001b[49m\u001b[43m(\u001b[49m\u001b[43m)\u001b[49m\n",
      "File \u001b[1;32mc:\\users\\joseph.gibson\\pygom\\pygom\\model\\simulate.py:1101\u001b[0m, in \u001b[0;36mSimulateOde.get_unrolled_obj\u001b[1;34m(self)\u001b[0m\n\u001b[0;32m   1095\u001b[0m \u001b[38;5;250m\u001b[39m\u001b[38;5;124;03m'''\u001b[39;00m\n\u001b[0;32m   1096\u001b[0m \u001b[38;5;124;03mReturns a :class:`SimulateOde` with the same state and parameters\u001b[39;00m\n\u001b[0;32m   1097\u001b[0m \u001b[38;5;124;03mas the current object but with the equations defined by a set of\u001b[39;00m\n\u001b[0;32m   1098\u001b[0m \u001b[38;5;124;03mtransitions and birth death process instead of say, odes\u001b[39;00m\n\u001b[0;32m   1099\u001b[0m \u001b[38;5;124;03m'''\u001b[39;00m\n\u001b[0;32m   1100\u001b[0m transition \u001b[38;5;241m=\u001b[39m \u001b[38;5;28mself\u001b[39m\u001b[38;5;241m.\u001b[39mget_transitions_from_ode()\n\u001b[1;32m-> 1101\u001b[0m bdList \u001b[38;5;241m=\u001b[39m \u001b[38;5;28;43mself\u001b[39;49m\u001b[38;5;241;43m.\u001b[39;49m\u001b[43mget_bd_from_ode\u001b[49m\u001b[43m(\u001b[49m\u001b[43m)\u001b[49m\n\u001b[0;32m   1103\u001b[0m \u001b[38;5;28;01mreturn\u001b[39;00m SimulateOde(\n\u001b[0;32m   1104\u001b[0m                    [\u001b[38;5;28mstr\u001b[39m(s) \u001b[38;5;28;01mfor\u001b[39;00m s \u001b[38;5;129;01min\u001b[39;00m \u001b[38;5;28mself\u001b[39m\u001b[38;5;241m.\u001b[39m_stateList],\n\u001b[0;32m   1105\u001b[0m                    [\u001b[38;5;28mstr\u001b[39m(p) \u001b[38;5;28;01mfor\u001b[39;00m p \u001b[38;5;129;01min\u001b[39;00m \u001b[38;5;28mself\u001b[39m\u001b[38;5;241m.\u001b[39m_paramList],\n\u001b[1;32m   (...)\u001b[0m\n\u001b[0;32m   1108\u001b[0m                    birth_death\u001b[38;5;241m=\u001b[39mbdList\n\u001b[0;32m   1109\u001b[0m                    )\n",
      "File \u001b[1;32mc:\\users\\joseph.gibson\\pygom\\pygom\\model\\simulate.py:1151\u001b[0m, in \u001b[0;36mSimulateOde.get_bd_from_ode\u001b[1;34m(self, A)\u001b[0m\n\u001b[0;32m   1149\u001b[0m \u001b[38;5;28mprint\u001b[39m(A)\n\u001b[0;32m   1150\u001b[0m \u001b[38;5;28;01mif\u001b[39;00m \u001b[38;5;28mlen\u001b[39m(bdList) \u001b[38;5;241m>\u001b[39m \u001b[38;5;241m0\u001b[39m:\n\u001b[1;32m-> 1151\u001b[0m     M \u001b[38;5;241m=\u001b[39m \u001b[38;5;28;43mself\u001b[39;49m\u001b[38;5;241;43m.\u001b[39;49m\u001b[43m_generateTransitionMatrix\u001b[49m\u001b[43m(\u001b[49m\u001b[43mA\u001b[49m\u001b[43m)\u001b[49m\n\u001b[0;32m   1153\u001b[0m     A1 \u001b[38;5;241m=\u001b[39m _ode_composition\u001b[38;5;241m.\u001b[39mpureTransitionToOde(M)\n\u001b[0;32m   1154\u001b[0m     diffA \u001b[38;5;241m=\u001b[39m sympy\u001b[38;5;241m.\u001b[39msimplify(A \u001b[38;5;241m-\u001b[39m A1)\n",
      "File \u001b[1;32mc:\\users\\joseph.gibson\\pygom\\pygom\\model\\simulate.py:1200\u001b[0m, in \u001b[0;36mSimulateOde._generateTransitionMatrix\u001b[1;34m(self, A)\u001b[0m\n\u001b[0;32m   1198\u001b[0m \u001b[38;5;28mprint\u001b[39m(\u001b[38;5;124m\"\u001b[39m\u001b[38;5;124mGenerate Transition Matrix\u001b[39m\u001b[38;5;124m\"\u001b[39m)\n\u001b[0;32m   1199\u001b[0m \u001b[38;5;28mprint\u001b[39m(A)\n\u001b[1;32m-> 1200\u001b[0m bdList, _term \u001b[38;5;241m=\u001b[39m \u001b[43m_ode_composition\u001b[49m\u001b[38;5;241;43m.\u001b[39;49m\u001b[43mgetUnmatchedExpressionVector\u001b[49m\u001b[43m(\u001b[49m\u001b[43mA\u001b[49m\u001b[43m,\u001b[49m\u001b[43m \u001b[49m\u001b[38;5;28;43;01mTrue\u001b[39;49;00m\u001b[43m)\u001b[49m\n\u001b[0;32m   1201\u001b[0m fx \u001b[38;5;241m=\u001b[39m _ode_composition\u001b[38;5;241m.\u001b[39mstripBDFromOde(A, bdList)\n\u001b[0;32m   1202\u001b[0m states \u001b[38;5;241m=\u001b[39m [s \u001b[38;5;28;01mfor\u001b[39;00m s \u001b[38;5;129;01min\u001b[39;00m \u001b[38;5;28mself\u001b[39m\u001b[38;5;241m.\u001b[39m_iterStateList()]\n",
      "File \u001b[1;32mc:\\users\\joseph.gibson\\pygom\\pygom\\model\\_ode_composition.py:37\u001b[0m, in \u001b[0;36mgetUnmatchedExpressionVector\u001b[1;34m(expr_vec, full_output)\u001b[0m\n\u001b[0;32m     35\u001b[0m \u001b[38;5;28mprint\u001b[39m(\u001b[38;5;124m\"\u001b[39m\u001b[38;5;124mGet unmatched\u001b[39m\u001b[38;5;124m\"\u001b[39m)\n\u001b[0;32m     36\u001b[0m \u001b[38;5;28mprint\u001b[39m(expr_vec)\n\u001b[1;32m---> 37\u001b[0m \u001b[38;5;28;01massert\u001b[39;00m \u001b[38;5;28misinstance\u001b[39m(expr_vec, MatrixBase), \\\n\u001b[0;32m     38\u001b[0m     \u001b[38;5;124m\"\u001b[39m\u001b[38;5;124mExpecting a vector of expressions\u001b[39m\u001b[38;5;124m\"\u001b[39m\n\u001b[0;32m     40\u001b[0m transition \u001b[38;5;241m=\u001b[39m reduce(\u001b[38;5;28;01mlambda\u001b[39;00m x, y: x \u001b[38;5;241m+\u001b[39m y, \u001b[38;5;28mmap\u001b[39m(getExpressions, expr_vec))\n\u001b[0;32m     41\u001b[0m matched_transition_list \u001b[38;5;241m=\u001b[39m _findMatchingExpression(transition)\n",
      "\u001b[1;31mAssertionError\u001b[0m: Expecting a vector of expressions"
     ]
    }
   ],
   "source": [
    "model = model.get_unrolled_obj()"
   ]
  },
  {
   "cell_type": "markdown",
   "id": "5e3c78c4",
   "metadata": {},
   "source": [
    "and can verify that the calculated transition matrix now matches what we would expect:"
   ]
  },
  {
   "cell_type": "code",
   "execution_count": null,
   "id": "5750fc80",
   "metadata": {},
   "outputs": [],
   "source": [
    "model.get_transition_matrix()"
   ]
  },
  {
   "cell_type": "markdown",
   "id": "a373d4c1",
   "metadata": {},
   "source": [
    "Birth and death processes are not between states, rather into and out of the system and so do not appear in the transition matrix.\n",
    "We could always get around this by defining another class (perhaps **U**nliving) as a limitless reservoir where births may come from and deaths may flow into.\n",
    "Alternatively, we can view the birth and death processes by inspecting a graph of the transitions."
   ]
  },
  {
   "cell_type": "code",
   "execution_count": null,
   "id": "8251b87f",
   "metadata": {},
   "outputs": [],
   "source": [
    "model.get_transition_graph();"
   ]
  },
  {
   "cell_type": "markdown",
   "id": "98da24d0",
   "metadata": {},
   "source": [
    "## SLIAR epidemic model\n",
    "\n",
    "Now we turn to a problem that does not have a one to one mapping between all the transitions and the terms in the ODEs.\n",
    "In this model, **S**usceptible individuals may be infected and enter a **L**atent phase.\n",
    "The rate at which individuals leave this state is $\\kappa$, after which a fraction, $p$, become **I**nfective and the remaining, $(1-p)$, become **A**symptomatic.\n",
    "Both these classes are capable of onward transmission, however, those in the **A** class have infectivity reduced by a factor $\\delta$ relative to the **I** class.\n",
    "All **A**symptomatics eventually become **R**emoved at a rate $\\eta$, whereas a fraction, $f$, of the infectives recover, the remaining $(1-f)$ going on to die (both at a rate $\\alpha$).\n",
    "\n",
    "The equations are as follows:\n",
    "\n",
    "$$\\begin{aligned}\n",
    "\\frac{\\mathrm{d}S}{\\mathrm{d}t} &= -\\beta S (I + \\delta A) \\\\    \n",
    "\\frac{\\mathrm{d}L}{\\mathrm{d}t} &= \\beta S (I + \\delta A) - \\kappa L \\\\  \n",
    "\\frac{\\mathrm{d}I}{\\mathrm{d}t} &= p \\kappa L - \\alpha I \\\\\n",
    "\\frac{\\mathrm{d}A}{\\mathrm{d}t} &= (1 - p) \\kappa L - \\eta A \\\\\n",
    "\\frac{\\mathrm{d}R}{\\mathrm{d}t} &= f \\alpha I + \\eta A \\\\\n",
    "\\end{aligned}$$\n",
    "\n",
    "In this case, the potential difficulty comes from the outflows of state **L** and **I**.\n",
    "For **L**, this is composed of two transitions, one to **I** and the other to **A** but the ODE of **L** only reflects the total flow going out of the state.\n",
    "Similarly for **I**, the outflow, $\\alpha I$, is partitioned as $f \\alpha I$ into state **R** with the rest assumed dead, though not explicitly stated in the equations.\n",
    "\n",
    "We set up the {class}`.SimulateOde` object for this case:"
   ]
  },
  {
   "cell_type": "code",
   "execution_count": null,
   "id": "280c4be4",
   "metadata": {},
   "outputs": [],
   "source": [
    "from pygom import SimulateOde, Transition, TransitionType\n",
    "\n",
    "stateList = ['S', 'L', 'I', 'A', 'R']\n",
    "paramList = ['beta', 'p', 'kappa', 'alpha', 'f', 'delta', 'eta']\n",
    "odeList = [Transition(origin='S', equation='- beta*S*(I + delta*A)', transition_type=TransitionType.ODE), \n",
    "           Transition(origin='L', equation='beta*S*(I + delta*A) - kappa*L', transition_type=TransitionType.ODE),\n",
    "           Transition(origin='I', equation='p*kappa*L - alpha*I', transition_type=TransitionType.ODE),\n",
    "           Transition(origin='A', equation='(1 - p)*kappa*L - eta*A', transition_type=TransitionType.ODE),\n",
    "           Transition(origin='R', equation='f*alpha*I + eta*A', transition_type=TransitionType.ODE)]\n",
    "model = SimulateOde(stateList, paramList, ode=odeList)"
   ]
  },
  {
   "cell_type": "markdown",
   "id": "690b0785",
   "metadata": {},
   "source": [
    "Deducing the transitions and inspecting the resulting transition graph:"
   ]
  },
  {
   "cell_type": "code",
   "execution_count": null,
   "id": "1b6cb187",
   "metadata": {},
   "outputs": [],
   "source": [
    "model = model.get_unrolled_obj()\n",
    "model.get_transition_graph();"
   ]
  },
  {
   "cell_type": "markdown",
   "id": "00742616",
   "metadata": {},
   "source": [
    "We notice that the **L** outflow has been captured, but the outflow from **I** is assumed to be a full death process of which a fraction are born into the recovered state.\n",
    "This appearance of an incorrect, but still consistent, configuration demonstrates the difficulty in performing such reverse engineering.\n",
    "One work-around is if we explicitly introduce a dead state, $D$:"
   ]
  },
  {
   "cell_type": "code",
   "execution_count": null,
   "id": "59ce2a8a",
   "metadata": {},
   "outputs": [],
   "source": [
    "stateList = ['S', 'L', 'I', 'A', 'R', 'D']\n",
    "paramList = ['beta', 'p', 'kappa', 'alpha', 'f', 'delta', 'eta']\n",
    "odeList = [Transition(origin='S', equation='- beta*S*(I + delta*A)', transition_type=TransitionType.ODE), \n",
    "           Transition(origin='L', equation='beta*S*(I + delta*A) - kappa*L', transition_type=TransitionType.ODE),\n",
    "           Transition(origin='I', equation='p*kappa*L - alpha*I', transition_type=TransitionType.ODE),\n",
    "           Transition(origin='A', equation='(1 - p)*kappa*L - eta*A', transition_type=TransitionType.ODE),\n",
    "           Transition(origin='R', equation='f*alpha*I + eta*A', transition_type=TransitionType.ODE),\n",
    "           Transition(origin='D', equation='(1-f)*alpha*I', transition_type=TransitionType.ODE)]\n",
    "model = SimulateOde(stateList, paramList, ode=odeList)\n",
    "model = model.get_unrolled_obj()\n",
    "model.get_transition_graph();"
   ]
  }
 ],
 "metadata": {
  "kernelspec": {
   "display_name": "Python 3.9.15 ('sphinx-doc')",
   "language": "python",
   "name": "python3"
  },
  "language_info": {
   "codemirror_mode": {
    "name": "ipython",
    "version": 3
   },
   "file_extension": ".py",
   "mimetype": "text/x-python",
   "name": "python",
   "nbconvert_exporter": "python",
   "pygments_lexer": "ipython3",
   "version": "3.9.19"
  },
  "vscode": {
   "interpreter": {
    "hash": "4dc1e323c80fe09539c74ad5c5a7c7d8d9ff99e04f7b3dbd3680daf878629d6e"
   }
  }
 },
 "nbformat": 4,
 "nbformat_minor": 5
}
