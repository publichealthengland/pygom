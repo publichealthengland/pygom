{
 "cells": [
  {
   "cell_type": "markdown",
   "metadata": {},
   "source": [
    "# Solving Boundary Value Problems\n",
    "\n",
    "In addition to finding solutions for an initial value problem (IVP) and estimating the unknown\n",
    "parameters, this package also allows you to solve boundary value problems (BVP) with a little bit\n",
    "of imagination. Here, we are going to show how a BVP can be solved by\n",
    "treating it as a parameter estimation problem. Essentially, a shooting\n",
    "method where the first boundary condition defines the initial condition\n",
    "of an IVP and the second boundary condition is an observation. Two\n",
    "examples, both from the [bvp4c implementation in MATLAB](https://uk.mathworks.com/help/matlab/ref/bvp4c.html), are demonstrated here.\n",
    "\n",
    "\n",
    "```{note}\n",
    "These examples are general and not specific to disease scenarios.\n",
    "```"
   ]
  },
  {
   "cell_type": "markdown",
   "id": "1cfce26c",
   "metadata": {},
   "source": [
    "\n",
    "## Simple model 1\n",
    "\n",
    "We are trying to find the solution to the second order differential\n",
    "equation\n",
    "\n",
    "$$\\nabla^{2} y + |y| = 0$$\n",
    "\n",
    "subject to the boundary conditions $y(0) = 0$ and $y(4) = -2$. Convert\n",
    "this into a set of first order ODEs\n",
    "\n",
    "$$\\begin{aligned}\n",
    "\\frac{d y_{0}}{dt} &= y_{1} \\\\\n",
    "\\frac{d y_{1}}{dt} &= -|y_{0}|\n",
    "\\end{aligned}$$\n",
    "\n",
    "using an auxiliary variable $y_{1} = \\nabla y$ and $y_{0} = y$. \n",
    "Here we set up the system."
   ]
  },
  {
   "cell_type": "code",
   "execution_count": null,
   "id": "594a9de8",
   "metadata": {},
   "outputs": [],
   "source": [
    "from pygom import Transition, TransitionType, DeterministicOde, SquareLoss\n",
    "\n",
    "import matplotlib.pyplot as plt\n",
    "\n",
    "stateList = ['y0', 'y1']\n",
    "\n",
    "paramList = []\n",
    "\n",
    "ode1 = Transition(origin='y0', equation='y1', transition_type=TransitionType.ODE)\n",
    "\n",
    "ode2 = Transition(origin='y1', equation='-abs(y0)', transition_type=TransitionType.ODE)\n",
    "\n",
    "model = DeterministicOde(stateList, paramList, ode=[ode1, ode2])\n",
    "\n",
    "model.get_ode_eqn()"
   ]
  },
  {
   "cell_type": "markdown",
   "id": "9456e756",
   "metadata": {},
   "source": [
    "We check that the equations are correct before proceeding to set up our\n",
    "loss function. The loss function enables us to optimize the parameter choice.\n",
    "\n",
    "#TODO add some ref/notes for loss functions"
   ]
  },
  {
   "cell_type": "code",
   "execution_count": null,
   "id": "9ae19c03",
   "metadata": {},
   "outputs": [],
   "source": [
    "import numpy\n",
    "\n",
    "from scipy.optimize import minimize\n",
    "\n",
    "initialState = [0.0, 1.0]\n",
    "\n",
    "t = numpy.linspace(0, 4, 100)\n",
    "\n",
    "model.initial_values = (initialState, t[0])\n",
    "\n",
    "solution = model.integrate(t[1::])"
   ]
  },
  {
   "cell_type": "code",
   "execution_count": null,
   "id": "3952c813",
   "metadata": {
    "tags": [
     "hide"
    ]
   },
   "outputs": [],
   "source": [
    "f = plt.figure()\n",
    "model.plot()\n",
    "plt.close()"
   ]
  },
  {
   "cell_type": "markdown",
   "id": "1a6de472",
   "metadata": {},
   "source": [
    "\n",
    "Setting up the second boundary condition $y(4) = -2$ is easy, because\n",
    "that is only a single observation attached to the state $y_{1}$.\n",
    "Enforcing the first boundary condition requires us to set it as the\n",
    "initial condition. Because the condition only states that $y(0) = 0$,\n",
    "the starting value of the other state $y_1$ is free. We let our loss\n",
    "object know that it is free through the `targetState` input argument.\n",
    "\n",
    "#TODO unsure what this means"
   ]
  },
  {
   "cell_type": "code",
   "execution_count": null,
   "id": "aaf5a503",
   "metadata": {},
   "outputs": [],
   "source": [
    "theta = [0.0]\n",
    "\n",
    "obj = SquareLoss(theta=theta, ode=model, x0=initialState, t0=t[0], \n",
    "                t=t[-1], y=[-2], state_name=['y0'], target_state=['y1'])\n",
    "\n",
    "thetaHat = minimize(fun=obj.costIV, x0=[0.0])\n",
    "\n",
    "print(thetaHat)\n",
    "\n",
    "model.initial_values = ([0.0] + thetaHat['x'].tolist(), t[0])\n",
    "\n",
    "solution = model.integrate(t[1::])"
   ]
  },
  {
   "cell_type": "code",
   "execution_count": null,
   "id": "bffe9f2f",
   "metadata": {},
   "outputs": [],
   "source": [
    "f = plt.figure()\n",
    "model.plot()\n",
    "plt.close()"
   ]
  },
  {
   "cell_type": "markdown",
   "id": "472ff583",
   "metadata": {},
   "source": [
    "\n",
    "We are going to visualize the solution, and also check the boundary\n",
    "condition. The first became our initial condition, so it is always\n",
    "satisfied and only the latter is of concern, which is zero (subject to\n",
    "numerical error) from thetahat.\n",
    "\n",
    "#TODO what is thetahat?"
   ]
  },
  {
   "cell_type": "markdown",
   "id": "85032ca8",
   "metadata": {},
   "source": [
    "\n",
    "## Simple model 2\n",
    "\n",
    "Our second example is different as it involves an actual parameter and\n",
    "also time. We have the Mathieu's Equation\n",
    "\n",
    "#TODO add ref\n",
    "\n",
    "$$\\nabla^{2} y + \\left(p - 2q \\cos(2x)\\right)y = 0$$\n",
    "\n",
    "and the aim is to compute the fourth eigenvalue $q=5$. There are three\n",
    "boundary conditions\n",
    "\n",
    "$$\\nabla y(0) = 0, \\quad \\nabla y(\\pi) = 0, \\quad y(0) = 1$$\n",
    "\n",
    "and we aim to solve it by converting it to a first order ODE and tackle\n",
    "it as an IVP. As our model object does not allow the use of the time\n",
    "component in the equations, we introduce a anxiliary state $\\tau$ that\n",
    "replaces time $t$. Rewrite the equations using\n",
    "$y_{0} = y, y_{1} = \\nabla y$ and define our model as"
   ]
  },
  {
   "cell_type": "code",
   "execution_count": null,
   "id": "afcf4558",
   "metadata": {},
   "outputs": [],
   "source": [
    "stateList = ['y0', 'y1', 'tau']\n",
    "\n",
    "IparamList = ['p']\n",
    "\n",
    "ode1 = Transition('y0', 'y1', TransitionType.ODE)\n",
    "\n",
    "ode2 = Transition('y1', '-(p - 2*5*cos(2*tau))*y0', TransitionType.ODE)\n",
    "\n",
    "ode3 = Transition('tau', '1', TransitionType.ODE)\n",
    "\n",
    "model = DeterministicOde(stateList, paramList, ode=[ode1, ode2, ode3])\n",
    "\n",
    "theta = [1.0, 1.0, 0.0]\n",
    "\n",
    "p = 15.0\n",
    "\n",
    "t = numpy.linspace(0, numpy.pi)\n",
    "\n",
    "model.parameters = [('p',p)]\n",
    "\n",
    "model.initial_values = (theta, t[0])\n",
    "\n",
    "solution = model.integrate(t[1::])"
   ]
  },
  {
   "cell_type": "code",
   "execution_count": null,
   "id": "c75eea5c",
   "metadata": {},
   "outputs": [],
   "source": [
    "f = plt.figure()\n",
    "model.plot()\n",
    "plt.close()"
   ]
  },
  {
   "cell_type": "markdown",
   "id": "1e1407cf",
   "metadata": {},
   "source": [
    "\n",
    "Now we are ready to setup the estimation. Like before, we set up the\n",
    "second boundary condition by pretending that it is an observation. We\n",
    "have all the initial conditions defined by the first boundary condition."
   ]
  },
  {
   "cell_type": "code",
   "execution_count": null,
   "id": "110edf3a",
   "metadata": {},
   "outputs": [],
   "source": [
    "obj = SquareLoss(15.0, model, x0=[1.0, 0.0, 0.0], t0=0.0, \n",
    "                 t=numpy.pi, y=0.0, state_name='y1')\n",
    "\n",
    "xhatObj = minimize(obj.cost,[15])\n",
    "\n",
    "print(xhatObj)\n",
    "\n",
    "model.parameters = [('p', xhatObj['x'][0])]\n",
    "\n",
    "model.initial_values = ([1.0, 0.0, 0.0], t[0])\n",
    "\n",
    "solution = model.integrate(t[1::])"
   ]
  },
  {
   "cell_type": "code",
   "execution_count": null,
   "id": "653c998f",
   "metadata": {},
   "outputs": [],
   "source": [
    "f = plt.figure()\n",
    "\n",
    "model.plot()\n",
    "\n",
    "plt.close()"
   ]
  },
  {
   "cell_type": "markdown",
   "id": "f3719cf8",
   "metadata": {},
   "source": [
    "\n",
    "The plot of the solution shows the path that satisfies all boundary\n",
    "condition. The last subplot is time, which is redundant here but\n",
    "the `DeterministicOde.plot` method is not yet able to recognize the time\n",
    "component. Possible speed up can be achieved through the use of\n",
    "derivative information or via the root finding method that tackles the\n",
    "gradient directly, instead of the cost function.\n",
    "\n",
    "#TODO add meth/fun/class refs for root finding method, derivative"
   ]
  },
  {
   "cell_type": "markdown",
   "id": "cb79c4f6",
   "metadata": {},
   "source": [
    "\n",
    "**Reference**\n",
    "\n",
    "[1] <http://uk.mathworks.com/help/matlab/ref/bvp4c.html>"
   ]
  },
  {
   "cell_type": "markdown",
   "id": "ef9004bd",
   "metadata": {},
   "source": []
  }
 ],
 "metadata": {
  "kernelspec": {
   "display_name": "Python 3.9.15 ('sphinx-doc')",
   "language": "python",
   "name": "python3"
  },
  "language_info": {
   "name": "python",
   "version": "3.9.15"
  },
  "vscode": {
   "interpreter": {
    "hash": "4dc1e323c80fe09539c74ad5c5a7c7d8d9ff99e04f7b3dbd3680daf878629d6e"
   }
  }
 },
 "nbformat": 4,
 "nbformat_minor": 5
}
